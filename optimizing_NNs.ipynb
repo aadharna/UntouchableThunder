{
 "cells": [
  {
   "cell_type": "code",
   "execution_count": 1,
   "metadata": {},
   "outputs": [],
   "source": [
    "def show_state(env, step=0, name=\"\", info=\"\"):\n",
    "    \"\"\"Fn to visualize the agent playing the game in a notebook\n",
    "    \"\"\"\n",
    "    plt.figure(10)\n",
    "    plt.clf()\n",
    "    plt.imshow(env.render(mode=\"rgb_array\"))\n",
    "    plt.title(\"{} | Step: {} {}\".format(name, step, info))\n",
    "    plt.axis('off')\n",
    "    display.clear_output(wait=True)\n",
    "    display.display(plt.gcf())"
   ]
  },
  {
   "cell_type": "code",
   "execution_count": 2,
   "metadata": {},
   "outputs": [],
   "source": [
    "import torch\n",
    "from scipy import optimize\n",
    "import torch.nn.functional as F\n",
    "import math\n",
    "import numpy as np\n",
    "from functools import reduce\n",
    "from collections import OrderedDict\n",
    "\n",
    "class PyTorchObjective(object):\n",
    "    \"\"\"PyTorch objective function, wrapped to be called by scipy.optimize.\"\"\"\n",
    "    def __init__(self, agent):\n",
    "        self.f = agent.nn # some pytorch module, that produces a scalar loss\n",
    "        # make an x0 from the parameters in this module\n",
    "        parameters = OrderedDict(agent.nn.named_parameters())\n",
    "        self.param_shapes = {n:parameters[n].size() for n in parameters}\n",
    "        # ravel and concatenate all parameters to make x0\n",
    "        self.x0 = np.concatenate([parameters[n].data.numpy().ravel() \n",
    "                                   for n in parameters])\n",
    "        \n",
    "        self.eval_fn = agent.evaluate\n",
    "        self.c = 0\n",
    "\n",
    "    def unpack_parameters(self, x):\n",
    "        \"\"\"optimize.minimize will supply 1D array, chop it up for each parameter.\"\"\"\n",
    "        i = 0\n",
    "        named_parameters = OrderedDict()\n",
    "        for n in self.param_shapes:\n",
    "            param_len = reduce(lambda x,y: x*y, self.param_shapes[n])\n",
    "            # slice out a section of this length\n",
    "            param = x[i:i+param_len]\n",
    "            # reshape according to this size, and cast to torch\n",
    "            param = param.reshape(*self.param_shapes[n])\n",
    "            named_parameters[n] = torch.from_numpy(param)\n",
    "            # update index\n",
    "            i += param_len\n",
    "        return named_parameters\n",
    "\n",
    "    def pack_grads(self):\n",
    "        \"\"\"pack all the gradients from the parameters in the module into a\n",
    "        numpy array.\"\"\"\n",
    "        grads = []\n",
    "        for p in self.f.parameters():\n",
    "            grad = p.grad.data.numpy()\n",
    "            grads.append(grad.ravel())\n",
    "        return np.concatenate(grads)\n",
    "\n",
    "    def is_new(self, x):\n",
    "        # if this is the first thing we've seen\n",
    "        if not hasattr(self, 'cached_x'):\n",
    "            return True\n",
    "        else:\n",
    "            # compare x to cached_x to determine if we've been given a new input\n",
    "            x, self.cached_x = np.array(x), np.array(self.cached_x)\n",
    "            error = np.abs(x - self.cached_x)\n",
    "            return error.max() > 1e-8\n",
    "\n",
    "    def cache(self, x):\n",
    "        # unpack x and load into module \n",
    "        state_dict = self.unpack_parameters(x)\n",
    "        self.f.load_state_dict(state_dict)\n",
    "        # store the raw array as well\n",
    "        self.cached_x = x\n",
    "        # zero the gradient\n",
    "        self.f.zero_grad()\n",
    "        # use it to calculate the objective\n",
    "        score = self.eval_fn()\n",
    "        self.cached_score = score\n",
    "\n",
    "    def fun(self, x):\n",
    "        self.c += 1\n",
    "        if self.is_new(x):\n",
    "            self.cache(x)\n",
    "        if self.c % 10 == 0:\n",
    "            print(f\"achieved score of: {self.cached_score} on {self.c}\")\n",
    "        return self.cached_score"
   ]
  },
  {
   "cell_type": "code",
   "execution_count": null,
   "metadata": {},
   "outputs": [],
   "source": []
  },
  {
   "cell_type": "code",
   "execution_count": null,
   "metadata": {},
   "outputs": [],
   "source": []
  },
  {
   "cell_type": "code",
   "execution_count": 3,
   "metadata": {},
   "outputs": [],
   "source": [
    "import gym_gvgai"
   ]
  },
  {
   "cell_type": "code",
   "execution_count": 4,
   "metadata": {},
   "outputs": [],
   "source": [
    "from agent.NNagent import NNagent"
   ]
  },
  {
   "cell_type": "code",
   "execution_count": 5,
   "metadata": {},
   "outputs": [],
   "source": [
    "from generator.env_gen_wrapper import GridGame"
   ]
  },
  {
   "cell_type": "code",
   "execution_count": 6,
   "metadata": {},
   "outputs": [],
   "source": [
    "from scipy.optimize import Bounds"
   ]
  },
  {
   "cell_type": "code",
   "execution_count": 7,
   "metadata": {},
   "outputs": [],
   "source": [
    "import matplotlib.pyplot as plt\n",
    "from IPython import display\n"
   ]
  },
  {
   "cell_type": "code",
   "execution_count": 8,
   "metadata": {},
   "outputs": [],
   "source": [
    "import matplotlib.pyplot as plt\n"
   ]
  },
  {
   "cell_type": "code",
   "execution_count": 9,
   "metadata": {},
   "outputs": [
    {
     "name": "stdout",
     "output_type": "stream",
     "text": [
      "Connecting to host 127.0.0.1 at port 53847 ...\n",
      "Client connected to server [OK]\n"
     ]
    }
   ],
   "source": [
    "_x = NNagent(GridGame(game='zelda', \n",
    "                     play_length=250,\n",
    "                     path=gym_gvgai.dir + '/envs/games/zelda_v0/', \n",
    "                     lvl_name='zelda_lvl0.txt', \n",
    "                     mechanics=['1', '2', '3', '+', 'g', 'w'], # monsters, key, door, wall\n",
    "                  )\n",
    "         )"
   ]
  },
  {
   "cell_type": "code",
   "execution_count": 10,
   "metadata": {},
   "outputs": [
    {
     "data": {
      "text/plain": [
       "<matplotlib.image.AxesImage at 0x7f44d542e470>"
      ]
     },
     "execution_count": 10,
     "metadata": {},
     "output_type": "execute_result"
    },
    {
     "data": {
      "image/png": "[encoded data removed]",
      "text/plain": [
       "<Figure size 432x288 with 1 Axes>"
      ]
     },
     "metadata": {
      "needs_background": "light"
     },
     "output_type": "display_data"
    }
   ],
   "source": [
    "plt.imshow(_x.env.env.reset())"
   ]
  },
  {
   "cell_type": "code",
   "execution_count": null,
   "metadata": {},
   "outputs": [],
   "source": [
    "_x.nn = torch.load(\"./25_gen_weights_5_5.pt\")"
   ]
  },
  {
   "cell_type": "code",
   "execution_count": 11,
   "metadata": {},
   "outputs": [
    {
     "data": {
      "text/plain": [
       "Net(\n",
       "  (conv1): Conv2d(14, 8, kernel_size=(3, 3), stride=(1, 1))\n",
       "  (pool): MaxPool2d(kernel_size=2, stride=2, padding=0, dilation=1, ceil_mode=False)\n",
       "  (conv2): Conv2d(8, 32, kernel_size=(3, 3), stride=(1, 1))\n",
       "  (fc1): Linear(in_features=96, out_features=48, bias=True)\n",
       "  (fc2): Linear(in_features=48, out_features=24, bias=True)\n",
       "  (fc3): Linear(in_features=24, out_features=6, bias=True)\n",
       ")"
      ]
     },
     "execution_count": 11,
     "metadata": {},
     "output_type": "execute_result"
    }
   ],
   "source": [
    "_x.nn"
   ]
  },
  {
   "cell_type": "code",
   "execution_count": 12,
   "metadata": {},
   "outputs": [],
   "source": [
    "grid = _x.env.reset()"
   ]
  },
  {
   "cell_type": "code",
   "execution_count": 13,
   "metadata": {},
   "outputs": [
    {
     "data": {
      "text/plain": [
       "(14, 9, 13)"
      ]
     },
     "execution_count": 13,
     "metadata": {},
     "output_type": "execute_result"
    }
   ],
   "source": [
    "grid.shape"
   ]
  },
  {
   "cell_type": "code",
   "execution_count": 14,
   "metadata": {},
   "outputs": [],
   "source": [
    "z = PyTorchObjective(_x)"
   ]
  },
  {
   "cell_type": "code",
   "execution_count": 15,
   "metadata": {},
   "outputs": [
    {
     "data": {
      "text/plain": [
       "(9334,)"
      ]
     },
     "execution_count": 15,
     "metadata": {},
     "output_type": "execute_result"
    }
   ],
   "source": [
    "z.x0.shape\n"
   ]
  },
  {
   "cell_type": "code",
   "execution_count": 16,
   "metadata": {},
   "outputs": [],
   "source": [
    "bounds = [(-5, 5)]*z.x0.shape[0]"
   ]
  },
  {
   "cell_type": "code",
   "execution_count": 17,
   "metadata": {},
   "outputs": [],
   "source": [
    "from utils.diff_evo import differential_evolution"
   ]
  },
  {
   "cell_type": "code",
   "execution_count": 18,
   "metadata": {
    "scrolled": true
   },
   "outputs": [
    {
     "name": "stdout",
     "output_type": "stream",
     "text": [
      "100\n",
      "achieved score of: -0.0 on 10\n",
      "achieved score of: -0.0 on 20\n",
      "achieved score of: -0.0 on 30\n",
      "achieved score of: -0.0 on 40\n",
      "achieved score of: -0.0 on 50\n",
      "achieved score of: -0.0 on 60\n",
      "achieved score of: -0.0 on 70\n",
      "achieved score of: -0.0 on 80\n",
      "achieved score of: -0.0 on 90\n",
      "achieved score of: -0.0 on 100\n",
      "achieved score of: -0.0 on 110\n",
      "achieved score of: -0.0 on 120\n",
      "achieved score of: -0.0 on 130\n",
      "achieved score of: -0.0 on 140\n",
      "achieved score of: -0.0 on 150\n",
      "achieved score of: -0.0 on 160\n",
      "achieved score of: -0.0 on 170\n",
      "achieved score of: -0.0 on 180\n",
      "achieved score of: -0.0 on 190\n",
      "achieved score of: -0.0 on 200\n",
      "achieved score of: -0.0 on 210\n",
      "achieved score of: -0.0 on 220\n",
      "achieved score of: -0.0 on 230\n",
      "achieved score of: -0.0 on 240\n",
      "achieved score of: -0.0 on 250\n",
      "achieved score of: -0.0 on 260\n",
      "achieved score of: -0.0 on 270\n",
      "achieved score of: -0.0 on 280\n",
      "achieved score of: -0.0 on 290\n",
      "achieved score of: -1.0 on 300\n",
      "achieved score of: -0.0 on 310\n",
      "achieved score of: -0.0 on 320\n",
      "achieved score of: -0.0 on 330\n",
      "achieved score of: -1.0 on 340\n",
      "achieved score of: -1.0 on 350\n",
      "achieved score of: -0.0 on 360\n",
      "achieved score of: -0.0 on 370\n",
      "achieved score of: -0.0 on 380\n",
      "achieved score of: -1.0 on 390\n",
      "achieved score of: -0.0 on 400\n",
      "achieved score of: -0.0 on 410\n",
      "achieved score of: -1.0 on 420\n",
      "achieved score of: -1.0 on 430\n",
      "achieved score of: -0.0 on 440\n",
      "achieved score of: -0.0 on 450\n",
      "achieved score of: -0.0 on 460\n",
      "achieved score of: -0.0 on 470\n",
      "achieved score of: -0.0 on 480\n",
      "achieved score of: -0.0 on 490\n",
      "achieved score of: -0.0 on 500\n",
      "achieved score of: -1.0 on 510\n",
      "achieved score of: -0.0 on 520\n",
      "achieved score of: -1.0 on 530\n",
      "achieved score of: -1.0 on 540\n",
      "achieved score of: -0.0 on 550\n",
      "achieved score of: -0.0 on 560\n",
      "achieved score of: -0.0 on 570\n",
      "achieved score of: -0.0 on 580\n",
      "achieved score of: -0.0 on 590\n",
      "achieved score of: -0.0 on 600\n",
      "achieved score of: -0.0 on 610\n",
      "achieved score of: -0.0 on 620\n",
      "achieved score of: -0.0 on 630\n",
      "achieved score of: -1.0 on 640\n",
      "achieved score of: -1.0 on 650\n",
      "achieved score of: -0.0 on 660\n",
      "achieved score of: -1.0 on 670\n",
      "achieved score of: -0.0 on 680\n",
      "achieved score of: -0.0 on 690\n",
      "achieved score of: -1.0 on 700\n",
      "achieved score of: -0.0 on 710\n",
      "achieved score of: -1.0 on 720\n",
      "achieved score of: -1.0 on 730\n",
      "achieved score of: -1.0 on 740\n",
      "achieved score of: -1.0 on 750\n",
      "achieved score of: -0.0 on 760\n",
      "achieved score of: -0.0 on 770\n",
      "achieved score of: -0.0 on 780\n",
      "achieved score of: -0.0 on 790\n",
      "achieved score of: -0.0 on 800\n",
      "achieved score of: -1.0 on 810\n",
      "achieved score of: -0.0 on 820\n",
      "achieved score of: -1.0 on 830\n",
      "achieved score of: -0.0 on 840\n",
      "achieved score of: -0.0 on 850\n",
      "achieved score of: -0.0 on 860\n",
      "achieved score of: -1.0 on 870\n",
      "solved env with sc:2.0\n",
      "achieved score of: -0.0 on 880\n",
      "achieved score of: -0.0 on 890\n",
      "achieved score of: -0.0 on 900\n",
      "achieved score of: -0.0 on 910\n",
      "achieved score of: -1.0 on 920\n",
      "achieved score of: -0.0 on 930\n",
      "achieved score of: -0.0 on 940\n",
      "achieved score of: -0.0 on 950\n",
      "achieved score of: -1.0 on 960\n",
      "achieved score of: -0.0 on 970\n",
      "achieved score of: -0.0 on 980\n",
      "achieved score of: -1.0 on 990\n",
      "achieved score of: -0.0 on 1000\n",
      "achieved score of: -0.0 on 1010\n",
      "achieved score of: -0.0 on 1020\n",
      "achieved score of: -0.0 on 1030\n",
      "achieved score of: -0.0 on 1040\n",
      "achieved score of: -1.0 on 1050\n",
      "achieved score of: -0.0 on 1060\n",
      "achieved score of: -0.0 on 1070\n",
      "achieved score of: -0.0 on 1080\n",
      "achieved score of: -0.0 on 1090\n",
      "achieved score of: -0.0 on 1100\n",
      "achieved score of: -0.0 on 1110\n",
      "achieved score of: -1.0 on 1120\n",
      "achieved score of: -0.0 on 1130\n",
      "achieved score of: -0.0 on 1140\n",
      "achieved score of: -1.0 on 1150\n",
      "achieved score of: -0.0 on 1160\n",
      "achieved score of: -0.0 on 1170\n",
      "achieved score of: -0.0 on 1180\n",
      "achieved score of: -1.0 on 1190\n",
      "achieved score of: -0.0 on 1200\n",
      "achieved score of: -0.0 on 1210\n",
      "achieved score of: -0.0 on 1220\n",
      "achieved score of: -0.0 on 1230\n",
      "achieved score of: -0.0 on 1240\n",
      "achieved score of: -0.0 on 1250\n",
      "achieved score of: -0.0 on 1260\n",
      "achieved score of: -1.0 on 1270\n",
      "achieved score of: -0.0 on 1280\n",
      "achieved score of: -1.0 on 1290\n",
      "achieved score of: -1.0 on 1300\n",
      "achieved score of: -0.0 on 1310\n",
      "achieved score of: -0.0 on 1320\n",
      "achieved score of: -0.0 on 1330\n",
      "achieved score of: -0.0 on 1340\n",
      "achieved score of: -1.0 on 1350\n",
      "achieved score of: -0.0 on 1360\n",
      "achieved score of: -0.0 on 1370\n",
      "achieved score of: -0.0 on 1380\n",
      "achieved score of: -0.0 on 1390\n",
      "achieved score of: -0.0 on 1400\n",
      "achieved score of: -0.0 on 1410\n",
      "achieved score of: -0.0 on 1420\n",
      "achieved score of: -0.0 on 1430\n",
      "achieved score of: -0.0 on 1440\n",
      "achieved score of: -0.0 on 1450\n",
      "achieved score of: -0.0 on 1460\n",
      "achieved score of: -0.0 on 1470\n",
      "achieved score of: -0.0 on 1480\n",
      "achieved score of: -0.0 on 1490\n",
      "achieved score of: -0.0 on 1500\n",
      "achieved score of: -1.0 on 1510\n",
      "achieved score of: -0.0 on 1520\n",
      "achieved score of: -0.0 on 1530\n",
      "achieved score of: -1.0 on 1540\n",
      "achieved score of: -1.0 on 1550\n",
      "achieved score of: -0.0 on 1560\n",
      "achieved score of: -0.0 on 1570\n",
      "achieved score of: -1.0 on 1580\n",
      "achieved score of: -0.0 on 1590\n",
      "achieved score of: -0.0 on 1600\n",
      "achieved score of: -0.0 on 1610\n",
      "achieved score of: -1.0 on 1620\n",
      "achieved score of: -0.0 on 1630\n",
      "achieved score of: -0.0 on 1640\n",
      "achieved score of: -0.0 on 1650\n",
      "achieved score of: -0.0 on 1660\n",
      "achieved score of: -0.0 on 1670\n",
      "achieved score of: -0.0 on 1680\n",
      "achieved score of: -0.0 on 1690\n",
      "achieved score of: -0.0 on 1700\n",
      "achieved score of: -0.0 on 1710\n",
      "achieved score of: -0.0 on 1720\n",
      "achieved score of: -0.0 on 1730\n",
      "achieved score of: -0.0 on 1740\n",
      "achieved score of: -1.0 on 1750\n",
      "achieved score of: -1.0 on 1760\n",
      "achieved score of: -0.0 on 1770\n",
      "achieved score of: -0.0 on 1780\n",
      "achieved score of: -0.0 on 1790\n",
      "achieved score of: -0.0 on 1800\n",
      "achieved score of: -0.0 on 1810\n",
      "achieved score of: -0.0 on 1820\n",
      "achieved score of: -0.0 on 1830\n",
      "achieved score of: -1.0 on 1840\n",
      "achieved score of: -0.0 on 1850\n",
      "achieved score of: -0.0 on 1860\n",
      "achieved score of: -0.0 on 1870\n",
      "achieved score of: -0.0 on 1880\n",
      "achieved score of: -0.0 on 1890\n",
      "achieved score of: -0.0 on 1900\n",
      "achieved score of: -0.0 on 1910\n",
      "achieved score of: -0.0 on 1920\n",
      "achieved score of: -0.0 on 1930\n",
      "achieved score of: -0.0 on 1940\n",
      "achieved score of: -0.0 on 1950\n",
      "achieved score of: -0.0 on 1960\n",
      "achieved score of: -0.0 on 1970\n",
      "achieved score of: -0.0 on 1980\n",
      "achieved score of: -0.0 on 1990\n",
      "achieved score of: -0.0 on 2000\n",
      "achieved score of: -1.0 on 2010\n",
      "achieved score of: -1.0 on 2020\n",
      "achieved score of: -0.0 on 2030\n",
      "achieved score of: -0.0 on 2040\n",
      "achieved score of: -0.0 on 2050\n",
      "achieved score of: -1.0 on 2060\n",
      "achieved score of: -0.0 on 2070\n",
      "achieved score of: -0.0 on 2080\n",
      "achieved score of: -0.0 on 2090\n",
      "achieved score of: -1.0 on 2100\n",
      "achieved score of: -0.0 on 2110\n",
      "achieved score of: -0.0 on 2120\n",
      "achieved score of: -1.0 on 2130\n",
      "achieved score of: -0.0 on 2140\n",
      "achieved score of: -0.0 on 2150\n",
      "achieved score of: -0.0 on 2160\n",
      "achieved score of: -0.0 on 2170\n",
      "achieved score of: -0.0 on 2180\n",
      "achieved score of: -1.0 on 2190\n",
      "achieved score of: -1.0 on 2200\n",
      "achieved score of: -1.0 on 2210\n",
      "achieved score of: -1.0 on 2220\n",
      "achieved score of: -1.0 on 2230\n",
      "achieved score of: -0.0 on 2240\n",
      "achieved score of: -0.0 on 2250\n",
      "achieved score of: -0.0 on 2260\n",
      "achieved score of: -0.0 on 2270\n",
      "achieved score of: -0.0 on 2280\n",
      "achieved score of: -1.0 on 2290\n",
      "achieved score of: -0.0 on 2300\n",
      "achieved score of: -0.0 on 2310\n",
      "achieved score of: -1.0 on 2320\n",
      "achieved score of: -1.0 on 2330\n",
      "achieved score of: -0.0 on 2340\n",
      "achieved score of: -0.0 on 2350\n",
      "achieved score of: -0.0 on 2360\n",
      "achieved score of: -0.0 on 2370\n",
      "achieved score of: -0.0 on 2380\n",
      "achieved score of: -1.0 on 2390\n",
      "achieved score of: -0.0 on 2400\n",
      "achieved score of: -0.0 on 2410\n",
      "achieved score of: -0.0 on 2420\n",
      "achieved score of: -0.0 on 2430\n",
      "achieved score of: -1.0 on 2440\n",
      "achieved score of: -0.0 on 2450\n",
      "achieved score of: -0.0 on 2460\n",
      "achieved score of: -0.0 on 2470\n",
      "achieved score of: -0.0 on 2480\n",
      "achieved score of: -0.0 on 2490\n",
      "achieved score of: -0.0 on 2500\n",
      "achieved score of: -1.0 on 2510\n",
      "achieved score of: -0.0 on 2520\n",
      "achieved score of: -0.0 on 2530\n",
      "achieved score of: -1.0 on 2540\n",
      "achieved score of: -1.0 on 2550\n",
      "achieved score of: -0.0 on 2560\n",
      "achieved score of: -0.0 on 2570\n",
      "achieved score of: -0.0 on 2580\n",
      "achieved score of: -0.0 on 2590\n"
     ]
    },
    {
     "name": "stdout",
     "output_type": "stream",
     "text": [
      "achieved score of: -0.0 on 2600\n"
     ]
    }
   ],
   "source": [
    "start = time.time()\n",
    "ans = differential_evolution(z.fun, bounds, \n",
    "                             strategy='rand1bin',\n",
    "                             popsize=99, \n",
    "                             maxiter=25,\n",
    "                             polish=False, \n",
    "                             x0=z.x0)"
   ]
  },
  {
   "cell_type": "code",
   "execution_count": 19,
   "metadata": {
    "scrolled": true
   },
   "outputs": [
    {
     "name": "stdout",
     "output_type": "stream",
     "text": [
      "13612.738213300705\n"
     ]
    }
   ],
   "source": [
    "end = time.time() - start\n",
    "print(end)"
   ]
  },
  {
   "cell_type": "code",
   "execution_count": 20,
   "metadata": {},
   "outputs": [
    {
     "data": {
      "text/plain": [
       "     fun: -2.0\n",
       " message: 'Maximum number of iterations has been exceeded.'\n",
       "    nfev: 2600\n",
       "     nit: 25\n",
       " success: False\n",
       "       x: array([-4.69794577,  4.67742861,  3.73084908, ...,  1.8266111 ,\n",
       "        1.73762558, -3.39886246])"
      ]
     },
     "execution_count": 20,
     "metadata": {},
     "output_type": "execute_result"
    }
   ],
   "source": [
    "ans"
   ]
  },
  {
   "cell_type": "code",
   "execution_count": 21,
   "metadata": {},
   "outputs": [],
   "source": [
    "z.x0 = ans.x"
   ]
  },
  {
   "cell_type": "code",
   "execution_count": 22,
   "metadata": {},
   "outputs": [
    {
     "data": {
      "text/plain": [
       "<All keys matched successfully>"
      ]
     },
     "execution_count": 22,
     "metadata": {},
     "output_type": "execute_result"
    }
   ],
   "source": [
    "state_dict = z.unpack_parameters(ans.x)\n",
    "z.f.load_state_dict(state_dict)"
   ]
  },
  {
   "cell_type": "code",
   "execution_count": 23,
   "metadata": {},
   "outputs": [
    {
     "data": {
      "text/plain": [
       "True"
      ]
     },
     "execution_count": 23,
     "metadata": {},
     "output_type": "execute_result"
    }
   ],
   "source": [
    "z.f == _x.nn"
   ]
  },
  {
   "cell_type": "code",
   "execution_count": 27,
   "metadata": {
    "scrolled": false
   },
   "outputs": [
    {
     "data": {
      "image/png": "[encoded data removed]",
      "text/plain": [
       "<Figure size 432x288 with 1 Axes>"
      ]
     },
     "metadata": {},
     "output_type": "display_data"
    },
    {
     "data": {
      "image/png": "[encoded data removed]",
      "text/plain": [
       "<Figure size 432x288 with 1 Axes>"
      ]
     },
     "metadata": {
      "needs_background": "light"
     },
     "output_type": "display_data"
    }
   ],
   "source": [
    "_x.fitness(fn=show_state)"
   ]
  },
  {
   "cell_type": "code",
   "execution_count": 25,
   "metadata": {},
   "outputs": [],
   "source": [
    "_x.vis=None"
   ]
  },
  {
   "cell_type": "code",
   "execution_count": null,
   "metadata": {},
   "outputs": [],
   "source": []
  },
  {
   "cell_type": "code",
   "execution_count": 26,
   "metadata": {},
   "outputs": [],
   "source": [
    "torch.save(_x.nn, \"./25_gen_weights_5_5.pt\")"
   ]
  },
  {
   "cell_type": "code",
   "execution_count": null,
   "metadata": {},
   "outputs": [],
   "source": []
  },
  {
   "cell_type": "markdown",
   "metadata": {},
   "source": [
    "# Note. \n",
    "\n",
    "Moving the key from top right corner to mid left created a slightly simpler env.\n",
    "\n",
    "----  \n",
    "\n",
    "we were not able to learn the good policy if we kept the wieght range as [-2, 2]. \n",
    "\n",
    "Next I am retrying the same starting point but with range [-5, 5]. --> solved extremely simple env with this range and simpler env. \n",
    "\n"
   ]
  },
  {
   "cell_type": "markdown",
   "metadata": {},
   "source": [
    "----  \n",
    "Then moving the key up one spot meant that the agent needs more training. So far it has failed to take the key and get to the goal after an additional 20 generations of training (but does get the key). I am giving it another 20 generations. \n",
    "\n",
    "After the agent learns the new environment (key moved up one spot), I am going to take those weights and put them back into the first env (key moved back down one spot)."
   ]
  },
  {
   "cell_type": "code",
   "execution_count": null,
   "metadata": {},
   "outputs": [],
   "source": []
  }
 ],
 "metadata": {
  "kernelspec": {
   "display_name": "Python 3",
   "language": "python",
   "name": "python3"
  },
  "language_info": {
   "codemirror_mode": {
    "name": "ipython",
    "version": 3
   },
   "file_extension": ".py",
   "mimetype": "text/x-python",
   "name": "python",
   "nbconvert_exporter": "python",
   "pygments_lexer": "ipython3",
   "version": "3.7.3"
  }
 },
 "nbformat": 4,
 "nbformat_minor": 2
}
