{
 "cells": [
  {
   "cell_type": "code",
   "execution_count": 1,
   "metadata": {},
   "outputs": [],
   "source": [
    "\"\"\"\n",
    "Wrappers for VGDL Games\n",
    "\"\"\"\n",
    "import os\n",
    "import csv\n",
    "import random\n",
    "import numpy as np\n",
    "\n",
    "#import timeout_decorator\n",
    "\n",
    "import gym\n",
    "import gym_gvgai\n",
    "\n",
    "#import a2c_ppo_acktr.envs as torch_env\n",
    "\n",
    "from baselines import bench\n",
    "from baselines.common.vec_env.dummy_vec_env import DummyVecEnv\n",
    "from baselines.common.vec_env.shmem_vec_env import ShmemVecEnv\n",
    "from baselines.common.vec_env.vec_normalize import VecNormalize\n",
    "\n",
    "import pdb"
   ]
  },
  {
   "cell_type": "code",
   "execution_count": 17,
   "metadata": {},
   "outputs": [],
   "source": [
    "def make_env(env_def, path, seed, rank, log_dir, allow_early_resets):\n",
    "    def _thunk():\n",
    "        if(path):\n",
    "            env = GridGame(env_def.name, env_def.length, env_def.state_shape, path, id=rank)\n",
    "        else:\n",
    "            env = GridGame(env_def.name, env_def.length, env_def.state_shape, id=rank)\n",
    "\n",
    "        #env.seed(seed + rank)\n",
    "        obs_shape = env.observation_space.shape\n",
    "\n",
    "        if log_dir is not None:\n",
    "            env = bench.Monitor(\n",
    "                env,\n",
    "                os.path.join(log_dir, str(rank)),\n",
    "                allow_early_resets=allow_early_resets)\n",
    "        return env\n",
    "    return _thunk\n",
    "\n",
    "def make_vec_envs(env_def, level_path, seed, num_processes, gamma, log_dir, device, allow_early_resets, num_frame_stack=None):\n",
    "\n",
    "    envs = [make_env(env_def, level_path, seed, i, log_dir, allow_early_resets) for i in range(num_processes)]\n",
    "\n",
    "    if len(envs) > 1:\n",
    "        envs = ShmemVecEnv(envs, context='fork')\n",
    "    else:\n",
    "        envs = DummyVecEnv(envs)\n",
    "\n",
    "    if len(envs.observation_space.shape) == 1:\n",
    "        if gamma is None:\n",
    "            envs = VecNormalize(envs, ret=False)\n",
    "        else:\n",
    "            envs = VecNormalize(envs, gamma=gamma)\n",
    "\n",
    "    envs = torch_env.VecPyTorch(envs, device)\n",
    "\n",
    "    if num_frame_stack is not None:\n",
    "        envs = torch_env.VecPyTorchFrameStack(envs, num_frame_stack, device)\n",
    "    #elif len(envs.observation_space.shape) == 3:\n",
    "    #    envs = torch_env.VecPyTorchFrameStack(envs, 4, device)\n",
    "\n",
    "    return envs\n",
    "\n",
    "#Look at baseline wrappers and make a wrapper file: New vec_wrapper + game_wrapper\n",
    "class GridGame(gym.Wrapper):\n",
    "    def __init__(self, game, play_length, shape, path=None, id=0):\n",
    "        \"\"\"Returns Grid instead of pixels\n",
    "        Sets the reward\n",
    "        Generates new level on reset\n",
    "        #PPO wants to maximize, Generator wants a score of 0\n",
    "        --------\n",
    "        \"\"\"\n",
    "        self.id = id\n",
    "        self.name = game\n",
    "        self.levels = path\n",
    "        self.level_id = 0\n",
    "        self.env = gym_gvgai.make('gvgai-{}-lvl0-v0'.format(game))\n",
    "        gym.Wrapper.__init__(self, self.env)\n",
    "\n",
    "        self.compiles = True\n",
    "        self.state = None\n",
    "        self.steps = 0\n",
    "        self.score = 0\n",
    "        self.play_length = play_length\n",
    "        self.shape = shape\n",
    "        self.observation_space = gym.spaces.Box(low=0, high=1, shape=shape, dtype=np.float32)\n",
    "\n",
    "    def reset(self):\n",
    "        self.steps = 0\n",
    "        self.score = 0\n",
    "        state = self.set_level()\n",
    "        return state\n",
    "\n",
    "    def step(self, action):\n",
    "        action = action.item()\n",
    "        if(not self.compiles):\n",
    "            return self.state, -2, True, {}\n",
    "        _, reward, done, info = self.env.step(action)\n",
    "        if(self.steps >= self.play_length):\n",
    "            done = True\n",
    "        #reward = self.get_reward(done, info[\"winner\"], r) #extra r parameter\n",
    "        state = self.get_state(info['grid'])\n",
    "        self.steps += 1\n",
    "        self.score += reward\n",
    "        return state, reward, done, {}\n",
    "\n",
    "    def get_reward(self, isOver, winner, r):\n",
    "        if(isOver):\n",
    "            if(winner == 'PLAYER_WINS'):\n",
    "                reward = 2 - self.steps/self.play_length\n",
    "            else:\n",
    "                reward = -2 + self.steps/self.play_length\n",
    "            self.log_reward(self.score + reward)\n",
    "            return reward\n",
    "        else:\n",
    "            if(r > 0):\n",
    "                return 0\n",
    "            else:\n",
    "                return 0\n",
    "\n",
    "    def get_state(self, grid):\n",
    "        state = self.pad(grid)\n",
    "        state = self.background(state)\n",
    "        self.state = state.astype('float32')\n",
    "        return state\n",
    "\n",
    "    def set_level(self):\n",
    "        if(self.levels and random.randint(1,5) < 5):\n",
    "            level_names = [file for file in os.listdir(self.levels) if file.endswith('.txt')]\n",
    "            selection = random.randint(0, len(level_names) - 1)\n",
    "            self.level_id = selection\n",
    "            path = os.path.join(self.levels, level_names[selection][:-4])\n",
    "            state = np.load(path + \".npy\")\n",
    "            with open(path + \".txt\", 'r') as f:\n",
    "                state_str = f.read()\n",
    "            if(os.path.isfile(path + \".no_compile\")):\n",
    "                self.compiles = False\n",
    "                self.state = state\n",
    "                #return self.set_level()\n",
    "                return state\n",
    "            try:\n",
    "                self.env.unwrapped._setLevel(path + \".txt\")\n",
    "                self.test_level()\n",
    "                self.compiles = True\n",
    "            except Exception as e:\n",
    "                #print(e)\n",
    "                self.restart(e, path)\n",
    "                return self.set_level()\n",
    "            except SystemExit:\n",
    "                #print(\"SystemExit\")\n",
    "                self.restart(\"SystemExit\", path)\n",
    "                return self.set_level()\n",
    "        else:\n",
    "            self.compiles = True\n",
    "            self.level_id = -1             #So log_reward doesn't track the validity of this level\n",
    "            lvl = random.randint(0,4)\n",
    "            self.env.unwrapped._setLevel(lvl)\n",
    "            self.env.reset()\n",
    "            _, _, _, info = self.env.step(0)\n",
    "            state = self.get_state(info['grid'])\n",
    "        self.state = state\n",
    "        return state\n",
    "\n",
    "    def log(self, text):\n",
    "        path = os.path.join(self.levels, \"log_{}.txt\".format(self.id))\n",
    "        with open('log_{}.txt'.format(self.id), 'a+') as log:\n",
    "            log.write(str(text) + \"\\n\")\n",
    "\n",
    "    def log_reward(self, reward):\n",
    "        if(self.level_id >= 0):\n",
    "            path = os.path.join(self.levels, 'rewards_{}.csv'.format(self.id))\n",
    "            add_header = not  os.path.exists(path)\n",
    "            with open(path, 'a+') as rewards:\n",
    "                writer = csv.writer(rewards)\n",
    "                if(add_header):\n",
    "                    writer.writerow(['level', 'reward'])\n",
    "                writer.writerow((self.level_id, reward))\n",
    "\n",
    "    #@timeout_decorator.timeout(1, use_signals=False)\n",
    "    def test_level(self):\n",
    "        self.env.reset()\n",
    "        self.env.step(0)\n",
    "        self.env.reset()\n",
    "\n",
    "    def pad(self, state):\n",
    "        pad_h = max(self.shape[-2] - state.shape[-2], 0)\n",
    "        pad_w = max(self.shape[-1] - state.shape[-1], 0)\n",
    "        pad_height = (pad_h//2, pad_h-pad_h//2)\n",
    "        pad_width = (pad_w//2, pad_w-pad_w//2)\n",
    "        padding = ((0,0), pad_height, pad_width)\n",
    "        return np.pad(state, padding, 'constant')\n",
    "\n",
    "    def background(self, state):\n",
    "        background = 1 - np.clip(np.sum(state, 0), 0, 1)\n",
    "        background = np.expand_dims(background, 0)\n",
    "        return np.concatenate([state, background])\n",
    "\n",
    "    def restart(self, e, path):\n",
    "        #self.log(e)\n",
    "        open(path + \".no_compile\", 'w').close()\n",
    "        self.compiles = False\n",
    "        self.env = gym_gvgai.make('gvgai-{}-lvl0-v0'.format(self.name))"
   ]
  },
  {
   "cell_type": "code",
   "execution_count": 3,
   "metadata": {},
   "outputs": [],
   "source": [
    "game = 'zelda'"
   ]
  },
  {
   "cell_type": "code",
   "execution_count": 8,
   "metadata": {},
   "outputs": [
    {
     "name": "stdout",
     "output_type": "stream",
     "text": [
      "Connecting to host 127.0.0.1 at port 37437 ...\n",
      "Client connected to server [OK]\n"
     ]
    }
   ],
   "source": [
    "x = gym_gvgai.make('gvgai-{}-lvl0-v0'.format(game))"
   ]
  },
  {
   "cell_type": "code",
   "execution_count": 9,
   "metadata": {},
   "outputs": [
    {
     "data": {
      "text/plain": [
       "Discrete(6)"
      ]
     },
     "execution_count": 9,
     "metadata": {},
     "output_type": "execute_result"
    }
   ],
   "source": [
    "x.env.action_space"
   ]
  },
  {
   "cell_type": "code",
   "execution_count": 15,
   "metadata": {},
   "outputs": [
    {
     "name": "stdout",
     "output_type": "stream",
     "text": [
      "Connecting to host 127.0.0.1 at port 48773 ...\n",
      "Client connected to server [OK]\n"
     ]
    }
   ],
   "source": [
    "z = GridGame(\"zelda\", 5, (6, ), path='./')"
   ]
  },
  {
   "cell_type": "code",
   "execution_count": 18,
   "metadata": {},
   "outputs": [
    {
     "ename": "FileNotFoundError",
     "evalue": "[Errno 2] No such file or directory: './child.npy'",
     "output_type": "error",
     "traceback": [
      "\u001b[0;31m-------------------------------------------------------------\u001b[0m",
      "\u001b[0;31mFileNotFoundError\u001b[0m           Traceback (most recent call last)",
      "\u001b[0;32m<ipython-input-18-21968ef5bb42>\u001b[0m in \u001b[0;36m<module>\u001b[0;34m\u001b[0m\n\u001b[0;32m----> 1\u001b[0;31m \u001b[0mz\u001b[0m\u001b[0;34m.\u001b[0m\u001b[0mreset\u001b[0m\u001b[0;34m(\u001b[0m\u001b[0;34m)\u001b[0m\u001b[0;34m\u001b[0m\u001b[0;34m\u001b[0m\u001b[0m\n\u001b[0m",
      "\u001b[0;32m<ipython-input-11-3ee5c2f2bcf3>\u001b[0m in \u001b[0;36mreset\u001b[0;34m(self)\u001b[0m\n\u001b[1;32m     68\u001b[0m         \u001b[0mself\u001b[0m\u001b[0;34m.\u001b[0m\u001b[0msteps\u001b[0m \u001b[0;34m=\u001b[0m \u001b[0;36m0\u001b[0m\u001b[0;34m\u001b[0m\u001b[0;34m\u001b[0m\u001b[0m\n\u001b[1;32m     69\u001b[0m         \u001b[0mself\u001b[0m\u001b[0;34m.\u001b[0m\u001b[0mscore\u001b[0m \u001b[0;34m=\u001b[0m \u001b[0;36m0\u001b[0m\u001b[0;34m\u001b[0m\u001b[0;34m\u001b[0m\u001b[0m\n\u001b[0;32m---> 70\u001b[0;31m         \u001b[0mstate\u001b[0m \u001b[0;34m=\u001b[0m \u001b[0mself\u001b[0m\u001b[0;34m.\u001b[0m\u001b[0mset_level\u001b[0m\u001b[0;34m(\u001b[0m\u001b[0;34m)\u001b[0m\u001b[0;34m\u001b[0m\u001b[0;34m\u001b[0m\u001b[0m\n\u001b[0m\u001b[1;32m     71\u001b[0m         \u001b[0;32mreturn\u001b[0m \u001b[0mstate\u001b[0m\u001b[0;34m\u001b[0m\u001b[0;34m\u001b[0m\u001b[0m\n\u001b[1;32m     72\u001b[0m \u001b[0;34m\u001b[0m\u001b[0m\n",
      "\u001b[0;32m<ipython-input-11-3ee5c2f2bcf3>\u001b[0m in \u001b[0;36mset_level\u001b[0;34m(self)\u001b[0m\n\u001b[1;32m    110\u001b[0m             \u001b[0mself\u001b[0m\u001b[0;34m.\u001b[0m\u001b[0mlevel_id\u001b[0m \u001b[0;34m=\u001b[0m \u001b[0mselection\u001b[0m\u001b[0;34m\u001b[0m\u001b[0;34m\u001b[0m\u001b[0m\n\u001b[1;32m    111\u001b[0m             \u001b[0mpath\u001b[0m \u001b[0;34m=\u001b[0m \u001b[0mos\u001b[0m\u001b[0;34m.\u001b[0m\u001b[0mpath\u001b[0m\u001b[0;34m.\u001b[0m\u001b[0mjoin\u001b[0m\u001b[0;34m(\u001b[0m\u001b[0mself\u001b[0m\u001b[0;34m.\u001b[0m\u001b[0mlevels\u001b[0m\u001b[0;34m,\u001b[0m \u001b[0mlevel_names\u001b[0m\u001b[0;34m[\u001b[0m\u001b[0mselection\u001b[0m\u001b[0;34m]\u001b[0m\u001b[0;34m[\u001b[0m\u001b[0;34m:\u001b[0m\u001b[0;34m-\u001b[0m\u001b[0;36m4\u001b[0m\u001b[0;34m]\u001b[0m\u001b[0;34m)\u001b[0m\u001b[0;34m\u001b[0m\u001b[0;34m\u001b[0m\u001b[0m\n\u001b[0;32m--> 112\u001b[0;31m             \u001b[0mstate\u001b[0m \u001b[0;34m=\u001b[0m \u001b[0mnp\u001b[0m\u001b[0;34m.\u001b[0m\u001b[0mload\u001b[0m\u001b[0;34m(\u001b[0m\u001b[0mpath\u001b[0m \u001b[0;34m+\u001b[0m \u001b[0;34m\".npy\"\u001b[0m\u001b[0;34m)\u001b[0m\u001b[0;34m\u001b[0m\u001b[0;34m\u001b[0m\u001b[0m\n\u001b[0m\u001b[1;32m    113\u001b[0m             \u001b[0;32mwith\u001b[0m \u001b[0mopen\u001b[0m\u001b[0;34m(\u001b[0m\u001b[0mpath\u001b[0m \u001b[0;34m+\u001b[0m \u001b[0;34m\".txt\"\u001b[0m\u001b[0;34m,\u001b[0m \u001b[0;34m'r'\u001b[0m\u001b[0;34m)\u001b[0m \u001b[0;32mas\u001b[0m \u001b[0mf\u001b[0m\u001b[0;34m:\u001b[0m\u001b[0;34m\u001b[0m\u001b[0;34m\u001b[0m\u001b[0m\n\u001b[1;32m    114\u001b[0m                 \u001b[0mstate_str\u001b[0m \u001b[0;34m=\u001b[0m \u001b[0mf\u001b[0m\u001b[0;34m.\u001b[0m\u001b[0mread\u001b[0m\u001b[0;34m(\u001b[0m\u001b[0;34m)\u001b[0m\u001b[0;34m\u001b[0m\u001b[0;34m\u001b[0m\u001b[0m\n",
      "\u001b[0;32m~/miniconda3/envs/thesis/lib/python3.7/site-packages/numpy/lib/npyio.py\u001b[0m in \u001b[0;36mload\u001b[0;34m(file, mmap_mode, allow_pickle, fix_imports, encoding)\u001b[0m\n\u001b[1;32m    420\u001b[0m         \u001b[0mown_fid\u001b[0m \u001b[0;34m=\u001b[0m \u001b[0;32mFalse\u001b[0m\u001b[0;34m\u001b[0m\u001b[0;34m\u001b[0m\u001b[0m\n\u001b[1;32m    421\u001b[0m     \u001b[0;32melse\u001b[0m\u001b[0;34m:\u001b[0m\u001b[0;34m\u001b[0m\u001b[0;34m\u001b[0m\u001b[0m\n\u001b[0;32m--> 422\u001b[0;31m         \u001b[0mfid\u001b[0m \u001b[0;34m=\u001b[0m \u001b[0mopen\u001b[0m\u001b[0;34m(\u001b[0m\u001b[0mos_fspath\u001b[0m\u001b[0;34m(\u001b[0m\u001b[0mfile\u001b[0m\u001b[0;34m)\u001b[0m\u001b[0;34m,\u001b[0m \u001b[0;34m\"rb\"\u001b[0m\u001b[0;34m)\u001b[0m\u001b[0;34m\u001b[0m\u001b[0;34m\u001b[0m\u001b[0m\n\u001b[0m\u001b[1;32m    423\u001b[0m         \u001b[0mown_fid\u001b[0m \u001b[0;34m=\u001b[0m \u001b[0;32mTrue\u001b[0m\u001b[0;34m\u001b[0m\u001b[0;34m\u001b[0m\u001b[0m\n\u001b[1;32m    424\u001b[0m \u001b[0;34m\u001b[0m\u001b[0m\n",
      "\u001b[0;31mFileNotFoundError\u001b[0m: [Errno 2] No such file or directory: './child.npy'"
     ]
    }
   ],
   "source": [
    "z.reset()"
   ]
  },
  {
   "cell_type": "code",
   "execution_count": null,
   "metadata": {},
   "outputs": [],
   "source": []
  }
 ],
 "metadata": {
  "kernelspec": {
   "display_name": "Python 3",
   "language": "python",
   "name": "python3"
  },
  "language_info": {
   "codemirror_mode": {
    "name": "ipython",
    "version": 3
   },
   "file_extension": ".py",
   "mimetype": "text/x-python",
   "name": "python",
   "nbconvert_exporter": "python",
   "pygments_lexer": "ipython3",
   "version": "3.7.3"
  }
 },
 "nbformat": 4,
 "nbformat_minor": 2
}
