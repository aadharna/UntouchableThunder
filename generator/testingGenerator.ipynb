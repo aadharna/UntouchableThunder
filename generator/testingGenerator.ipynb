{
 "cells": [
  {
   "cell_type": "code",
   "execution_count": null,
   "metadata": {},
   "outputs": [],
   "source": [
    "import gym_gvgai\n",
    "import gym"
   ]
  },
  {
   "cell_type": "code",
   "execution_count": null,
   "metadata": {},
   "outputs": [],
   "source": [
    "import sys\n",
    "import numpy as np\n",
    "import pandas as pd\n",
    "from collections import defaultdict"
   ]
  },
  {
   "cell_type": "code",
   "execution_count": null,
   "metadata": {},
   "outputs": [],
   "source": [
    "env = gym_gvgai.make('gvgai-zelda-lvl3-v0')"
   ]
  },
  {
   "cell_type": "code",
   "execution_count": null,
   "metadata": {},
   "outputs": [],
   "source": [
    "def e_greedy_policy_creation(Qstate, epsilon, nA):\n",
    "    \"\"\"\n",
    "    Q: Our Q table. \n",
    "      Q[state] = numpy.array\n",
    "      Q[state][action] = float.\n",
    "    epsilon: small value that controls exploration.\n",
    "    nA: the number of actions available in this environment\n",
    "    \n",
    "    return: an epsilon-greedy policy specific to the state.\n",
    "    \"\"\"\n",
    "    \n",
    "    policy = np.ones(nA) * epsilon/nA\n",
    "    policy[np.argmax(Qstate)] = 1 - epsilon + (epsilon / nA)        \n",
    "    return policy\n",
    "\n",
    "def choose_action(policy, env):\n",
    "    return np.random.choice(np.arange(env.nA), p=policy)\n",
    "\n",
    "def sarsa(env, num_episodes, alpha, gamma=1.0, fixedEpsilon = False):\n",
    "    # initialize action-value function (empty dictionary of arrays)\n",
    "    Q = defaultdict(lambda: np.zeros(env.nA))\n",
    "    # initialize performance monitor\n",
    "    # loop over episodes\n",
    "\n",
    "    for i_episode in range(1, num_episodes+1): \n",
    "        state = env.reset()\n",
    "        #To see the policy from the book, keep epsilon fixed at 0.1\n",
    "        epsilon = 0.1 if fixedEpsilon else 1.0 / i_episode\n",
    "        # monitor progress\n",
    "        if i_episode % 100 == 0:\n",
    "            print(\"\\rEpisode {}/{}\".format(i_episode, num_episodes), end=\"\")\n",
    "            sys.stdout.flush() \n",
    "        done = False\n",
    "        policy = e_greedy_policy_creation(Q[state], epsilon, env.nA)    \n",
    "        action = choose_action(policy, env)\n",
    "        while not done:\n",
    "            sPrime, reward, done, info = env.step(action)\n",
    "            policySPrime = e_greedy_policy_creation(Q[sPrime], epsilon, env.nA)\n",
    "            aPrime = choose_action(policySPrime, env)\n",
    "            Q[state][action] += alpha * (reward + (gamma * Q[sPrime][aPrime]) - Q[state][action])\n",
    "            state, action = sPrime, aPrime\n",
    "    return Q"
   ]
  },
  {
   "cell_type": "code",
   "execution_count": null,
   "metadata": {},
   "outputs": [],
   "source": [
    "x = env.reset()"
   ]
  },
  {
   "cell_type": "code",
   "execution_count": null,
   "metadata": {},
   "outputs": [],
   "source": [
    "import matplotlib.pyplot as plt"
   ]
  },
  {
   "cell_type": "code",
   "execution_count": null,
   "metadata": {},
   "outputs": [],
   "source": [
    "from levels.base import Generator"
   ]
  },
  {
   "cell_type": "code",
   "execution_count": null,
   "metadata": {},
   "outputs": [],
   "source": [
    "MECHANICS = ['+', 'g']"
   ]
  },
  {
   "cell_type": "code",
   "execution_count": null,
   "metadata": {},
   "outputs": [],
   "source": [
    "def initialize(path):\n",
    "    f = open(path, 'r')\n",
    "    f = f.readlines()\n",
    "    rep = []\n",
    "    for l in f: \n",
    "        rep.append(l[:-1])\n",
    "    mat = []\n",
    "    for r in rep:\n",
    "        for s in r:\n",
    "            mat.append(s)\n",
    "    npa = np.array(mat).reshape((9, -1))\n",
    "    return npa"
   ]
  },
  {
   "cell_type": "code",
   "execution_count": null,
   "metadata": {},
   "outputs": [],
   "source": [
    "gen = Generator(initialize('./levels/zelda_lvl3.txt'), MECHANICS)"
   ]
  },
  {
   "cell_type": "code",
   "execution_count": null,
   "metadata": {},
   "outputs": [],
   "source": [
    "pd.DataFrame(gen.world)"
   ]
  },
  {
   "cell_type": "code",
   "execution_count": null,
   "metadata": {},
   "outputs": [],
   "source": [
    "gen.mutate(0.2)"
   ]
  },
  {
   "cell_type": "code",
   "execution_count": null,
   "metadata": {},
   "outputs": [],
   "source": [
    "pd.DataFrame(gen.world)"
   ]
  },
  {
   "cell_type": "code",
   "execution_count": null,
   "metadata": {},
   "outputs": [],
   "source": [
    "with open(\"./levels/test.txt\", 'w+') as fname:\n",
    "    fname.write(str(gen))\n",
    "    np.save(\"./levels/test.npy\", gen.world)"
   ]
  },
  {
   "cell_type": "code",
   "execution_count": null,
   "metadata": {},
   "outputs": [],
   "source": [
    "plt.imshow(x) # original env"
   ]
  },
  {
   "cell_type": "code",
   "execution_count": null,
   "metadata": {},
   "outputs": [],
   "source": [
    "env.unwrapped._setLevel(\"./levels/test.txt\")"
   ]
  },
  {
   "cell_type": "code",
   "execution_count": null,
   "metadata": {},
   "outputs": [],
   "source": [
    "plt.imshow(env.reset()) # mutated environment"
   ]
  },
  {
   "cell_type": "code",
   "execution_count": null,
   "metadata": {},
   "outputs": [],
   "source": [
    "p2 = Generator(initialize(\"./levels/test.txt\"), MECHANICS)"
   ]
  },
  {
   "cell_type": "code",
   "execution_count": null,
   "metadata": {},
   "outputs": [],
   "source": [
    "gen.mutate(0.3)"
   ]
  },
  {
   "cell_type": "code",
   "execution_count": null,
   "metadata": {},
   "outputs": [],
   "source": [
    "child = gen.crossOver(p2)"
   ]
  },
  {
   "cell_type": "code",
   "execution_count": null,
   "metadata": {},
   "outputs": [],
   "source": [
    "with open(\"./levels/child.txt\", 'w+') as fname:\n",
    "    fname.write(str(child))\n",
    "    np.save(\"./levels/test.npy\", child.world)"
   ]
  },
  {
   "cell_type": "code",
   "execution_count": null,
   "metadata": {},
   "outputs": [],
   "source": [
    "env.unwrapped._setLevel(\"./levels/child.txt\")"
   ]
  },
  {
   "cell_type": "code",
   "execution_count": null,
   "metadata": {},
   "outputs": [],
   "source": [
    "plt.imshow(env.reset()) # after crossover environment"
   ]
  },
  {
   "cell_type": "code",
   "execution_count": null,
   "metadata": {},
   "outputs": [],
   "source": [
    "import time"
   ]
  },
  {
   "cell_type": "code",
   "execution_count": null,
   "metadata": {},
   "outputs": [],
   "source": []
  }
 ],
 "metadata": {
  "kernelspec": {
   "display_name": "Python 3",
   "language": "python",
   "name": "python3"
  },
  "language_info": {
   "codemirror_mode": {
    "name": "ipython",
    "version": 3
   },
   "file_extension": ".py",
   "mimetype": "text/x-python",
   "name": "python",
   "nbconvert_exporter": "python",
   "pygments_lexer": "ipython3",
   "version": "3.7.3"
  }
 },
 "nbformat": 4,
 "nbformat_minor": 2
}
