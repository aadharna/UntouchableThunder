{
 "cells": [
  {
   "cell_type": "code",
   "execution_count": 1,
   "metadata": {},
   "outputs": [],
   "source": [
    "import os\n",
    "\n",
    "import gym\n",
    "import gvgai\n",
    "import numpy as np\n",
    "\n",
    "import torch\n",
    "import torch.nn as nn\n",
    "import torch.optim as optim\n",
    "from torch.distributions import Categorical\n",
    "import torchvision.transforms as T\n",
    "import torch.nn.functional as F\n",
    "\n",
    "\n",
    "from tqdm import tqdm\n",
    "\n",
    "from matplotlib import pyplot as plt\n",
    "\n",
    "from agent.NNagent import NNagent\n",
    "from torch.autograd import Variable"
   ]
  },
  {
   "cell_type": "code",
   "execution_count": 2,
   "metadata": {},
   "outputs": [],
   "source": [
    "class Value(nn.Module):\n",
    "    def __init__(self, depth):\n",
    "        super(Value, self).__init__()\n",
    "        self.conv1 = nn.Conv2d(in_channels=depth, out_channels=8, kernel_size=3)\n",
    "        self.pool = nn.MaxPool2d(2, 2)\n",
    "        self.conv2 = nn.Conv2d(in_channels=8, out_channels=32, kernel_size=3)\n",
    "        self.fc = nn.Linear((32 * 3) + 4, 1)\n",
    "\n",
    "    def forward(self, x, compass):\n",
    "        x = self.pool(F.relu(self.conv1(x)))\n",
    "        x = F.relu(self.conv2(x))\n",
    "        x = x.view(len(x), 32 * 3)\n",
    "        x = torch.cat([x, compass], dim=1)\n",
    "        x = F.relu(self.fc(x))\n",
    "        return x"
   ]
  },
  {
   "cell_type": "code",
   "execution_count": 3,
   "metadata": {},
   "outputs": [],
   "source": [
    "from generator.env_gen_wrapper import GridGame\n",
    "# from generator.levels.base import _initialize\n",
    "# from generator.levels.base import Generator"
   ]
  },
  {
   "cell_type": "code",
   "execution_count": 4,
   "metadata": {},
   "outputs": [],
   "source": [
    "env = GridGame(game='dzelda', \n",
    "                      play_length=1000, \n",
    "                      path='./levels',\n",
    "                      lvl_name='5.txt',\n",
    "                      mechanics=['+', 'g'], # monsters, key, door, wall\n",
    "                      images=False,\n",
    "                  )"
   ]
  },
  {
   "cell_type": "code",
   "execution_count": 5,
   "metadata": {},
   "outputs": [
    {
     "name": "stdout",
     "output_type": "stream",
     "text": [
      "wwwwwwwwwwwww\n",
      "w........+..w\n",
      "w...........w\n",
      "w...........w\n",
      "w...........w\n",
      "w..A........w\n",
      "w...........w\n",
      "w..........gw\n",
      "wwwwwwwwwwwww\n",
      "\n"
     ]
    }
   ],
   "source": [
    "print(str(env.generator))"
   ]
  },
  {
   "cell_type": "code",
   "execution_count": 6,
   "metadata": {},
   "outputs": [],
   "source": [
    "i = 5"
   ]
  },
  {
   "cell_type": "code",
   "execution_count": 7,
   "metadata": {},
   "outputs": [],
   "source": [
    "_dir = f'./results/RL/map{i}'"
   ]
  },
  {
   "cell_type": "code",
   "execution_count": 46,
   "metadata": {},
   "outputs": [],
   "source": [
    "os.mkdir(_dir)"
   ]
  },
  {
   "cell_type": "code",
   "execution_count": null,
   "metadata": {},
   "outputs": [
    {
     "name": "stderr",
     "output_type": "stream",
     "text": [
      "  0%|          | 0/4000 [00:00<?, ?it/s]/home/aadharna/miniconda3/envs/thesis/lib/python3.7/site-packages/torch/serialization.py:292: UserWarning: Couldn't retrieve source code for container of type Value. It won't be checked for correctness upon loading.\n",
      "  \"type \" + obj.__name__ + \". It won't be checked \"\n",
      "/home/aadharna/miniconda3/envs/thesis/lib/python3.7/site-packages/torch/serialization.py:292: UserWarning: Couldn't retrieve source code for container of type Conv2d. It won't be checked for correctness upon loading.\n",
      "  \"type \" + obj.__name__ + \". It won't be checked \"\n",
      "/home/aadharna/miniconda3/envs/thesis/lib/python3.7/site-packages/torch/serialization.py:292: UserWarning: Couldn't retrieve source code for container of type MaxPool2d. It won't be checked for correctness upon loading.\n",
      "  \"type \" + obj.__name__ + \". It won't be checked \"\n",
      "/home/aadharna/miniconda3/envs/thesis/lib/python3.7/site-packages/torch/serialization.py:292: UserWarning: Couldn't retrieve source code for container of type Linear. It won't be checked for correctness upon loading.\n",
      "  \"type \" + obj.__name__ + \". It won't be checked \"\n",
      "/home/aadharna/miniconda3/envs/thesis/lib/python3.7/site-packages/torch/serialization.py:292: UserWarning: Couldn't retrieve source code for container of type Net. It won't be checked for correctness upon loading.\n",
      "  \"type \" + obj.__name__ + \". It won't be checked \"\n",
      " 97%|█████████▋| 3884/4000 [3:07:30<06:04,  3.14s/it]  "
     ]
    }
   ],
   "source": [
    "GAMMA = 0.99\n",
    "\n",
    "total_rewards = []\n",
    "total_estimate_rewards = []\n",
    "\n",
    "for baseline in ['none', 'estimate']:\n",
    "    policy = NNagent(GG=None, actions=6, depth=13)\n",
    "    optimizer = optim.Adam(policy.nn.parameters(), lr=.002)\n",
    "    eps = np.finfo(np.float32).eps.item()\n",
    "    \n",
    "    V = Value(13)\n",
    "    V.double()\n",
    "\n",
    "    v_loss = nn.MSELoss()\n",
    "    v_optimizer = optim.SGD(V.parameters(), lr=0.01)\n",
    "    \n",
    "    name = 'baseline' if baseline == 'estimate' else 'simple'\n",
    "    \n",
    "    for i in tqdm(range(4000)):\n",
    "        state = env.reset()\n",
    "\n",
    "        rewards = []\n",
    "        states = [state]\n",
    "        compass_info = []\n",
    "        log_probs = []\n",
    "\n",
    "        terminal = False\n",
    "        \n",
    "        \n",
    "        while not terminal:\n",
    "            # Action selection\n",
    "            probs = policy.rl_get_action(state)\n",
    "            compass_info.append(policy.compass_info)\n",
    "            c = Categorical(probs)\n",
    "            action = c.sample()\n",
    "            log_probs.append(c.log_prob(action))\n",
    "\n",
    "            # Carry out the action\n",
    "            state, reward, terminal, _ = env.step(action.item())\n",
    "\n",
    "            if not terminal:\n",
    "                states.append(state)\n",
    "\n",
    "            rewards.append(reward)\n",
    "\n",
    "        if baseline == 'estimate':\n",
    "            total_estimate_rewards.append(sum(rewards))\n",
    "        else:\n",
    "            total_rewards.append(sum(rewards))\n",
    "\n",
    "        # Calculate the returns\n",
    "        R = 0\n",
    "        returns = []\n",
    "        for r in reversed(rewards):\n",
    "            R = r + GAMMA * R\n",
    "            returns.insert(0, R)\n",
    "        returns = torch.tensor(returns)\n",
    "\n",
    "        values = V(torch.DoubleTensor(states), \n",
    "                   torch.DoubleTensor(np.vstack(compass_info)))\n",
    "\n",
    "        if baseline == 'estimate':\n",
    "            returns = returns - values.data.squeeze()\n",
    "\n",
    "        # Calculate the loss\n",
    "        policy_loss = [-log_prob * R for log_prob, R in zip(log_probs, returns)]\n",
    "\n",
    "        # Backprop for the NN\n",
    "        optimizer.zero_grad()\n",
    "        policy_loss = torch.stack(policy_loss, dim=0).sum()\n",
    "        policy_loss.backward()\n",
    "        optimizer.step()\n",
    "\n",
    "        # Backprop for the value estimator\n",
    "        v_optimizer.zero_grad()\n",
    "        estimate_loss = v_loss(values.squeeze(), returns.double())\n",
    "        estimate_loss.backward()\n",
    "        v_optimizer.step()\n",
    "        \n",
    "        # put check here to break if complete?\n",
    "        \n",
    "        if i % 1000 == 0:\n",
    "            torch.save(V, os.path.join(_dir, f'{name}_{i}_model_value.pt'))\n",
    "            torch.save(policy.nn, os.path.join(_dir, f'{name}_{i}_model_policy.pt'))\n",
    "    \n",
    "    \n",
    "    torch.save(V, os.path.join(_dir, f'{name}_model_value.pt'))\n",
    "    torch.save(policy.nn, os.path.join(_dir, f'{name}_model_policy.pt'))"
   ]
  },
  {
   "cell_type": "code",
   "execution_count": null,
   "metadata": {},
   "outputs": [],
   "source": [
    "N=20\n",
    "plt.figure(figsize=(15,10))\n",
    "plt.plot(np.convolve(total_rewards, np.ones((N,))/N, mode='valid'), label='No Baseline')\n",
    "plt.plot(np.convolve(total_estimate_rewards, np.ones((N,))/N, mode='valid'), label='Baseline')\n",
    "plt.legend()\n",
    "plt.savefig(os.path.join(_dir, 'reward_plot.jpg'))\n",
    "plt.show()"
   ]
  },
  {
   "cell_type": "code",
   "execution_count": null,
   "metadata": {},
   "outputs": [],
   "source": []
  },
  {
   "cell_type": "markdown",
   "metadata": {},
   "source": [
    "----  \n",
    "# Visualizations and tests"
   ]
  },
  {
   "cell_type": "code",
   "execution_count": null,
   "metadata": {},
   "outputs": [],
   "source": []
  },
  {
   "cell_type": "code",
   "execution_count": null,
   "metadata": {},
   "outputs": [],
   "source": [
    "from IPython import display"
   ]
  },
  {
   "cell_type": "code",
   "execution_count": null,
   "metadata": {},
   "outputs": [],
   "source": [
    "def show_state(env, step=0, name=\"\", info=\"\", image=None):\n",
    "    \"\"\"Fn to visualize the agent playing the game in a notebook\n",
    "    \"\"\"\n",
    "    plt.figure(10)\n",
    "    plt.clf()\n",
    "    if image is not None:\n",
    "        im = image\n",
    "    else:\n",
    "        im = env.render(mode=\"rgb_array\")[0]\n",
    "    plt.imshow(im)\n",
    "    plt.title(\"{} | Step: {} {}\".format(name, step, info))\n",
    "    plt.axis('off')\n",
    "    display.clear_output(wait=True)\n",
    "    display.display(plt.gcf())"
   ]
  },
  {
   "cell_type": "code",
   "execution_count": null,
   "metadata": {},
   "outputs": [],
   "source": [
    "import imageio"
   ]
  },
  {
   "cell_type": "code",
   "execution_count": null,
   "metadata": {},
   "outputs": [],
   "source": []
  },
  {
   "cell_type": "code",
   "execution_count": null,
   "metadata": {},
   "outputs": [],
   "source": [
    "imageio.mimsave('./results/RL/map5/good_zelda.gif', e2.images)"
   ]
  },
  {
   "cell_type": "code",
   "execution_count": null,
   "metadata": {},
   "outputs": [],
   "source": []
  },
  {
   "cell_type": "code",
   "execution_count": null,
   "metadata": {},
   "outputs": [],
   "source": []
  },
  {
   "cell_type": "code",
   "execution_count": 5,
   "metadata": {},
   "outputs": [],
   "source": [
    "# lvl = _initialize(env.lvl_path)\n",
    "# g = Generator(tile_world=lvl,\n",
    "#                            shape=lvl.shape,\n",
    "#                            path=env.dir_path,\n",
    "#                            mechanics=env.mechanics,\n",
    "#                            generation=13,\n",
    "#                            locations={})"
   ]
  },
  {
   "cell_type": "code",
   "execution_count": 32,
   "metadata": {},
   "outputs": [],
   "source": [
    "# for i in range(15):\n",
    "#     m, s = g.mutate(1)\n",
    "#     g = Generator(tile_world=None,\n",
    "#                    shape=s,\n",
    "#                    path=env.dir_path,\n",
    "#                    mechanics=env.mechanics,\n",
    "#                    generation=g.generation + 1,\n",
    "#                    locations=m)\n"
   ]
  },
  {
   "cell_type": "code",
   "execution_count": 33,
   "metadata": {},
   "outputs": [
    {
     "name": "stdout",
     "output_type": "stream",
     "text": [
      "wwwwwwwwwwwww\n",
      "w........+..w\n",
      "w...........w\n",
      "w...........w\n",
      "w...........w\n",
      "w..A........w\n",
      "w...........w\n",
      "w..........gw\n",
      "wwwwwwwwwwwww\n",
      "\n"
     ]
    }
   ],
   "source": [
    "# print(str(g))"
   ]
  },
  {
   "cell_type": "code",
   "execution_count": null,
   "metadata": {},
   "outputs": [],
   "source": []
  }
 ],
 "metadata": {
  "kernelspec": {
   "display_name": "Python 3",
   "language": "python",
   "name": "python3"
  },
  "language_info": {
   "codemirror_mode": {
    "name": "ipython",
    "version": 3
   },
   "file_extension": ".py",
   "mimetype": "text/x-python",
   "name": "python",
   "nbconvert_exporter": "python",
   "pygments_lexer": "ipython3",
   "version": "3.7.3"
  }
 },
 "nbformat": 4,
 "nbformat_minor": 2
}
