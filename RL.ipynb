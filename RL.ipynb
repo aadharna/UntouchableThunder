{
 "cells": [
  {
   "cell_type": "code",
   "execution_count": null,
   "metadata": {},
   "outputs": [],
   "source": [
    "import os\n",
    "\n",
    "import gym\n",
    "import gvgai\n",
    "import numpy as np\n",
    "\n",
    "import torch\n",
    "import torch.nn as nn\n",
    "import torch.optim as optim\n",
    "from torch.distributions import Categorical\n",
    "import torchvision.transforms as T\n",
    "import torch.nn.functional as F\n",
    "\n",
    "\n",
    "from tqdm import tqdm\n",
    "\n",
    "from matplotlib import pyplot as plt\n",
    "\n",
    "from agent.NNagent import NNagent\n",
    "from torch.autograd import Variable"
   ]
  },
  {
   "cell_type": "code",
   "execution_count": null,
   "metadata": {},
   "outputs": [],
   "source": [
    "class Value(nn.Module):\n",
    "    def __init__(self, depth):\n",
    "        super(Value, self).__init__()\n",
    "        self.conv1 = nn.Conv2d(in_channels=depth, out_channels=8, kernel_size=3)\n",
    "        self.pool = nn.MaxPool2d(2, 2)\n",
    "        self.conv2 = nn.Conv2d(in_channels=8, out_channels=32, kernel_size=3)\n",
    "        self.fc = nn.Linear((32 * 3) + 4, 1)\n",
    "\n",
    "    def forward(self, x, compass):\n",
    "        x = self.pool(F.relu(self.conv1(x)))\n",
    "        x = F.relu(self.conv2(x))\n",
    "        x = x.view(len(x), 32 * 3)\n",
    "        x = torch.cat([x, compass], dim=1)\n",
    "        x = F.relu(self.fc(x))\n",
    "        return x"
   ]
  },
  {
   "cell_type": "code",
   "execution_count": null,
   "metadata": {},
   "outputs": [],
   "source": [
    "from generator.env_gen_wrapper import GridGame\n",
    "# from generator.levels.base import _initialize\n",
    "# from generator.levels.base import Generator"
   ]
  },
  {
   "cell_type": "code",
   "execution_count": null,
   "metadata": {},
   "outputs": [],
   "source": [
    "env = GridGame(game='dzelda', \n",
    "                      play_length=250, \n",
    "                      path='./levels',\n",
    "                      lvl_name='1.txt',\n",
    "                      mechanics=['+', 'g'], # monsters, key, door, wall\n",
    "                      images=False,\n",
    "                  )"
   ]
  },
  {
   "cell_type": "code",
   "execution_count": null,
   "metadata": {},
   "outputs": [],
   "source": [
    "i = 'short5'\n",
    "\n",
    "_dir = f'./results/RL/map{i}'\n",
    "tdir = f'./results/RL/map{i}/tmp'\n",
    "bdir = f'./results/RL/map{i}/best'\n",
    "\n",
    "os.mkdir(_dir)\n",
    "os.mkdir(tdir)\n",
    "os.mkdir(bdir)\n",
    "\n",
    "path = os.path.join(_dir, 'lvl.txt')\n",
    "with open(path, 'w+') as fname:\n",
    "    fname.write(str(env.generator))"
   ]
  },
  {
   "cell_type": "code",
   "execution_count": null,
   "metadata": {},
   "outputs": [],
   "source": [
    "NGAMES = 5000"
   ]
  },
  {
   "cell_type": "code",
   "execution_count": null,
   "metadata": {
    "scrolled": true
   },
   "outputs": [],
   "source": [
    "GAMMA = 0.99\n",
    "\n",
    "total_rewards = []\n",
    "total_estimate_rewards = []\n",
    "\n",
    "for baseline in ['estimate']:\n",
    "    policy = NNagent(GG=None, \n",
    "                     #parent=torch.load('./results/RL/map2/baseline_best_model_policy.pt'),\n",
    "                     actions=6, depth=13)\n",
    "    optimizer = optim.Adam(policy.nn.parameters(), lr=.001)\n",
    "    eps = np.finfo(np.float32).eps.item()\n",
    "    \n",
    "    V = Value(13)\n",
    "    V.double()\n",
    "\n",
    "    v_loss = nn.MSELoss()\n",
    "    v_optimizer = optim.SGD(V.parameters(), lr=0.01)\n",
    "    \n",
    "    name = 'baseline' if baseline == 'estimate' else 'simple'\n",
    "    \n",
    "    best = -np.inf\n",
    "    \n",
    "    for i in tqdm(range(NGAMES)):\n",
    "        state = env.reset()\n",
    "\n",
    "        rewards = []\n",
    "        states = [state]\n",
    "        compass_info = []\n",
    "        log_probs = []\n",
    "\n",
    "        terminal = False\n",
    "        c = 0\n",
    "                \n",
    "        while not terminal:\n",
    "            # Action selection\n",
    "            probs = policy.rl_get_action(state)\n",
    "            compass_info.append(policy.compass_info)\n",
    "            c = Categorical(probs)\n",
    "            action = c.sample()\n",
    "            log_probs.append(c.log_prob(action))\n",
    "\n",
    "            # Carry out the action\n",
    "            state, reward, terminal, _ = env.step(action.item())\n",
    "\n",
    "            if not terminal:\n",
    "                states.append(state)\n",
    "\n",
    "            rewards.append(reward)\n",
    "        \n",
    "        total = sum(rewards)\n",
    "        if baseline == 'estimate':\n",
    "            total_estimate_rewards.append(total)\n",
    "        else:\n",
    "            total_rewards.append(total)\n",
    "            \n",
    "        if total >= best and not total <= 0:\n",
    "            best = total\n",
    "            s = str(np.ceil(total))\n",
    "            rdir = os.path.join(bdir, s)\n",
    "            if not os.path.exists(rdir):\n",
    "                os.mkdir(rdir)\n",
    "            #checkpoint the network\n",
    "            torch.save(policy.nn, os.path.join(rdir, f'{name}_{i}_best_model_policy.pt'))\n",
    "            \n",
    "        # Calculate the returns\n",
    "        R = 0\n",
    "        returns = []\n",
    "        for r in reversed(rewards):\n",
    "            R = r + GAMMA * R\n",
    "            returns.insert(0, R)\n",
    "        returns = torch.tensor(returns)\n",
    "\n",
    "        values = V(torch.DoubleTensor(states), \n",
    "                   torch.DoubleTensor(np.vstack(compass_info)))\n",
    "\n",
    "        if baseline == 'estimate':\n",
    "            returns = returns - values.data.squeeze()\n",
    "\n",
    "        # Calculate the loss\n",
    "        policy_loss = [-log_prob * R for log_prob, R in zip(log_probs, returns)]\n",
    "\n",
    "        # Backprop for the NN\n",
    "        optimizer.zero_grad()\n",
    "        policy_loss = torch.stack(policy_loss, dim=0).sum()\n",
    "        policy_loss.backward()\n",
    "        optimizer.step()\n",
    "\n",
    "        # Backprop for the value estimator\n",
    "        v_optimizer.zero_grad()\n",
    "        estimate_loss = v_loss(values.squeeze(), returns.double())\n",
    "        estimate_loss.backward()\n",
    "        v_optimizer.step()\n",
    "        \n",
    "        # put check here to break if complete?\n",
    "        \n",
    "        if i % 100 == 0:\n",
    "            torch.save(V, os.path.join(tdir, f'{name}_{i}_model_value.pt'))\n",
    "            torch.save(policy.nn, os.path.join(tdir, f'{name}_{i}_model_policy.pt'))\n",
    "    \n",
    "    \n",
    "    torch.save(V, os.path.join(_dir, f'{name}_{i}_model_value.pt'))\n",
    "    torch.save(policy.nn, os.path.join(_dir, f'{name}_{i}_model_policy.pt'))"
   ]
  },
  {
   "cell_type": "code",
   "execution_count": null,
   "metadata": {},
   "outputs": [],
   "source": [
    "N=20\n",
    "plt.figure(figsize=(7,7))\n",
    "#plt.plot(np.convolve(total_rewards, np.ones((N,))/N, mode='valid'), label='No Baseline')\n",
    "plt.plot(np.convolve(total_estimate_rewards, np.ones((N,))/N, mode='valid'), label='Baseline')\n",
    "plt.legend()\n",
    "plt.savefig(os.path.join(_dir, 'reward_plot.jpg'))\n",
    "plt.show()"
   ]
  },
  {
   "cell_type": "markdown",
   "metadata": {},
   "source": [
    "----  \n",
    "# Visualizations and tests"
   ]
  },
  {
   "cell_type": "code",
   "execution_count": null,
   "metadata": {},
   "outputs": [],
   "source": [
    "from IPython import display"
   ]
  },
  {
   "cell_type": "code",
   "execution_count": null,
   "metadata": {},
   "outputs": [],
   "source": [
    "def show_state(env, step=0, name=\"\", info=\"\", image=None):\n",
    "    \"\"\"Fn to visualize the agent playing the game in a notebook\n",
    "    \"\"\"\n",
    "    plt.figure(10)\n",
    "    plt.clf()\n",
    "    if image is not None:\n",
    "        im = image\n",
    "    else:\n",
    "        im = env.render(mode=\"rgb_array\")[0]\n",
    "    plt.imshow(im)\n",
    "    plt.title(\"{} | Step: {} {}\".format(name, step, info))\n",
    "    plt.axis('off')\n",
    "    display.clear_output(wait=True)\n",
    "    display.display(plt.gcf())"
   ]
  },
  {
   "cell_type": "code",
   "execution_count": null,
   "metadata": {},
   "outputs": [],
   "source": [
    "import imageio"
   ]
  },
  {
   "cell_type": "code",
   "execution_count": null,
   "metadata": {},
   "outputs": [],
   "source": [
    "e2 = NNagent(GridGame(game='dzelda', \n",
    "                      play_length=1000, \n",
    "                      path='./levels',\n",
    "                      lvl_name='5.txt',\n",
    "                      mechanics=['+', 'g'], # monsters, key, door, wall\n",
    "                      images=True,),\n",
    "             parent=torch.load('./results/RL/map5/tmp/baseline_200_model_policy.pt'))"
   ]
  },
  {
   "cell_type": "code",
   "execution_count": null,
   "metadata": {},
   "outputs": [],
   "source": [
    "e2.nn = torch.load('./results/RL/map5/tmp/baseline_200_model_policy.pt')"
   ]
  },
  {
   "cell_type": "code",
   "execution_count": null,
   "metadata": {
    "scrolled": false
   },
   "outputs": [],
   "source": [
    "e2.fitness(fn=show_state, rl=True)"
   ]
  },
  {
   "cell_type": "code",
   "execution_count": null,
   "metadata": {},
   "outputs": [],
   "source": [
    "len(e2.images)"
   ]
  },
  {
   "cell_type": "code",
   "execution_count": null,
   "metadata": {},
   "outputs": [],
   "source": [
    "imageio.mimsave('./results/RL/map5a/long_zelda.gif', e2.images)"
   ]
  },
  {
   "cell_type": "code",
   "execution_count": null,
   "metadata": {},
   "outputs": [],
   "source": [
    "# lvl = _initialize(env.lvl_path)\n",
    "# g = Generator(tile_world=lvl,\n",
    "#                            shape=lvl.shape,\n",
    "#                            path=env.dir_path,\n",
    "#                            mechanics=env.mechanics,\n",
    "#                            generation=13,\n",
    "#                            locations={})"
   ]
  },
  {
   "cell_type": "code",
   "execution_count": null,
   "metadata": {},
   "outputs": [],
   "source": [
    "# for i in range(15):\n",
    "#     m, s = g.mutate(1)\n",
    "#     g = Generator(tile_world=None,\n",
    "#                    shape=s,\n",
    "#                    path=env.dir_path,\n",
    "#                    mechanics=env.mechanics,\n",
    "#                    generation=g.generation + 1,\n",
    "#                    locations=m)\n"
   ]
  },
  {
   "cell_type": "code",
   "execution_count": null,
   "metadata": {},
   "outputs": [],
   "source": [
    "# print(str(g))"
   ]
  },
  {
   "cell_type": "code",
   "execution_count": null,
   "metadata": {},
   "outputs": [],
   "source": []
  }
 ],
 "metadata": {
  "kernelspec": {
   "display_name": "thesis",
   "language": "python",
   "name": "thesis"
  },
  "language_info": {
   "codemirror_mode": {
    "name": "ipython",
    "version": 3
   },
   "file_extension": ".py",
   "mimetype": "text/x-python",
   "name": "python",
   "nbconvert_exporter": "python",
   "pygments_lexer": "ipython3",
   "version": "3.7.3"
  }
 },
 "nbformat": 4,
 "nbformat_minor": 2
}
