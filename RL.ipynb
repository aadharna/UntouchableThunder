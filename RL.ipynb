{
 "cells": [
  {
   "cell_type": "code",
   "execution_count": 1,
   "metadata": {},
   "outputs": [],
   "source": [
    "import gym\n",
    "import gvgai\n",
    "import numpy as np\n",
    "\n",
    "import torch\n",
    "import torch.nn as nn\n",
    "import torch.optim as optim\n",
    "from torch.distributions import Categorical\n",
    "import torchvision.transforms as T\n",
    "import torch.nn.functional as F\n",
    "\n",
    "\n",
    "from tqdm import tqdm\n",
    "\n",
    "from matplotlib import pyplot as plt\n",
    "\n",
    "from agent.NNagent import NNagent\n",
    "from torch.autograd import Variable"
   ]
  },
  {
   "cell_type": "code",
   "execution_count": 2,
   "metadata": {},
   "outputs": [],
   "source": [
    "class Value(nn.Module):\n",
    "    def __init__(self, depth):\n",
    "        super(Value, self).__init__()\n",
    "        self.conv1 = nn.Conv2d(in_channels=depth, out_channels=8, kernel_size=3)\n",
    "        self.pool = nn.MaxPool2d(2, 2)\n",
    "        self.conv2 = nn.Conv2d(in_channels=8, out_channels=32, kernel_size=3)\n",
    "        self.fc = nn.Linear((32 * 3) + 4, 1)\n",
    "\n",
    "    def forward(self, x, compass):\n",
    "        x = self.pool(F.relu(self.conv1(x)))\n",
    "        x = F.relu(self.conv2(x))\n",
    "        x = x.view(len(x), 32 * 3)\n",
    "        x = torch.cat([x, compass], dim=1)\n",
    "        x = F.relu(self.fc(x))\n",
    "        return x"
   ]
  },
  {
   "cell_type": "code",
   "execution_count": 3,
   "metadata": {},
   "outputs": [],
   "source": [
    "from generator.env_gen_wrapper import GridGame\n",
    "\n",
    "env = GridGame(game='dzelda', \n",
    "                      play_length=1000, \n",
    "                      path='./levels',\n",
    "                      lvl_name='1.txt',\n",
    "                      mechanics=['+', 'g'], # monsters, key, door, wall\n",
    "                      images=False,\n",
    "                  )"
   ]
  },
  {
   "cell_type": "code",
   "execution_count": 5,
   "metadata": {},
   "outputs": [
    {
     "name": "stderr",
     "output_type": "stream",
     "text": [
      "100%|██████████| 10000/10000 [7:50:54<00:00,  2.83s/it]  \n",
      "/home/aadharna/miniconda3/envs/thesis/lib/python3.7/site-packages/torch/serialization.py:292: UserWarning: Couldn't retrieve source code for container of type Value. It won't be checked for correctness upon loading.\n",
      "  \"type \" + obj.__name__ + \". It won't be checked \"\n",
      "/home/aadharna/miniconda3/envs/thesis/lib/python3.7/site-packages/torch/serialization.py:292: UserWarning: Couldn't retrieve source code for container of type Conv2d. It won't be checked for correctness upon loading.\n",
      "  \"type \" + obj.__name__ + \". It won't be checked \"\n",
      "/home/aadharna/miniconda3/envs/thesis/lib/python3.7/site-packages/torch/serialization.py:292: UserWarning: Couldn't retrieve source code for container of type MaxPool2d. It won't be checked for correctness upon loading.\n",
      "  \"type \" + obj.__name__ + \". It won't be checked \"\n",
      "/home/aadharna/miniconda3/envs/thesis/lib/python3.7/site-packages/torch/serialization.py:292: UserWarning: Couldn't retrieve source code for container of type Linear. It won't be checked for correctness upon loading.\n",
      "  \"type \" + obj.__name__ + \". It won't be checked \"\n",
      "/home/aadharna/miniconda3/envs/thesis/lib/python3.7/site-packages/torch/serialization.py:292: UserWarning: Couldn't retrieve source code for container of type Net. It won't be checked for correctness upon loading.\n",
      "  \"type \" + obj.__name__ + \". It won't be checked \"\n",
      "100%|██████████| 10000/10000 [5:55:25<00:00,  2.13s/it] \n"
     ]
    }
   ],
   "source": [
    "GAMMA = 0.99\n",
    "\n",
    "total_rewards = []\n",
    "total_estimate_rewards = []\n",
    "\n",
    "for baseline in ['none', 'estimate']:\n",
    "    policy = NNagent(GG=None, actions=6, depth=13)\n",
    "    optimizer = optim.Adam(policy.nn.parameters(), lr=.002)\n",
    "    eps = np.finfo(np.float32).eps.item()\n",
    "    \n",
    "    V = Value(13)\n",
    "    V.double()\n",
    "\n",
    "    v_loss = nn.MSELoss()\n",
    "    v_optimizer = optim.SGD(V.parameters(), lr=0.01)\n",
    "    for i in tqdm(range(10000)):\n",
    "        state = env.reset()\n",
    "\n",
    "        rewards = []\n",
    "        states = [state]\n",
    "        compass_info = []\n",
    "        log_probs = []\n",
    "\n",
    "        terminal = False\n",
    "\n",
    "        while not terminal:\n",
    "            # Action selection\n",
    "            probs = policy.rl_get_action(state)\n",
    "            compass_info.append(policy.compass_info)\n",
    "            c = Categorical(probs)\n",
    "            action = c.sample()\n",
    "            log_probs.append(c.log_prob(action))\n",
    "\n",
    "            # Carry out the action\n",
    "            state, reward, terminal, _ = env.step(action.item())\n",
    "\n",
    "            if not terminal:\n",
    "                states.append(state)\n",
    "\n",
    "            rewards.append(reward)\n",
    "\n",
    "        if baseline == 'estimate':\n",
    "            total_estimate_rewards.append(sum(rewards))\n",
    "        else:\n",
    "            total_rewards.append(sum(rewards))\n",
    "\n",
    "        # Calculate the returns\n",
    "        R = 0\n",
    "        returns = []\n",
    "        for r in reversed(rewards):\n",
    "            R = r + GAMMA * R\n",
    "            returns.insert(0, R)\n",
    "        returns = torch.tensor(returns)\n",
    "\n",
    "        values = V(torch.DoubleTensor(states), \n",
    "                   torch.DoubleTensor(np.vstack(compass_info)))\n",
    "\n",
    "        if baseline == 'estimate':\n",
    "            returns = returns - values.data.squeeze()\n",
    "\n",
    "        # Calculate the loss\n",
    "        policy_loss = [-log_prob * R for log_prob, R in zip(log_probs, returns)]\n",
    "\n",
    "        # Backprop for the NN\n",
    "        optimizer.zero_grad()\n",
    "        policy_loss = torch.stack(policy_loss, dim=0).sum()\n",
    "        policy_loss.backward()\n",
    "        optimizer.step()\n",
    "\n",
    "        # Backprop for the value estimator\n",
    "        v_optimizer.zero_grad()\n",
    "        estimate_loss = v_loss(values.squeeze(), returns.double())\n",
    "        estimate_loss.backward()\n",
    "        v_optimizer.step()\n",
    "        \n",
    "        # put check here to break if complete?\n",
    "    \n",
    "    name = 'baseline' if baseline == 'estimate' else 'simple'\n",
    "    \n",
    "    torch.save(V, f'./results/RL/{name}_model_value.pt')\n",
    "    torch.save(policy.nn, f'./results/RL/{name}_model_policy.pt')"
   ]
  },
  {
   "cell_type": "code",
   "execution_count": 13,
   "metadata": {},
   "outputs": [
    {
     "data": {
      "image/png": "[encoded data removed]",
      "text/plain": [
       "<Figure size 1080x720 with 1 Axes>"
      ]
     },
     "metadata": {
      "needs_background": "light"
     },
     "output_type": "display_data"
    }
   ],
   "source": [
    "N=20\n",
    "plt.figure(figsize=(15,10))\n",
    "plt.plot(np.convolve(total_rewards, np.ones((N,))/N, mode='valid'), label='No Baseline')\n",
    "plt.plot(np.convolve(total_estimate_rewards, np.ones((N,))/N, mode='valid'), label='Baseline')\n",
    "plt.legend()\n",
    "plt.show()"
   ]
  },
  {
   "cell_type": "code",
   "execution_count": 7,
   "metadata": {},
   "outputs": [
    {
     "data": {
      "text/plain": [
       "<Figure size 432x288 with 0 Axes>"
      ]
     },
     "metadata": {},
     "output_type": "display_data"
    }
   ],
   "source": [
    "plt.savefig('./results/RL/reward_plot.jpg')"
   ]
  },
  {
   "cell_type": "code",
   "execution_count": null,
   "metadata": {},
   "outputs": [],
   "source": []
  }
 ],
 "metadata": {
  "kernelspec": {
   "display_name": "Python 3",
   "language": "python",
   "name": "python3"
  },
  "language_info": {
   "codemirror_mode": {
    "name": "ipython",
    "version": 3
   },
   "file_extension": ".py",
   "mimetype": "text/x-python",
   "name": "python",
   "nbconvert_exporter": "python",
   "pygments_lexer": "ipython3",
   "version": "3.7.3"
  }
 },
 "nbformat": 4,
 "nbformat_minor": 2
}
