{
 "cells": [
  {
   "cell_type": "code",
   "execution_count": 1,
   "metadata": {},
   "outputs": [],
   "source": [
    "import gym\n",
    "import gvgai\n",
    "import numpy as np\n",
    "\n",
    "import torch\n",
    "import torch.nn as nn\n",
    "import torch.optim as optim\n",
    "from torch.distributions import Categorical\n",
    "import torchvision.transforms as T\n",
    "import torch.nn.functional as F\n",
    "\n",
    "\n",
    "from tqdm import tqdm\n",
    "\n",
    "from matplotlib import pyplot as plt"
   ]
  },
  {
   "cell_type": "code",
   "execution_count": 2,
   "metadata": {},
   "outputs": [],
   "source": [
    "from agent.NNagent import NNagent\n",
    "from torch.autograd import Variable"
   ]
  },
  {
   "cell_type": "code",
   "execution_count": 3,
   "metadata": {},
   "outputs": [],
   "source": [
    "GAMMA = 0.99\n",
    "\n",
    "total_rewards = []\n",
    "total_estimate_rewards = []"
   ]
  },
  {
   "cell_type": "code",
   "execution_count": 4,
   "metadata": {},
   "outputs": [],
   "source": [
    "policy = NNagent(GG=None, actions=6, depth=13)"
   ]
  },
  {
   "cell_type": "code",
   "execution_count": 5,
   "metadata": {},
   "outputs": [
    {
     "data": {
      "text/plain": [
       "Net(\n",
       "  (conv1): Conv2d(13, 8, kernel_size=(3, 3), stride=(1, 1))\n",
       "  (pool): MaxPool2d(kernel_size=2, stride=2, padding=0, dilation=1, ceil_mode=False)\n",
       "  (conv2): Conv2d(8, 32, kernel_size=(3, 3), stride=(1, 1))\n",
       "  (fc1): Linear(in_features=100, out_features=48, bias=True)\n",
       "  (fc2): Linear(in_features=48, out_features=24, bias=True)\n",
       "  (fc3): Linear(in_features=24, out_features=6, bias=True)\n",
       ")"
      ]
     },
     "execution_count": 5,
     "metadata": {},
     "output_type": "execute_result"
    }
   ],
   "source": [
    "policy.nn"
   ]
  },
  {
   "cell_type": "code",
   "execution_count": 6,
   "metadata": {},
   "outputs": [],
   "source": [
    "optimizer = optim.Adam(policy.nn.parameters(), lr=.002)"
   ]
  },
  {
   "cell_type": "code",
   "execution_count": 7,
   "metadata": {},
   "outputs": [],
   "source": [
    "eps = np.finfo(np.float32).eps.item()"
   ]
  },
  {
   "cell_type": "code",
   "execution_count": 8,
   "metadata": {},
   "outputs": [],
   "source": [
    "class Value(nn.Module):\n",
    "    def __init__(self, depth):\n",
    "        super(Value, self).__init__()\n",
    "        self.conv1 = nn.Conv2d(in_channels=depth, out_channels=8, kernel_size=3)\n",
    "        self.pool = nn.MaxPool2d(2, 2)\n",
    "        self.conv2 = nn.Conv2d(in_channels=8, out_channels=32, kernel_size=3)\n",
    "        self.fc = nn.Linear((32 * 3) + 4, 1)\n",
    "\n",
    "    def forward(self, x, compass):\n",
    "        x = self.pool(F.relu(self.conv1(x)))\n",
    "        x = F.relu(self.conv2(x))\n",
    "        x = x.view(len(x), 32 * 3)\n",
    "        x = torch.cat([x, compass], dim=1)\n",
    "        x = F.relu(self.fc(x))\n",
    "        return x"
   ]
  },
  {
   "cell_type": "code",
   "execution_count": 9,
   "metadata": {},
   "outputs": [
    {
     "data": {
      "text/plain": [
       "Value(\n",
       "  (conv1): Conv2d(13, 8, kernel_size=(3, 3), stride=(1, 1))\n",
       "  (pool): MaxPool2d(kernel_size=2, stride=2, padding=0, dilation=1, ceil_mode=False)\n",
       "  (conv2): Conv2d(8, 32, kernel_size=(3, 3), stride=(1, 1))\n",
       "  (fc): Linear(in_features=100, out_features=1, bias=True)\n",
       ")"
      ]
     },
     "execution_count": 9,
     "metadata": {},
     "output_type": "execute_result"
    }
   ],
   "source": [
    "V = Value(13)\n",
    "V.double()"
   ]
  },
  {
   "cell_type": "code",
   "execution_count": 10,
   "metadata": {},
   "outputs": [],
   "source": [
    "v_loss = nn.MSELoss()\n",
    "v_optimizer = optim.SGD(V.parameters(), lr=0.01)"
   ]
  },
  {
   "cell_type": "code",
   "execution_count": 11,
   "metadata": {},
   "outputs": [],
   "source": [
    "from generator.env_gen_wrapper import GridGame\n",
    "\n",
    "env = GridGame(game='dzelda', \n",
    "                      play_length=1000, \n",
    "                      path='./levels',\n",
    "                      lvl_name='1.txt',\n",
    "                      mechanics=['+', 'g'], # monsters, key, door, wall\n",
    "                      images=False,\n",
    "                  )"
   ]
  },
  {
   "cell_type": "code",
   "execution_count": null,
   "metadata": {
    "scrolled": true
   },
   "outputs": [
    {
     "name": "stderr",
     "output_type": "stream",
     "text": [
      "  4%|▍         | 426/10000 [05:52<1:44:55,  1.52it/s]"
     ]
    }
   ],
   "source": [
    "for i in tqdm(range(10000)):\n",
    "    state = env.reset()\n",
    "\n",
    "    rewards = []\n",
    "    states = [state]\n",
    "    compass_info = []\n",
    "    log_probs = []\n",
    "\n",
    "    terminal = False\n",
    "    \n",
    "    while not terminal:\n",
    "        # Action selection\n",
    "        probs = policy.rl_get_action(state)\n",
    "        compass_info.append(policy.compass_info)\n",
    "        c = Categorical(probs)\n",
    "        action = c.sample()\n",
    "        log_probs.append(c.log_prob(action))\n",
    "\n",
    "        # Carry out the action\n",
    "        state, reward, terminal, _ = env.step(action.item())\n",
    "\n",
    "        if not terminal:\n",
    "            states.append(state)\n",
    "\n",
    "        rewards.append(reward)\n",
    "\n",
    "#     if baseline == 'estimate':\n",
    "#         total_estimate_rewards.append(sum(rewards))\n",
    "#     else:\n",
    "    total_rewards.append(sum(rewards))\n",
    "\n",
    "    # Calculate the returns\n",
    "    R = 0\n",
    "    returns = []\n",
    "    for r in reversed(rewards):\n",
    "        R = r + GAMMA * R\n",
    "        returns.insert(0, R)\n",
    "    returns = torch.tensor(returns)\n",
    "\n",
    "    values = V(torch.DoubleTensor(states), \n",
    "               torch.DoubleTensor(np.vstack(compass_info)))\n",
    "\n",
    "#     if baseline == 'estimate':\n",
    "#         returns = returns - values.data.squeeze()\n",
    "\n",
    "    # Calculate the loss\n",
    "    policy_loss = [-log_prob * R for log_prob, R in zip(log_probs, returns)]\n",
    "\n",
    "    # Backprop for the NN\n",
    "    optimizer.zero_grad()\n",
    "    policy_loss = torch.stack(policy_loss, dim=0).sum()\n",
    "    policy_loss.backward()\n",
    "    optimizer.step()\n",
    "\n",
    "    # Backprop for the value estimator\n",
    "    v_optimizer.zero_grad()\n",
    "    estimate_loss = v_loss(values.squeeze(), returns.double())\n",
    "    estimate_loss.backward()\n",
    "    v_optimizer.step()"
   ]
  },
  {
   "cell_type": "code",
   "execution_count": null,
   "metadata": {},
   "outputs": [],
   "source": [
    "N = 20\n",
    "plt.figure(figsize=(15,10))\n",
    "plt.plot(np.convolve(total_rewards, np.ones((N,))/N, mode='valid'), label='No Baseline')"
   ]
  },
  {
   "cell_type": "code",
   "execution_count": null,
   "metadata": {},
   "outputs": [],
   "source": []
  }
 ],
 "metadata": {
  "kernelspec": {
   "display_name": "thesis",
   "language": "python",
   "name": "thesis"
  },
  "language_info": {
   "codemirror_mode": {
    "name": "ipython",
    "version": 3
   },
   "file_extension": ".py",
   "mimetype": "text/x-python",
   "name": "python",
   "nbconvert_exporter": "python",
   "pygments_lexer": "ipython3",
   "version": "3.7.3"
  }
 },
 "nbformat": 4,
 "nbformat_minor": 2
}
