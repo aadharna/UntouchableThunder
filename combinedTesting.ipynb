{
 "cells": [
  {
   "cell_type": "code",
   "execution_count": null,
   "metadata": {},
   "outputs": [],
   "source": [
    "# run()"
   ]
  },
  {
   "cell_type": "code",
   "execution_count": 1,
   "metadata": {},
   "outputs": [],
   "source": [
    "from agent.base import Agent\n",
    "from optimization.Optimizer import PyTorchObjective\n",
    "\n",
    "import matplotlib.pyplot as plt\n",
    "\n",
    "# gym_gvgai.dir\n",
    "\n",
    "%matplotlib inline\n",
    "import gym\n",
    "import gvgai\n",
    "from IPython import display"
   ]
  },
  {
   "cell_type": "code",
   "execution_count": null,
   "metadata": {},
   "outputs": [],
   "source": [
    "def show_state(env, step=0, name=\"\", info=\"\", image=None):\n",
    "    \"\"\"Fn to visualize the agent playing the game in a notebook\n",
    "    \"\"\"\n",
    "    plt.figure(10)\n",
    "    plt.clf()\n",
    "    if image is not None:\n",
    "        im = image\n",
    "    else:\n",
    "        im = env.render(mode=\"rgb_array\")[0]\n",
    "    plt.imshow(im)\n",
    "    plt.title(\"{} | Step: {} {}\".format(name, step, info))\n",
    "    plt.axis('off')\n",
    "    display.clear_output(wait=True)\n",
    "    display.display(plt.gcf())"
   ]
  },
  {
   "cell_type": "code",
   "execution_count": 2,
   "metadata": {},
   "outputs": [],
   "source": [
    "from generator.env_gen_wrapper import GridGame"
   ]
  },
  {
   "cell_type": "code",
   "execution_count": null,
   "metadata": {},
   "outputs": [],
   "source": [
    "from agent.base import simulate"
   ]
  },
  {
   "cell_type": "code",
   "execution_count": null,
   "metadata": {},
   "outputs": [],
   "source": [
    "import numpy as np"
   ]
  },
  {
   "cell_type": "code",
   "execution_count": null,
   "metadata": {},
   "outputs": [],
   "source": [
    "from baselines.common.vec_env.dummy_vec_env import DummyVecEnv"
   ]
  },
  {
   "cell_type": "code",
   "execution_count": 3,
   "metadata": {},
   "outputs": [],
   "source": [
    "from agent.NNagent import NNagent"
   ]
  },
  {
   "cell_type": "code",
   "execution_count": 4,
   "metadata": {},
   "outputs": [],
   "source": [
    "import torch"
   ]
  },
  {
   "cell_type": "code",
   "execution_count": null,
   "metadata": {},
   "outputs": [],
   "source": []
  },
  {
   "cell_type": "code",
   "execution_count": 5,
   "metadata": {},
   "outputs": [],
   "source": [
    "def make():\n",
    "    def _make():\n",
    "        return GridGame(game='dzelda', \n",
    "                          play_length=250, \n",
    "                          path='./levels',\n",
    "                          lvl_name='1.txt',\n",
    "                          mechanics=['+', 'g'], # monsters, key, door, wall\n",
    "                          images=True,\n",
    "                  )\n",
    "    return _make"
   ]
  },
  {
   "cell_type": "code",
   "execution_count": 6,
   "metadata": {},
   "outputs": [],
   "source": [
    "from baselines.common.vec_env.shmem_vec_env import ShmemVecEnv"
   ]
  },
  {
   "cell_type": "code",
   "execution_count": 7,
   "metadata": {},
   "outputs": [],
   "source": [
    "from utils.utils import zelda_spaces"
   ]
  },
  {
   "cell_type": "code",
   "execution_count": null,
   "metadata": {},
   "outputs": [],
   "source": []
  },
  {
   "cell_type": "code",
   "execution_count": 8,
   "metadata": {},
   "outputs": [],
   "source": [
    "env = [make(), make()]"
   ]
  },
  {
   "cell_type": "code",
   "execution_count": null,
   "metadata": {},
   "outputs": [],
   "source": []
  },
  {
   "cell_type": "code",
   "execution_count": 9,
   "metadata": {},
   "outputs": [],
   "source": [
    "envs = ShmemVecEnv(env, \n",
    "                   spaces=zelda_spaces, \n",
    "                   context='fork')"
   ]
  },
  {
   "cell_type": "code",
   "execution_count": 10,
   "metadata": {},
   "outputs": [],
   "source": [
    "pg = NNagent(GG=None, actions=6, depth=13)"
   ]
  },
  {
   "cell_type": "code",
   "execution_count": 11,
   "metadata": {},
   "outputs": [
    {
     "data": {
      "text/plain": [
       "<baselines.common.vec_env.shmem_vec_env.ShmemVecEnv at 0x7fcf0389f7f0>"
      ]
     },
     "execution_count": 11,
     "metadata": {},
     "output_type": "execute_result"
    }
   ],
   "source": [
    "envs"
   ]
  },
  {
   "cell_type": "code",
   "execution_count": 12,
   "metadata": {},
   "outputs": [],
   "source": [
    "states = envs.reset()"
   ]
  },
  {
   "cell_type": "code",
   "execution_count": 13,
   "metadata": {},
   "outputs": [
    {
     "data": {
      "text/plain": [
       "(2, 13, 9, 13)"
      ]
     },
     "execution_count": 13,
     "metadata": {},
     "output_type": "execute_result"
    }
   ],
   "source": [
    "states.shape"
   ]
  },
  {
   "cell_type": "code",
   "execution_count": 16,
   "metadata": {},
   "outputs": [],
   "source": [
    "compass = np.array([pg.compass_info, pg.compass_info])"
   ]
  },
  {
   "cell_type": "code",
   "execution_count": 19,
   "metadata": {},
   "outputs": [
    {
     "data": {
      "text/plain": [
       "(tensor([0, 4]),\n",
       " tensor([1.7965, 1.7982], dtype=torch.float64, grad_fn=<NegBackward>),\n",
       " tensor([1.7917, 1.7917], dtype=torch.float64, grad_fn=<NegBackward>))"
      ]
     },
     "execution_count": 19,
     "metadata": {},
     "output_type": "execute_result"
    }
   ],
   "source": [
    "pg.rl_get_action(torch.DoubleTensor(states), torch.DoubleTensor(compass))"
   ]
  },
  {
   "cell_type": "code",
   "execution_count": null,
   "metadata": {},
   "outputs": [],
   "source": []
  },
  {
   "cell_type": "code",
   "execution_count": null,
   "metadata": {},
   "outputs": [],
   "source": []
  },
  {
   "cell_type": "code",
   "execution_count": null,
   "metadata": {},
   "outputs": [],
   "source": []
  },
  {
   "cell_type": "code",
   "execution_count": null,
   "metadata": {},
   "outputs": [],
   "source": []
  },
  {
   "cell_type": "code",
   "execution_count": null,
   "metadata": {
    "scrolled": true
   },
   "outputs": [],
   "source": [
    "envs.step_async([0, 4])"
   ]
  },
  {
   "cell_type": "code",
   "execution_count": null,
   "metadata": {},
   "outputs": [],
   "source": [
    "[pipe.poll() for pipe in envs.parent_pipes]"
   ]
  },
  {
   "cell_type": "code",
   "execution_count": null,
   "metadata": {},
   "outputs": [],
   "source": [
    "obs, reward, done, info = envs.step_wait()"
   ]
  },
  {
   "cell_type": "code",
   "execution_count": null,
   "metadata": {},
   "outputs": [],
   "source": [
    "plt.imshow(info[0]['pic'])"
   ]
  },
  {
   "cell_type": "code",
   "execution_count": null,
   "metadata": {},
   "outputs": [],
   "source": [
    "envs.close()"
   ]
  },
  {
   "cell_type": "code",
   "execution_count": null,
   "metadata": {},
   "outputs": [],
   "source": [
    "obs.shape"
   ]
  },
  {
   "cell_type": "code",
   "execution_count": null,
   "metadata": {},
   "outputs": [],
   "source": []
  },
  {
   "cell_type": "code",
   "execution_count": null,
   "metadata": {},
   "outputs": [],
   "source": []
  },
  {
   "cell_type": "code",
   "execution_count": null,
   "metadata": {},
   "outputs": [],
   "source": []
  },
  {
   "cell_type": "markdown",
   "metadata": {},
   "source": [
    "- kill oldest.   \n",
    "\n",
    "- Write mutate wrapper that lives at top of Pair that will create a new Pair obj  \n",
    "- Copy the Agent, mutate the env.  \n",
    "\n",
    "- Flip fiber bits in the Tensor NN input.  \n",
    "\n",
    "----  \n",
    "- Interestingly, POET has a default of `max_children=8` for each reporduce step. "
   ]
  },
  {
   "cell_type": "code",
   "execution_count": null,
   "metadata": {},
   "outputs": [],
   "source": [
    "popLim = 2\n",
    "population = [None]*popLim\n",
    "\n",
    "for i in range(len(population)):\n",
    "    population[i] = NNagent(GridGame(game='zelda', \n",
    "                                     play_length=1000,\n",
    "                                     path='./levels',\n",
    "                                     lvl_name='start.txt', \n",
    "                                     mechanics=['1', '2', '3', '+', 'g', 'w'], # monsters, key, door, wall\n",
    "                                     images=False\n",
    "                                  )\n",
    "                         )\n",
    "\n",
    "population.append(NNagent(GridGame(game='zelda', \n",
    "                                     play_length=1000,\n",
    "                                     path='./levels',\n",
    "                                     lvl_name='start.txt', \n",
    "                                     mechanics=['1', '2', '3', '+', 'g', 'w'], # monsters, key, door, wall\n",
    "                                     images=False\n",
    "                                  ), \n",
    "                          parent=torch.load(\"./25_gen_weights_5_5.pt\")\n",
    "                         )\n",
    "                 )\n",
    "\n",
    "tile = population[0].reset()\n",
    "\n",
    "import time\n",
    "start = time.time()\n",
    "population[2].evaluate()\n",
    "end = time.time() - start\n",
    "print(end)"
   ]
  },
  {
   "cell_type": "code",
   "execution_count": null,
   "metadata": {},
   "outputs": [],
   "source": [
    "population"
   ]
  },
  {
   "cell_type": "code",
   "execution_count": null,
   "metadata": {},
   "outputs": [],
   "source": [
    "from optimization.Optimizer import run_TJ_DE\n",
    "from optimization.Optimizer import run_ppo"
   ]
  },
  {
   "cell_type": "code",
   "execution_count": null,
   "metadata": {},
   "outputs": [],
   "source": [
    "run_ppo(pg, pg.env.make, './runs', n_concurrent_games=1, frames=1000)\n",
    "# pg network gets modified in place. "
   ]
  },
  {
   "cell_type": "code",
   "execution_count": null,
   "metadata": {},
   "outputs": [],
   "source": [
    "pg.fitness(rl=True)"
   ]
  },
  {
   "cell_type": "code",
   "execution_count": null,
   "metadata": {},
   "outputs": [],
   "source": []
  },
  {
   "cell_type": "code",
   "execution_count": null,
   "metadata": {},
   "outputs": [],
   "source": []
  },
  {
   "cell_type": "code",
   "execution_count": null,
   "metadata": {},
   "outputs": [],
   "source": []
  },
  {
   "cell_type": "code",
   "execution_count": null,
   "metadata": {},
   "outputs": [],
   "source": [
    "steps_between_transfer = 2\n",
    "steps_between_mutation = 10"
   ]
  },
  {
   "cell_type": "code",
   "execution_count": null,
   "metadata": {
    "scrolled": true
   },
   "outputs": [],
   "source": [
    "for epochs in range(3):\n",
    "    for i in range(len(population)):\n",
    "        population[i].fitness(noisy=True)\n",
    "    \n",
    "    print('evaluated')\n",
    "    if epochs % steps_between_mutation == 0:\n",
    "        for i in range(len(population)):\n",
    "            for _ in range(2):\n",
    "                population.append(population[i].mutate(0.7))\n",
    "                \n",
    "        population = sorted(population, key=lambda x: x.env.id, reverse=True)[:10] \n",
    "        print(f\"parents + children = {len(population)} old + new members\")\n",
    "        \n",
    "    # sort by id, kill Pairs with smallest IDs. \n",
    "    print(f\"generation has {len(population)} members\")\n",
    "    \n",
    "    opt_wrapper = [PyTorchObjective(agent) for agent in population]\n",
    "    \n",
    "    print('optimizing')\n",
    "    for each_pair in opt_wrapper:\n",
    "        ans = run_opt_n_steps(each_pair, n=2, popsize=24)\n",
    "        each_pair.update_nn(ans)\n",
    "\n",
    "        \n",
    "    if epochs % steps_between_transfer == 0:\n",
    "        print('transferring')\n",
    "        # for each environment, i, (and therefore paired agent)\n",
    "        for i, current_pair in enumerate(population):\n",
    "            # save paired agent's score and network\n",
    "            best = (current_pair.nn, current_pair.max_achieved_score)\n",
    "            # for every other network, evaluate environment i in agent j\n",
    "            for j, other_pair in enumerate(population):\n",
    "                if i == j:\n",
    "                    continue\n",
    "                else:\n",
    "                    j_score = current_pair.env.fitness(other_pair)\n",
    "                    if best[1] <= j_score:\n",
    "                        # updated network\n",
    "                        print(f\"update network {i} to {j}\")\n",
    "                        best = (other_pair.nn, j_score)\n",
    "                        \n",
    "            #transfer into environment, i, the agent, j, who performed the best.\n",
    "            #\n",
    "            # Potential new evaluation metric here. We keep track on how many steps the agent takes\n",
    "            # therefore, what if the final score is equal to earned score / num_steps. \n",
    "            # \n",
    "            # This would differential agents who achieve the score faster with higher fitness values\n",
    "            \n",
    "            current_pair.nn = best[0]\n",
    "            "
   ]
  },
  {
   "cell_type": "code",
   "execution_count": null,
   "metadata": {},
   "outputs": [],
   "source": [
    "population"
   ]
  },
  {
   "cell_type": "code",
   "execution_count": null,
   "metadata": {},
   "outputs": [],
   "source": [
    "population[8].fitness()"
   ]
  },
  {
   "cell_type": "code",
   "execution_count": null,
   "metadata": {},
   "outputs": [],
   "source": [
    "print(str(population[3].env.generator))"
   ]
  },
  {
   "cell_type": "code",
   "execution_count": null,
   "metadata": {},
   "outputs": [],
   "source": [
    "population[0].env.fitness(population[2])"
   ]
  },
  {
   "cell_type": "code",
   "execution_count": null,
   "metadata": {},
   "outputs": [],
   "source": []
  },
  {
   "cell_type": "code",
   "execution_count": null,
   "metadata": {},
   "outputs": [],
   "source": []
  },
  {
   "cell_type": "code",
   "execution_count": null,
   "metadata": {},
   "outputs": [],
   "source": []
  }
 ],
 "metadata": {
  "kernelspec": {
   "display_name": "thesis",
   "language": "python",
   "name": "thesis"
  },
  "language_info": {
   "codemirror_mode": {
    "name": "ipython",
    "version": 3
   },
   "file_extension": ".py",
   "mimetype": "text/x-python",
   "name": "python",
   "nbconvert_exporter": "python",
   "pygments_lexer": "ipython3",
   "version": "3.7.3"
  }
 },
 "nbformat": 4,
 "nbformat_minor": 2
}
