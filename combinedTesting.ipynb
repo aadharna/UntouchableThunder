{
 "cells": [
  {
   "cell_type": "code",
   "execution_count": 1,
   "metadata": {},
   "outputs": [],
   "source": [
    "# run()"
   ]
  },
  {
   "cell_type": "code",
   "execution_count": 2,
   "metadata": {},
   "outputs": [],
   "source": [
    "from agent.base import Agent\n",
    "from optimization.Optimizer import PyTorchObjective\n",
    "\n",
    "import matplotlib.pyplot as plt\n",
    "\n",
    "# gym_gvgai.dir\n",
    "\n",
    "%matplotlib inline\n",
    "import gym\n",
    "import gvgai\n",
    "from IPython import display"
   ]
  },
  {
   "cell_type": "code",
   "execution_count": 3,
   "metadata": {},
   "outputs": [],
   "source": [
    "def show_state(env, step=0, name=\"\", info=\"\"):\n",
    "    \"\"\"Fn to visualize the agent playing the game in a notebook\n",
    "    \"\"\"\n",
    "    plt.figure(10)\n",
    "    plt.clf()\n",
    "    plt.imshow(env.render(mode=\"rgb_array\")[0])\n",
    "    plt.title(\"{} | Step: {} {}\".format(name, step, info))\n",
    "    plt.axis('off')\n",
    "    display.clear_output(wait=True)\n",
    "    display.display(plt.gcf())"
   ]
  },
  {
   "cell_type": "code",
   "execution_count": 4,
   "metadata": {},
   "outputs": [],
   "source": [
    "from generator.env_gen_wrapper import GridGame"
   ]
  },
  {
   "cell_type": "code",
   "execution_count": 5,
   "metadata": {},
   "outputs": [],
   "source": [
    "from agent.base import simulate"
   ]
  },
  {
   "cell_type": "code",
   "execution_count": 6,
   "metadata": {},
   "outputs": [],
   "source": [
    "import numpy as np"
   ]
  },
  {
   "cell_type": "code",
   "execution_count": 7,
   "metadata": {},
   "outputs": [],
   "source": [
    "from baselines.common.vec_env.dummy_vec_env import DummyVecEnv"
   ]
  },
  {
   "cell_type": "code",
   "execution_count": 8,
   "metadata": {},
   "outputs": [],
   "source": [
    "from agent.NNagent import NNagent"
   ]
  },
  {
   "cell_type": "code",
   "execution_count": 9,
   "metadata": {},
   "outputs": [],
   "source": [
    "import torch"
   ]
  },
  {
   "cell_type": "code",
   "execution_count": 10,
   "metadata": {},
   "outputs": [],
   "source": [
    "popLim = 2\n",
    "population = [None]*popLim\n",
    "\n",
    "for i in range(len(population)):\n",
    "    population[i] = NNagent(GridGame(game='zelda', \n",
    "                                     play_length=1000,\n",
    "                                     path='./levels',\n",
    "                                     lvl_name='start.txt', \n",
    "                                     mechanics=['1', '2', '3', '+', 'g', 'w'], # monsters, key, door, wall\n",
    "                                     images=False\n",
    "                                  )\n",
    "                         )"
   ]
  },
  {
   "cell_type": "code",
   "execution_count": 11,
   "metadata": {},
   "outputs": [],
   "source": [
    "population.append(NNagent(GridGame(game='zelda', \n",
    "                                     play_length=1000,\n",
    "                                     path='./levels',\n",
    "                                     lvl_name='start.txt', \n",
    "                                     mechanics=['1', '2', '3', '+', 'g', 'w'], # monsters, key, door, wall\n",
    "                                     images=False\n",
    "                                  ), \n",
    "                          parent=torch.load(\"./25_gen_weights_5_5.pt\")\n",
    "                         )\n",
    "                 )"
   ]
  },
  {
   "cell_type": "code",
   "execution_count": 12,
   "metadata": {},
   "outputs": [],
   "source": [
    "tile = population[0].reset()"
   ]
  },
  {
   "cell_type": "code",
   "execution_count": 37,
   "metadata": {},
   "outputs": [
    {
     "name": "stdout",
     "output_type": "stream",
     "text": [
      "solved env with sc: 2.0\n",
      "0.10809850692749023\n"
     ]
    }
   ],
   "source": [
    "import time\n",
    "start = time.time()\n",
    "population[2].evaluate()\n",
    "end = time.time() - start\n",
    "print(end)"
   ]
  },
  {
   "cell_type": "code",
   "execution_count": null,
   "metadata": {},
   "outputs": [],
   "source": []
  },
  {
   "cell_type": "code",
   "execution_count": 14,
   "metadata": {},
   "outputs": [],
   "source": [
    "# population[0].fitness(noisy=True, fn=show_state)"
   ]
  },
  {
   "cell_type": "code",
   "execution_count": 15,
   "metadata": {},
   "outputs": [],
   "source": [
    "# population[0].env._fit"
   ]
  },
  {
   "cell_type": "code",
   "execution_count": null,
   "metadata": {},
   "outputs": [],
   "source": []
  },
  {
   "cell_type": "code",
   "execution_count": 16,
   "metadata": {},
   "outputs": [],
   "source": [
    "# def make():\n",
    "#     def _make():\n",
    "#         return GridGame(game='zelda', \n",
    "#                          play_length=250, \n",
    "#                          path=gym_gvgai.dir + '/envs/games/zelda_v0/', \n",
    "#                          lvl_name='zelda_lvl0.txt', \n",
    "#                          mechanics=['1', '2', '3', '+', 'g', 'w'], # monster, key, door, wall\n",
    "#                                )\n",
    "#     return _make"
   ]
  },
  {
   "cell_type": "code",
   "execution_count": 17,
   "metadata": {},
   "outputs": [],
   "source": [
    "# x = make()()"
   ]
  },
  {
   "cell_type": "code",
   "execution_count": 18,
   "metadata": {},
   "outputs": [],
   "source": [
    "# x.env.env.get_action_meanings()"
   ]
  },
  {
   "cell_type": "code",
   "execution_count": 19,
   "metadata": {},
   "outputs": [],
   "source": [
    "# def move(action):\n",
    "#     a, b, c, d = x.step(action)\n",
    "#     print(b)\n",
    "#     plt.imshow(d['pic'])"
   ]
  },
  {
   "cell_type": "code",
   "execution_count": 20,
   "metadata": {},
   "outputs": [],
   "source": [
    "#  move(2)"
   ]
  },
  {
   "cell_type": "code",
   "execution_count": 21,
   "metadata": {},
   "outputs": [],
   "source": [
    "# env = [make(), make()]"
   ]
  },
  {
   "cell_type": "code",
   "execution_count": 22,
   "metadata": {},
   "outputs": [],
   "source": [
    "# from baselines.common.vec_env.shmem_vec_env import ShmemVecEnv"
   ]
  },
  {
   "cell_type": "code",
   "execution_count": 23,
   "metadata": {},
   "outputs": [],
   "source": [
    "# envs = ShmemVecEnv(env, context='fork')"
   ]
  },
  {
   "cell_type": "code",
   "execution_count": 24,
   "metadata": {
    "scrolled": true
   },
   "outputs": [],
   "source": [
    "# envs.step_async([0, 0])"
   ]
  },
  {
   "cell_type": "code",
   "execution_count": 25,
   "metadata": {},
   "outputs": [],
   "source": [
    "# [pipe.poll() for pipe in envs.parent_pipes]"
   ]
  },
  {
   "cell_type": "code",
   "execution_count": null,
   "metadata": {},
   "outputs": [],
   "source": []
  },
  {
   "cell_type": "code",
   "execution_count": 26,
   "metadata": {},
   "outputs": [],
   "source": [
    "# if np.all([pipe.poll() for pipe in envs.parent_pipes]):\n",
    "#     outs = [pipe.recv() for pipe in envs.parent_pipes]"
   ]
  },
  {
   "cell_type": "code",
   "execution_count": null,
   "metadata": {},
   "outputs": [],
   "source": []
  },
  {
   "cell_type": "code",
   "execution_count": 27,
   "metadata": {},
   "outputs": [],
   "source": [
    "# self.waiting_step = False\n",
    "# obs, rews, dones, infos = zip(*outs)\n",
    "# z = (envs._decode_obses(obs), np.array(rews), np.array(dones), infos)"
   ]
  },
  {
   "cell_type": "code",
   "execution_count": 28,
   "metadata": {
    "scrolled": true
   },
   "outputs": [],
   "source": [
    "# z = envs2.step_wait()\n",
    "\n"
   ]
  },
  {
   "cell_type": "markdown",
   "metadata": {},
   "source": [
    "- kill oldest.   \n",
    "\n",
    "- Write mutate wrapper that lives at top of Pair that will create a new Pair obj  \n",
    "- Copy the Agent, mutate the env.  \n",
    "\n",
    "- Flip fiber bits in the Tensor NN input.  \n",
    "\n",
    "----  \n",
    "- Interestingly, POET has a default of `max_children=8` for each reporduce step. "
   ]
  },
  {
   "cell_type": "code",
   "execution_count": 29,
   "metadata": {},
   "outputs": [
    {
     "data": {
      "text/plain": [
       "[<agent.NNagent.NNagent at 0x7fa0dfea1e80>,\n",
       " <agent.NNagent.NNagent at 0x7fa0de4a6d30>,\n",
       " <agent.NNagent.NNagent at 0x7fa0deefeeb8>]"
      ]
     },
     "execution_count": 29,
     "metadata": {},
     "output_type": "execute_result"
    }
   ],
   "source": [
    "population"
   ]
  },
  {
   "cell_type": "code",
   "execution_count": 30,
   "metadata": {},
   "outputs": [],
   "source": [
    "from optimization.Optimizer import run_opt_n_steps"
   ]
  },
  {
   "cell_type": "code",
   "execution_count": 31,
   "metadata": {},
   "outputs": [],
   "source": [
    "steps_between_transfer = 2\n",
    "steps_between_mutation = 10"
   ]
  },
  {
   "cell_type": "code",
   "execution_count": 38,
   "metadata": {
    "scrolled": true
   },
   "outputs": [
    {
     "name": "stdout",
     "output_type": "stream",
     "text": [
      "evaluated\n",
      "parents + children = 9 old + new members\n",
      "generation has 9 members\n",
      "optimizing\n",
      "25\n",
      "25\n",
      "25\n",
      "25\n",
      "solved env with sc: -1.0\n",
      "solved env with sc: -1.0\n",
      "solved env with sc: -1.0\n",
      "solved env with sc: -1.0\n",
      "solved env with sc: -1.0\n",
      "solved env with sc: -1.0\n",
      "solved env with sc: -1.0\n",
      "solved env with sc: 0.0\n",
      "solved env with sc: 0.0\n",
      "solved env with sc: -1.0\n",
      "solved env with sc: -1.0\n",
      "solved env with sc: -1.0\n",
      "solved env with sc: -1.0\n",
      "solved env with sc: -1.0\n",
      "solved env with sc: -1.0\n",
      "solved env with sc: -1.0\n",
      "solved env with sc: -1.0\n",
      "solved env with sc: -1.0\n",
      "solved env with sc: -1.0\n",
      "solved env with sc: -1.0\n",
      "solved env with sc: -1.0\n",
      "solved env with sc: -1.0\n",
      "solved env with sc: -1.0\n",
      "solved env with sc: -1.0\n",
      "solved env with sc: -1.0\n",
      "solved env with sc: -1.0\n",
      "solved env with sc: 0.0\n",
      "solved env with sc: -1.0\n",
      "solved env with sc: 0.0\n",
      "solved env with sc: -1.0\n",
      "solved env with sc: -1.0\n",
      "solved env with sc: -1.0\n",
      "solved env with sc: -1.0\n",
      "solved env with sc: -1.0\n",
      "solved env with sc: -1.0\n",
      "solved env with sc: -1.0\n",
      "solved env with sc: -1.0\n",
      "solved env with sc: 0.0\n",
      "solved env with sc: -1.0\n",
      "solved env with sc: -1.0\n",
      "solved env with sc: 0.0\n",
      "solved env with sc: -1.0\n",
      "solved env with sc: -1.0\n",
      "solved env with sc: 0.0\n",
      "solved env with sc: -1.0\n",
      "solved env with sc: -1.0\n",
      "solved env with sc: 0.0\n",
      "solved env with sc: -1.0\n",
      "solved env with sc: 0.0\n",
      "solved env with sc: 0.0\n",
      "solved env with sc: -1.0\n",
      "solved env with sc: -1.0\n",
      "solved env with sc: -1.0\n",
      "solved env with sc: -1.0\n",
      "solved env with sc: -1.0\n",
      "solved env with sc: -1.0\n",
      "solved env with sc: -1.0\n",
      "solved env with sc: 0.0\n",
      "solved env with sc: -1.0\n",
      "solved env with sc: -1.0\n",
      "solved env with sc: -1.0\n",
      "solved env with sc: 0.0\n",
      "solved env with sc: 0.0\n",
      "solved env with sc: -1.0\n",
      "25\n",
      "25\n",
      "25\n",
      "25\n",
      "25\n",
      "transferring\n",
      "update network 0 to 1\n",
      "update network 0 to 2\n",
      "update network 0 to 3\n",
      "update network 0 to 4\n",
      "update network 1 to 0\n",
      "update network 1 to 2\n",
      "update network 1 to 3\n",
      "update network 1 to 4\n",
      "update network 1 to 5\n",
      "update network 1 to 7\n",
      "update network 1 to 8\n",
      "update network 2 to 0\n",
      "update network 2 to 1\n",
      "update network 2 to 3\n",
      "update network 2 to 4\n",
      "update network 2 to 5\n",
      "update network 2 to 6\n",
      "update network 2 to 7\n",
      "update network 2 to 8\n",
      "solved env with sc: -1.0\n",
      "update network 3 to 0\n",
      "solved env with sc: 0.0\n",
      "solved env with sc: 0.0\n",
      "solved env with sc: -1.0\n",
      "update network 3 to 4\n",
      "solved env with sc: 0.0\n",
      "solved env with sc: 0.0\n",
      "solved env with sc: 0.0\n",
      "solved env with sc: 0.0\n",
      "update network 4 to 0\n",
      "update network 4 to 1\n",
      "update network 4 to 2\n",
      "update network 4 to 3\n",
      "update network 4 to 5\n",
      "update network 4 to 6\n",
      "update network 4 to 7\n",
      "update network 4 to 8\n",
      "update network 5 to 0\n",
      "update network 5 to 3\n",
      "update network 6 to 0\n",
      "update network 6 to 3\n",
      "update network 6 to 5\n",
      "update network 7 to 0\n",
      "update network 7 to 3\n",
      "update network 7 to 5\n",
      "update network 7 to 6\n",
      "update network 8 to 0\n",
      "update network 8 to 3\n",
      "update network 8 to 5\n",
      "update network 8 to 6\n",
      "update network 8 to 7\n",
      "solved env with sc: -1.0\n",
      "evaluated\n",
      "generation has 9 members\n",
      "optimizing\n",
      "25\n",
      "25\n",
      "25\n",
      "25\n",
      "solved env with sc: -1.0\n",
      "solved env with sc: -1.0\n",
      "solved env with sc: 0.0\n",
      "solved env with sc: -1.0\n",
      "solved env with sc: -1.0\n",
      "solved env with sc: -1.0\n",
      "solved env with sc: 0.0\n",
      "solved env with sc: -1.0\n",
      "solved env with sc: 0.0\n",
      "solved env with sc: -1.0\n",
      "solved env with sc: -1.0\n",
      "solved env with sc: -1.0\n",
      "solved env with sc: -1.0\n",
      "solved env with sc: 0.0\n",
      "solved env with sc: -1.0\n",
      "solved env with sc: -1.0\n",
      "solved env with sc: -1.0\n",
      "solved env with sc: -1.0\n",
      "solved env with sc: -1.0\n",
      "solved env with sc: -1.0\n",
      "solved env with sc: -1.0\n",
      "solved env with sc: -1.0\n",
      "solved env with sc: 0.0\n",
      "solved env with sc: -1.0\n",
      "solved env with sc: -1.0\n",
      "solved env with sc: -1.0\n",
      "solved env with sc: -1.0\n",
      "solved env with sc: -1.0\n",
      "solved env with sc: 0.0\n",
      "solved env with sc: 0.0\n",
      "solved env with sc: -1.0\n",
      "solved env with sc: -1.0\n",
      "solved env with sc: -1.0\n",
      "solved env with sc: -1.0\n",
      "solved env with sc: -1.0\n",
      "solved env with sc: 0.0\n",
      "solved env with sc: -1.0\n",
      "solved env with sc: -1.0\n",
      "solved env with sc: -1.0\n",
      "solved env with sc: -1.0\n",
      "solved env with sc: -1.0\n",
      "solved env with sc: -1.0\n",
      "solved env with sc: -1.0\n",
      "solved env with sc: 0.0\n",
      "solved env with sc: 0.0\n",
      "solved env with sc: -1.0\n",
      "solved env with sc: -1.0\n",
      "solved env with sc: -1.0\n",
      "solved env with sc: -1.0\n",
      "solved env with sc: -1.0\n",
      "solved env with sc: -1.0\n",
      "solved env with sc: -1.0\n",
      "solved env with sc: -1.0\n",
      "solved env with sc: 0.0\n",
      "solved env with sc: -1.0\n",
      "solved env with sc: -1.0\n",
      "solved env with sc: -1.0\n",
      "solved env with sc: -1.0\n",
      "solved env with sc: -1.0\n",
      "solved env with sc: -1.0\n",
      "solved env with sc: -1.0\n",
      "solved env with sc: -1.0\n",
      "25\n",
      "25\n",
      "25\n",
      "25\n",
      "25\n",
      "solved env with sc: 0.0\n",
      "evaluated\n",
      "generation has 9 members\n",
      "optimizing\n",
      "25\n",
      "25\n",
      "25\n",
      "25\n",
      "solved env with sc: -1.0\n",
      "solved env with sc: -1.0\n",
      "solved env with sc: -1.0\n",
      "solved env with sc: -1.0\n",
      "solved env with sc: -1.0\n",
      "solved env with sc: -1.0\n",
      "solved env with sc: -1.0\n",
      "solved env with sc: -1.0\n",
      "solved env with sc: -1.0\n",
      "solved env with sc: -1.0\n",
      "solved env with sc: 0.0\n",
      "solved env with sc: -1.0\n",
      "solved env with sc: -1.0\n",
      "solved env with sc: 0.0\n",
      "solved env with sc: -1.0\n",
      "solved env with sc: 0.0\n",
      "solved env with sc: -1.0\n",
      "solved env with sc: -1.0\n",
      "solved env with sc: -1.0\n",
      "solved env with sc: 0.0\n",
      "solved env with sc: -1.0\n",
      "solved env with sc: -1.0\n",
      "solved env with sc: -1.0\n",
      "solved env with sc: -1.0\n",
      "solved env with sc: -1.0\n",
      "solved env with sc: -1.0\n",
      "solved env with sc: 0.0\n",
      "solved env with sc: -1.0\n",
      "solved env with sc: -1.0\n",
      "solved env with sc: -1.0\n",
      "solved env with sc: -1.0\n",
      "solved env with sc: -1.0\n",
      "solved env with sc: -1.0\n",
      "solved env with sc: 0.0\n",
      "solved env with sc: 0.0\n",
      "solved env with sc: -1.0\n",
      "solved env with sc: 0.0\n",
      "solved env with sc: 0.0\n",
      "solved env with sc: -1.0\n",
      "solved env with sc: -1.0\n",
      "solved env with sc: -1.0\n",
      "solved env with sc: 0.0\n",
      "solved env with sc: -1.0\n",
      "solved env with sc: -1.0\n",
      "solved env with sc: -1.0\n",
      "solved env with sc: -1.0\n",
      "solved env with sc: -1.0\n",
      "solved env with sc: 0.0\n",
      "solved env with sc: -1.0\n",
      "solved env with sc: -1.0\n",
      "solved env with sc: -1.0\n",
      "solved env with sc: -1.0\n",
      "solved env with sc: -1.0\n",
      "solved env with sc: -1.0\n",
      "solved env with sc: -1.0\n",
      "solved env with sc: -1.0\n",
      "solved env with sc: -1.0\n",
      "solved env with sc: 0.0\n",
      "solved env with sc: 0.0\n",
      "solved env with sc: -1.0\n",
      "solved env with sc: 0.0\n",
      "solved env with sc: -1.0\n",
      "solved env with sc: -1.0\n",
      "solved env with sc: -1.0\n",
      "25\n",
      "25\n",
      "25\n",
      "25\n",
      "25\n",
      "transferring\n",
      "update network 0 to 1\n",
      "update network 0 to 2\n",
      "update network 0 to 4\n",
      "update network 1 to 0\n",
      "update network 1 to 2\n",
      "update network 1 to 3\n",
      "update network 1 to 4\n",
      "update network 1 to 5\n",
      "update network 1 to 6\n",
      "update network 1 to 7\n",
      "update network 1 to 8\n",
      "update network 2 to 0\n",
      "update network 2 to 1\n",
      "update network 2 to 3\n",
      "update network 2 to 4\n",
      "update network 2 to 5\n",
      "update network 2 to 6\n",
      "update network 2 to 7\n",
      "update network 2 to 8\n",
      "solved env with sc: -1.0\n",
      "update network 3 to 0\n",
      "solved env with sc: 0.0\n",
      "solved env with sc: 0.0\n",
      "solved env with sc: -1.0\n",
      "update network 3 to 4\n",
      "solved env with sc: 0.0\n",
      "solved env with sc: 0.0\n",
      "solved env with sc: 0.0\n",
      "solved env with sc: 0.0\n",
      "update network 4 to 0\n",
      "update network 4 to 1\n",
      "update network 4 to 2\n",
      "update network 4 to 3\n",
      "update network 4 to 5\n",
      "update network 4 to 6\n",
      "update network 4 to 7\n",
      "update network 4 to 8\n",
      "update network 5 to 0\n",
      "update network 5 to 3\n",
      "update network 6 to 0\n",
      "update network 6 to 3\n",
      "update network 6 to 5\n",
      "update network 7 to 0\n",
      "update network 7 to 3\n",
      "update network 7 to 5\n",
      "update network 7 to 6\n",
      "update network 8 to 0\n",
      "update network 8 to 3\n",
      "update network 8 to 5\n",
      "update network 8 to 6\n",
      "update network 8 to 7\n"
     ]
    }
   ],
   "source": [
    "for epochs in range(3):\n",
    "    for i in range(len(population)):\n",
    "        population[i].fitness(noisy=True)\n",
    "    \n",
    "    print('evaluated')\n",
    "    if epochs % steps_between_mutation == 0:\n",
    "        for i in range(len(population)):\n",
    "            for _ in range(2):\n",
    "                population.append(population[i].mutate(0.7))\n",
    "                \n",
    "        population = sorted(population, key=lambda x: x.env.id, reverse=True)[:10] \n",
    "        print(f\"parents + children = {len(population)} old + new members\")\n",
    "        \n",
    "    # sort by id, kill Pairs with smallest IDs. \n",
    "    print(f\"generation has {len(population)} members\")\n",
    "    \n",
    "    opt_wrapper = [PyTorchObjective(agent) for agent in population]\n",
    "    \n",
    "    print('optimizing')\n",
    "    for each_pair in opt_wrapper:\n",
    "        ans = run_opt_n_steps(each_pair, n=2, popsize=24)\n",
    "        each_pair.update_nn(ans)\n",
    "\n",
    "        \n",
    "    if epochs % steps_between_transfer == 0:\n",
    "        print('transferring')\n",
    "        # for each environment, i, (and therefore paired agent)\n",
    "        for i, current_pair in enumerate(population):\n",
    "            # save paired agent's score and network\n",
    "            best = (current_pair.nn, current_pair.max_achieved_score)\n",
    "            # for every other network, evaluate environment i in agent j\n",
    "            for j, other_pair in enumerate(population):\n",
    "                if i == j:\n",
    "                    continue\n",
    "                else:\n",
    "                    j_score = current_pair.env.fitness(other_pair)\n",
    "                    if best[1] >= j_score:\n",
    "                        # updated network\n",
    "                        print(f\"update network {i} to {j}\")\n",
    "                        best = (other_pair.nn, j_score)\n",
    "                        \n",
    "            #transfer into environment, i, the agent, j, who performed the best.\n",
    "            #\n",
    "            # Potential new evaluation metric here. We keep track on how many steps the agent takes\n",
    "            # therefore, what if the final score is equal to earned score / num_steps. \n",
    "            # \n",
    "            # This would differential agents who achieve the score faster with higher fitness values\n",
    "            \n",
    "            current_pair.nn = best[0]\n",
    "            "
   ]
  },
  {
   "cell_type": "code",
   "execution_count": 39,
   "metadata": {},
   "outputs": [
    {
     "data": {
      "text/plain": [
       "[<agent.NNagent.NNagent at 0x7fa0dc681400>,\n",
       " <agent.NNagent.NNagent at 0x7fa0de494cf8>,\n",
       " <agent.NNagent.NNagent at 0x7fa0de494630>,\n",
       " <agent.NNagent.NNagent at 0x7fa0de479f28>,\n",
       " <agent.NNagent.NNagent at 0x7fa0de479860>,\n",
       " <agent.NNagent.NNagent at 0x7fa0de48ae80>,\n",
       " <agent.NNagent.NNagent at 0x7fa0deefeeb8>,\n",
       " <agent.NNagent.NNagent at 0x7fa0de4a6d30>,\n",
       " <agent.NNagent.NNagent at 0x7fa0dfea1e80>]"
      ]
     },
     "execution_count": 39,
     "metadata": {},
     "output_type": "execute_result"
    }
   ],
   "source": [
    "population"
   ]
  },
  {
   "cell_type": "code",
   "execution_count": 57,
   "metadata": {},
   "outputs": [
    {
     "data": {
      "text/plain": [
       "0.0"
      ]
     },
     "execution_count": 57,
     "metadata": {},
     "output_type": "execute_result"
    }
   ],
   "source": [
    "population[8].fitness()"
   ]
  },
  {
   "cell_type": "code",
   "execution_count": 50,
   "metadata": {},
   "outputs": [
    {
     "name": "stdout",
     "output_type": "stream",
     "text": [
      "wwwwwwwwwwwww\n",
      "w...........w\n",
      "w...........w\n",
      "w.+...A.....w\n",
      "w...........w\n",
      "w...........w\n",
      "w...1.......w\n",
      "w.g.........w\n",
      "wwwwwwwwwwwww\n",
      "\n"
     ]
    }
   ],
   "source": [
    "print(str(population[3].env.generator))"
   ]
  },
  {
   "cell_type": "code",
   "execution_count": 58,
   "metadata": {},
   "outputs": [
    {
     "data": {
      "text/plain": [
       "1.0"
      ]
     },
     "execution_count": 58,
     "metadata": {},
     "output_type": "execute_result"
    }
   ],
   "source": [
    "population[0].env.fitness(population[2])"
   ]
  },
  {
   "cell_type": "code",
   "execution_count": null,
   "metadata": {},
   "outputs": [],
   "source": []
  },
  {
   "cell_type": "code",
   "execution_count": null,
   "metadata": {},
   "outputs": [],
   "source": []
  },
  {
   "cell_type": "code",
   "execution_count": null,
   "metadata": {},
   "outputs": [],
   "source": []
  }
 ],
 "metadata": {
  "kernelspec": {
   "display_name": "Python 3",
   "language": "python",
   "name": "python3"
  },
  "language_info": {
   "codemirror_mode": {
    "name": "ipython",
    "version": 3
   },
   "file_extension": ".py",
   "mimetype": "text/x-python",
   "name": "python",
   "nbconvert_exporter": "python",
   "pygments_lexer": "ipython3",
   "version": "3.7.3"
  }
 },
 "nbformat": 4,
 "nbformat_minor": 2
}
