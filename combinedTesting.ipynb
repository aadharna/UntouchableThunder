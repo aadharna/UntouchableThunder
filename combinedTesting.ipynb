{
 "cells": [
  {
   "cell_type": "code",
   "execution_count": 2,
   "metadata": {},
   "outputs": [],
   "source": [
    "from agent.base import Agent\n",
    "\n",
    "import gym\n",
    "import gym_gvgai\n",
    "\n",
    "import matplotlib.pyplot as plt\n",
    "\n",
    "# gym_gvgai.dir\n",
    "\n",
    "# %matplotlib inline\n",
    "# import gym\n",
    "# import gym_gvgai\n",
    "# import matplotlib.pyplot as plt\n",
    "# from IPython import display\n",
    "# def show_state(env, step=0, name=\"\", info=\"\"):\n",
    "#     plt.figure(10)\n",
    "#     plt.clf()\n",
    "#     plt.imshow(env.render(mode=\"rgb_array\"))\n",
    "#     plt.title(\"{} | Step: {} {}\".format(name, step, info))\n",
    "#     plt.axis('off')\n",
    "#     display.clear_output(wait=True)\n",
    "#     display.display(plt.gcf())"
   ]
  },
  {
   "cell_type": "code",
   "execution_count": 3,
   "metadata": {},
   "outputs": [],
   "source": [
    "import numpy as np\n",
    "from agent.base import simulate\n",
    "from generator.levels.base import _initialize\n",
    "from generator.levels.base import Generator"
   ]
  },
  {
   "cell_type": "code",
   "execution_count": 4,
   "metadata": {},
   "outputs": [
    {
     "data": {
      "text/plain": [
       "'/home/aadharna/miniconda3/envs/thesis/lib/python3.7/site-packages/GVGAI_GYM/gym_gvgai'"
      ]
     },
     "execution_count": 4,
     "metadata": {},
     "output_type": "execute_result"
    }
   ],
   "source": [
    "gym_gvgai.dir"
   ]
  },
  {
   "cell_type": "code",
   "execution_count": 7,
   "metadata": {},
   "outputs": [],
   "source": [
    "import os\n",
    "# sorted(os.listdir(os.path.join(gym_gvgai.dir, 'envs/games/zelda_v0/levels')))"
   ]
  },
  {
   "cell_type": "code",
   "execution_count": 8,
   "metadata": {},
   "outputs": [],
   "source": [
    "# for f in sorted(os.listdir(os.path.join(gym_gvgai.dir, 'envs/games/zelda_v0/levels'))):\n",
    "#     os.remove(os.path.join(gym_gvgai.dir, f'envs/games/zelda_v0/levels/{f}'))\n",
    "\n",
    "# os.rmdir(os.path.join(gym_gvgai.dir, 'envs/games/zelda_v0/levels'))"
   ]
  },
  {
   "cell_type": "code",
   "execution_count": 9,
   "metadata": {},
   "outputs": [],
   "source": [
    "from generator.env_gen_wrapper import GridGame"
   ]
  },
  {
   "cell_type": "code",
   "execution_count": 10,
   "metadata": {},
   "outputs": [],
   "source": [
    "from agent.base import simulate"
   ]
  },
  {
   "cell_type": "code",
   "execution_count": 11,
   "metadata": {},
   "outputs": [],
   "source": [
    "import numpy as np"
   ]
  },
  {
   "cell_type": "code",
   "execution_count": null,
   "metadata": {},
   "outputs": [],
   "source": []
  },
  {
   "cell_type": "code",
   "execution_count": 12,
   "metadata": {},
   "outputs": [],
   "source": [
    "from agent.NNagent import NNagent"
   ]
  },
  {
   "cell_type": "code",
   "execution_count": 13,
   "metadata": {},
   "outputs": [
    {
     "name": "stdout",
     "output_type": "stream",
     "text": [
      "Connecting to host 127.0.0.1 at port 34371 ...\n",
      "Client connected to server [OK]\n",
      "Connecting to host 127.0.0.1 at port 34485 ...\n",
      "Client connected to server [OK]\n",
      "Connecting to host 127.0.0.1 at port 50751 ...\n",
      "Client connected to server [OK]\n",
      "Connecting to host 127.0.0.1 at port 59199 ...\n",
      "Client connected to server [OK]\n",
      "Connecting to host 127.0.0.1 at port 57189 ...\n",
      "Client connected to server [OK]\n"
     ]
    }
   ],
   "source": [
    "population = [None]*5\n",
    "\n",
    "for i in range(len(population)):\n",
    "    population[i] = NNagent(GridGame(game='zelda', \n",
    "                                     play_length=250, \n",
    "                                     path=gym_gvgai.dir + '/envs/games/zelda_v0/', \n",
    "                                     lvl_name='zelda_lvl0.txt', \n",
    "                                     mechanics=['1', '+', 'g', 'w'], # monster, key, door, wall\n",
    "                                     id=i)\n",
    "                                 )"
   ]
  },
  {
   "cell_type": "code",
   "execution_count": 16,
   "metadata": {
    "scrolled": true
   },
   "outputs": [
    {
     "name": "stdout",
     "output_type": "stream",
     "text": [
      "running agent\n",
      "evaluating agent\n",
      "running agent\n",
      "evaluating agent\n",
      "lived until end of env: +1.0\n",
      "running agent\n",
      "evaluating agent\n",
      "running agent\n",
      "evaluating agent\n",
      "lived until end of env: +1.0\n",
      "running agent\n",
      "evaluating agent\n",
      "lived until end of env: +1.0\n",
      "3\n",
      "removing .?\n",
      "1\n",
      "moving w?\n",
      "from (1, 3)\n",
      "potential location (6, 10)\n",
      "2\n",
      "spawning +?\n",
      "potential location (2, 9)\n",
      "running agent\n",
      "evaluating agent\n",
      "lived until end of env: +1.0\n",
      "running agent\n",
      "evaluating agent\n",
      "lived until end of env: +1.0\n",
      "running agent\n",
      "evaluating agent\n",
      "lived until end of env: +1.0\n",
      "running agent\n",
      "evaluating agent\n",
      "lived until end of env: +1.0\n",
      "running agent\n",
      "evaluating agent\n",
      "lived until end of env: +1.0\n",
      "1\n",
      "moving g?\n",
      "from (1, 3)\n",
      "potential location (7, 1)\n",
      "1\n",
      "moving A?\n",
      "from (1, 1)\n",
      "potential location (6, 2)\n",
      "2\n",
      "spawning +?\n",
      "potential location (8, 7)\n",
      "potential location (6, 9)\n",
      "1\n",
      "moving g?\n",
      "from (6, 10)\n",
      "potential location (2, 9)\n",
      "running agent\n",
      "evaluating agent\n",
      "running agent\n",
      "evaluating agent\n",
      "lived until end of env: +1.0\n",
      "running agent\n",
      "evaluating agent\n",
      "running agent\n",
      "evaluating agent\n",
      "lived until end of env: +1.0\n",
      "running agent\n",
      "evaluating agent\n",
      "lived until end of env: +1.0\n",
      "1\n",
      "moving 1?\n",
      "from (3, 11)\n",
      "potential location (7, 4)\n",
      "1\n",
      "moving +?\n",
      "from (3, 8)\n",
      "potential location (7, 11)\n",
      "1\n",
      "moving g?\n",
      "from (7, 2)\n",
      "potential location (0, 5)\n",
      "potential location (7, 6)\n",
      "1\n",
      "moving A?\n",
      "from (1, 1)\n",
      "potential location (4, 6)\n",
      "1\n",
      "moving +?\n",
      "from (1, 10)\n",
      "potential location (1, 3)\n",
      "running agent\n",
      "evaluating agent\n",
      "lived until end of env: +1.0\n",
      "running agent\n",
      "evaluating agent\n",
      "lived until end of env: +1.0\n",
      "running agent\n",
      "evaluating agent\n",
      "running agent\n",
      "evaluating agent\n",
      "lived until end of env: +1.0\n",
      "running agent\n",
      "evaluating agent\n",
      "lived until end of env: +1.0\n",
      "2\n",
      "spawning w?\n",
      "potential location (1, 11)\n",
      "3\n",
      "removing .?\n",
      "2\n",
      "spawning g?\n",
      "potential location (1, 6)\n",
      "2\n",
      "spawning g?\n",
      "potential location (7, 2)\n",
      "potential location (0, 12)\n",
      "potential location (3, 12)\n",
      "potential location (4, 1)\n",
      "2\n",
      "spawning +?\n",
      "potential location (0, 5)\n",
      "potential location (5, 1)\n",
      "running agent\n",
      "evaluating agent\n",
      "running agent\n",
      "evaluating agent\n",
      "lived until end of env: +1.0\n",
      "running agent\n",
      "evaluating agent\n",
      "running agent\n",
      "evaluating agent\n",
      "lived until end of env: +1.0\n",
      "running agent\n",
      "evaluating agent\n",
      "lived until end of env: +1.0\n",
      "3\n",
      "removing 1?\n",
      "removing g?\n",
      "removed (3, 1)\n",
      "2\n",
      "spawning g?\n",
      "potential location (0, 6)\n",
      "potential location (3, 11)\n",
      "1\n",
      "moving +?\n",
      "from (6, 9)\n",
      "potential location (6, 0)\n",
      "potential location (3, 10)\n",
      "2\n",
      "spawning .?\n",
      "potential location (1, 3)\n"
     ]
    }
   ],
   "source": [
    "for epochs in range(5):\n",
    "    for i in range(len(population)):\n",
    "        population[i].fitness()\n",
    "        \n",
    "#     mating_pool = []\n",
    "    \n",
    "#     for index, individual in enumerate(population):\n",
    "#         repPower = int(individual.env._fit * 100)\n",
    "\n",
    "#         for j in range(repPower):\n",
    "#             mating_pool.append(individual)\n",
    "\n",
    "#     print(len(mating_pool))\n",
    "    \n",
    "    \n",
    "    for individual in population:\n",
    "        individual.env.generator.mutate(0.7)\n",
    "    \n",
    "#     for index, individual in enumerate(population):\n",
    "#         parentA = np.random.choice(mating_pool)\n",
    "#         parentB = np.random.choice(mating_pool)\n",
    "\n",
    "#         # print(parentA.phrase)\n",
    "#         # print(parentB.phrase)\n",
    "\n",
    "\n",
    "#         # There MUST be a better way to do this.\n",
    "#         #  Also, I just don't think we want crossover here. \n",
    "#         childGenerator = parentA.env.generator.crossOver(parentB.env.generator)\n",
    "#         if np.random.choice([0, 1]):\n",
    "#             parentA.env.swap_generator(childGenerator)\n",
    "#             parentA.env.geneartor.mutate(0.2)\n",
    "#             population[index] = parentA\n",
    "\n",
    "#         else:\n",
    "#             parentB.env.swap_generator(childGenerator)\n",
    "#             parentB.env.geneartor.mutate(0.2)\n",
    "#             population[index] = parentB\n"
   ]
  },
  {
   "cell_type": "code",
   "execution_count": 23,
   "metadata": {},
   "outputs": [
    {
     "data": {
      "text/plain": [
       "['zelda_id:0_g:0.txt',\n",
       " 'zelda_id:0_g:1.txt',\n",
       " 'zelda_id:0_g:2.txt',\n",
       " 'zelda_id:0_g:3.txt',\n",
       " 'zelda_id:0_g:4.txt',\n",
       " 'zelda_id:0_g:5.txt',\n",
       " 'zelda_id:0_g:6.txt',\n",
       " 'zelda_id:0_g:7.txt',\n",
       " 'zelda_id:0_g:8.txt',\n",
       " 'zelda_id:0_g:9.txt',\n",
       " 'zelda_id:1_g:0.txt',\n",
       " 'zelda_id:1_g:1.txt',\n",
       " 'zelda_id:1_g:2.txt',\n",
       " 'zelda_id:1_g:3.txt',\n",
       " 'zelda_id:1_g:4.txt',\n",
       " 'zelda_id:1_g:5.txt',\n",
       " 'zelda_id:1_g:6.txt',\n",
       " 'zelda_id:1_g:7.txt',\n",
       " 'zelda_id:1_g:8.txt',\n",
       " 'zelda_id:1_g:9.txt',\n",
       " 'zelda_id:2_g:0.txt',\n",
       " 'zelda_id:2_g:1.txt',\n",
       " 'zelda_id:2_g:2.txt',\n",
       " 'zelda_id:2_g:3.txt',\n",
       " 'zelda_id:2_g:4.txt',\n",
       " 'zelda_id:2_g:5.txt',\n",
       " 'zelda_id:2_g:6.txt',\n",
       " 'zelda_id:2_g:7.txt',\n",
       " 'zelda_id:2_g:8.txt',\n",
       " 'zelda_id:2_g:9.txt',\n",
       " 'zelda_id:3_g:0.txt',\n",
       " 'zelda_id:3_g:1.txt',\n",
       " 'zelda_id:3_g:2.txt',\n",
       " 'zelda_id:3_g:3.txt',\n",
       " 'zelda_id:3_g:4.txt',\n",
       " 'zelda_id:3_g:5.txt',\n",
       " 'zelda_id:3_g:6.txt',\n",
       " 'zelda_id:3_g:7.txt',\n",
       " 'zelda_id:3_g:8.txt',\n",
       " 'zelda_id:3_g:9.txt',\n",
       " 'zelda_id:4_g:0.txt',\n",
       " 'zelda_id:4_g:1.txt',\n",
       " 'zelda_id:4_g:2.txt',\n",
       " 'zelda_id:4_g:3.txt',\n",
       " 'zelda_id:4_g:4.txt',\n",
       " 'zelda_id:4_g:5.txt',\n",
       " 'zelda_id:4_g:6.txt',\n",
       " 'zelda_id:4_g:7.txt',\n",
       " 'zelda_id:4_g:8.txt',\n",
       " 'zelda_id:4_g:9.txt']"
      ]
     },
     "execution_count": 23,
     "metadata": {},
     "output_type": "execute_result"
    }
   ],
   "source": [
    "sorted(os.listdir(os.path.join(gym_gvgai.dir, 'envs/games/zelda_v0/levels')))"
   ]
  },
  {
   "cell_type": "code",
   "execution_count": 21,
   "metadata": {},
   "outputs": [
    {
     "data": {
      "text/plain": [
       "array([['w', 'w', 'w', 'w', 'w', 'w', 'w', 'w', 'w', 'w', 'w', 'w', 'w'],\n",
       "       ['w', 'A', '.', '.', '.', '.', '.', '.', '.', '.', '+', 'w', 'w'],\n",
       "       ['w', '.', '.', '.', '.', '.', '.', '.', '.', '.', '.', '.', 'w'],\n",
       "       ['w', '.', '.', '.', '.', '.', '.', '.', '.', '.', '.', '.', 'w'],\n",
       "       ['w', '.', '.', '.', '.', '.', '.', '.', '.', '.', '.', '.', 'w'],\n",
       "       ['w', '.', '.', '.', '.', '.', '.', '.', '.', '.', '.', '.', 'w'],\n",
       "       ['w', '.', '.', '.', '.', '.', '.', '.', '.', '.', '.', '.', 'w'],\n",
       "       ['w', 'g', '.', '.', '1', '.', '.', '.', '.', '.', '.', '.', 'w'],\n",
       "       ['w', 'w', 'w', 'w', 'w', 'w', 'w', 'w', 'w', 'w', 'w', 'w', 'w']],\n",
       "      dtype='<U1')"
      ]
     },
     "execution_count": 21,
     "metadata": {},
     "output_type": "execute_result"
    }
   ],
   "source": [
    "population[0].env.generator.tile_world"
   ]
  },
  {
   "cell_type": "code",
   "execution_count": 24,
   "metadata": {},
   "outputs": [],
   "source": [
    "population[0].env.generator.cleanup()\n",
    "for i in range(len(population)):\n",
    "    population[i].env.close()"
   ]
  }
 ],
 "metadata": {
  "kernelspec": {
   "display_name": "Python 3",
   "language": "python",
   "name": "python3"
  },
  "language_info": {
   "codemirror_mode": {
    "name": "ipython",
    "version": 3
   },
   "file_extension": ".py",
   "mimetype": "text/x-python",
   "name": "python",
   "nbconvert_exporter": "python",
   "pygments_lexer": "ipython3",
   "version": "3.7.3"
  }
 },
 "nbformat": 4,
 "nbformat_minor": 2
}
