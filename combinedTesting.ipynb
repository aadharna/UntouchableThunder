{
 "cells": [
  {
   "cell_type": "code",
   "execution_count": 1,
   "metadata": {},
   "outputs": [],
   "source": [
    "from agent.base import Agent\n",
    "\n",
    "import gym\n",
    "import gym_gvgai\n",
    "\n",
    "import matplotlib.pyplot as plt\n",
    "\n",
    "# gym_gvgai.dir\n",
    "\n",
    "# %matplotlib inline\n",
    "# import gym\n",
    "# import gym_gvgai\n",
    "# import matplotlib.pyplot as plt\n",
    "# from IPython import display\n",
    "# def show_state(env, step=0, name=\"\", info=\"\"):\n",
    "#     plt.figure(10)\n",
    "#     plt.clf()\n",
    "#     plt.imshow(env.render(mode=\"rgb_array\"))\n",
    "#     plt.title(\"{} | Step: {} {}\".format(name, step, info))\n",
    "#     plt.axis('off')\n",
    "#     display.clear_output(wait=True)\n",
    "#     display.display(plt.gcf())"
   ]
  },
  {
   "cell_type": "code",
   "execution_count": 2,
   "metadata": {},
   "outputs": [],
   "source": [
    "import numpy as np\n",
    "from agent.base import simulate\n",
    "from generator.levels.base import _initialize\n",
    "from generator.levels.base import Generator"
   ]
  },
  {
   "cell_type": "code",
   "execution_count": 3,
   "metadata": {},
   "outputs": [
    {
     "data": {
      "text/plain": [
       "'/home/aadharna/miniconda3/envs/thesis/lib/python3.7/site-packages/GVGAI_GYM/gym_gvgai'"
      ]
     },
     "execution_count": 3,
     "metadata": {},
     "output_type": "execute_result"
    }
   ],
   "source": [
    "gym_gvgai.dir"
   ]
  },
  {
   "cell_type": "code",
   "execution_count": 4,
   "metadata": {},
   "outputs": [
    {
     "data": {
      "text/plain": [
       "['zelda.txt',\n",
       " 'zelda_lvl0.txt',\n",
       " 'zelda_lvl1.txt',\n",
       " 'zelda_lvl2.txt',\n",
       " 'zelda_lvl3.txt',\n",
       " 'zelda_lvl4.txt']"
      ]
     },
     "execution_count": 4,
     "metadata": {},
     "output_type": "execute_result"
    }
   ],
   "source": [
    "import os\n",
    "sorted(os.listdir(os.path.join(gym_gvgai.dir, 'envs/games/zelda_v0')))"
   ]
  },
  {
   "cell_type": "code",
   "execution_count": 5,
   "metadata": {},
   "outputs": [],
   "source": [
    "from generator.env_gen_wrapper import GridGame"
   ]
  },
  {
   "cell_type": "code",
   "execution_count": 6,
   "metadata": {},
   "outputs": [
    {
     "name": "stdout",
     "output_type": "stream",
     "text": [
      "Connecting to host 127.0.0.1 at port 44247 ...\n",
      "Client connected to server [OK]\n"
     ]
    }
   ],
   "source": [
    "x = Agent(GridGame(game='zelda', \n",
    "             play_length=250, \n",
    "             path=gym_gvgai.dir + '/envs/games/zelda_v0/', \n",
    "             lvl_name='zelda_lvl0.txt', \n",
    "             id=0)\n",
    "         )"
   ]
  },
  {
   "cell_type": "code",
   "execution_count": 7,
   "metadata": {},
   "outputs": [
    {
     "name": "stdout",
     "output_type": "stream",
     "text": [
      "wwwwwwwwwwwww\n",
      "wA.......w..w\n",
      "w..w........w\n",
      "w...w...w.+ww\n",
      "www.w2..wwwww\n",
      "w.......w.g.w\n",
      "w.2.........w\n",
      "w.....2.....w\n",
      "wwwwwwwwwwwww\n",
      "\n"
     ]
    }
   ],
   "source": [
    "print(str(x.env.generator))"
   ]
  },
  {
   "cell_type": "code",
   "execution_count": 8,
   "metadata": {},
   "outputs": [
    {
     "data": {
      "text/plain": [
       "<matplotlib.image.AxesImage at 0x78710c7a22e8>"
      ]
     },
     "execution_count": 8,
     "metadata": {},
     "output_type": "execute_result"
    },
    {
     "data": {
      "image/png": "[encoded data removed]",
      "text/plain": [
       "<Figure size 432x288 with 1 Axes>"
      ]
     },
     "metadata": {
      "needs_background": "light"
     },
     "output_type": "display_data"
    }
   ],
   "source": [
    "plt.imshow(x.env.env.reset())\n",
    "#  agent.GridGame.env.reset()"
   ]
  },
  {
   "cell_type": "code",
   "execution_count": 9,
   "metadata": {},
   "outputs": [
    {
     "data": {
      "text/plain": [
       "'/home/aadharna/miniconda3/envs/thesis/lib/python3.7/site-packages/GVGAI_GYM/gym_gvgai/envs/games/zelda_v0/levels/zelda_id:0_g:0.txt'"
      ]
     },
     "execution_count": 9,
     "metadata": {},
     "output_type": "execute_result"
    }
   ],
   "source": [
    "x.env.generator.path_to_file"
   ]
  },
  {
   "cell_type": "code",
   "execution_count": 10,
   "metadata": {},
   "outputs": [],
   "source": [
    "from agent.base import simulate"
   ]
  },
  {
   "cell_type": "code",
   "execution_count": 11,
   "metadata": {},
   "outputs": [],
   "source": [
    "import numpy as np"
   ]
  },
  {
   "cell_type": "code",
   "execution_count": 15,
   "metadata": {},
   "outputs": [],
   "source": [
    "x.env.generator.mutate(0.2)"
   ]
  },
  {
   "cell_type": "code",
   "execution_count": 16,
   "metadata": {},
   "outputs": [],
   "source": [
    "l = x.env.reset()"
   ]
  },
  {
   "cell_type": "code",
   "execution_count": 17,
   "metadata": {},
   "outputs": [
    {
     "data": {
      "text/plain": [
       "<matplotlib.image.AxesImage at 0x78710c6ae1d0>"
      ]
     },
     "execution_count": 17,
     "metadata": {},
     "output_type": "execute_result"
    },
    {
     "data": {
      "image/png": "[encoded data removed]",
      "text/plain": [
       "<Figure size 432x288 with 1 Axes>"
      ]
     },
     "metadata": {
      "needs_background": "light"
     },
     "output_type": "display_data"
    }
   ],
   "source": [
    "plt.imshow(x.env.env.reset())"
   ]
  },
  {
   "cell_type": "code",
   "execution_count": null,
   "metadata": {},
   "outputs": [],
   "source": []
  },
  {
   "cell_type": "code",
   "execution_count": 18,
   "metadata": {},
   "outputs": [],
   "source": [
    "x.fitness()"
   ]
  },
  {
   "cell_type": "code",
   "execution_count": 21,
   "metadata": {},
   "outputs": [],
   "source": [
    "x.env.generator.cleanup()"
   ]
  },
  {
   "cell_type": "code",
   "execution_count": null,
   "metadata": {},
   "outputs": [],
   "source": []
  },
  {
   "cell_type": "code",
   "execution_count": 20,
   "metadata": {},
   "outputs": [
    {
     "data": {
      "text/plain": [
       "<matplotlib.image.AxesImage at 0x78710c61a438>"
      ]
     },
     "execution_count": 20,
     "metadata": {},
     "output_type": "execute_result"
    },
    {
     "data": {
      "image/png": "[encoded data removed]",
      "text/plain": [
       "<Figure size 432x288 with 1 Axes>"
      ]
     },
     "metadata": {
      "needs_background": "light"
     },
     "output_type": "display_data"
    }
   ],
   "source": [
    "plt.imshow(x.env.env.reset())"
   ]
  },
  {
   "cell_type": "code",
   "execution_count": 22,
   "metadata": {},
   "outputs": [
    {
     "name": "stdout",
     "output_type": "stream",
     "text": [
      "Connecting to host 127.0.0.1 at port 58969 ...\n",
      "Client connected to server [OK]\n",
      "Connecting to host 127.0.0.1 at port 60387 ...\n",
      "Client connected to server [OK]\n",
      "Connecting to host 127.0.0.1 at port 55997 ...\n",
      "Client connected to server [OK]\n",
      "Connecting to host 127.0.0.1 at port 58013 ...\n",
      "Client connected to server [OK]\n",
      "Connecting to host 127.0.0.1 at port 57213 ...\n",
      "Client connected to server [OK]\n"
     ]
    }
   ],
   "source": [
    "population = [None]*5\n",
    "\n",
    "for i in range(len(population)):\n",
    "    population[i] = Agent(GridGame(game='zelda', \n",
    "                                     play_length=250, \n",
    "                                     path=gym_gvgai.dir + '/envs/games/zelda_v0/', \n",
    "                                     lvl_name='zelda_lvl0.txt', \n",
    "                                     id=i)\n",
    "                                 )"
   ]
  },
  {
   "cell_type": "code",
   "execution_count": null,
   "metadata": {},
   "outputs": [],
   "source": []
  },
  {
   "cell_type": "code",
   "execution_count": null,
   "metadata": {},
   "outputs": [],
   "source": []
  },
  {
   "cell_type": "code",
   "execution_count": null,
   "metadata": {},
   "outputs": [],
   "source": []
  },
  {
   "cell_type": "code",
   "execution_count": null,
   "metadata": {},
   "outputs": [],
   "source": [
    "gen.cleanup()"
   ]
  },
  {
   "cell_type": "code",
   "execution_count": null,
   "metadata": {},
   "outputs": [],
   "source": [
    "for i in range(len(population)):\n",
    "    population[i].env.env.close()\n",
    "    population[i].env.close()"
   ]
  }
 ],
 "metadata": {
  "kernelspec": {
   "display_name": "Python 3",
   "language": "python",
   "name": "python3"
  },
  "language_info": {
   "codemirror_mode": {
    "name": "ipython",
    "version": 3
   },
   "file_extension": ".py",
   "mimetype": "text/x-python",
   "name": "python",
   "nbconvert_exporter": "python",
   "pygments_lexer": "ipython3",
   "version": "3.7.3"
  }
 },
 "nbformat": 4,
 "nbformat_minor": 2
}
