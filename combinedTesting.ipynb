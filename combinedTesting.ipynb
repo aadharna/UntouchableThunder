{
 "cells": [
  {
   "cell_type": "code",
   "execution_count": 1,
   "metadata": {},
   "outputs": [],
   "source": [
    "from example.pytorch_neat.main import run"
   ]
  },
  {
   "cell_type": "code",
   "execution_count": 2,
   "metadata": {},
   "outputs": [],
   "source": [
    "# run()"
   ]
  },
  {
   "cell_type": "code",
   "execution_count": 3,
   "metadata": {},
   "outputs": [],
   "source": [
    "from agent.base import Agent\n",
    "\n",
    "import gym\n",
    "import gym_gvgai\n",
    "\n",
    "import matplotlib.pyplot as plt\n",
    "\n",
    "# gym_gvgai.dir\n",
    "\n",
    "# %matplotlib inline\n",
    "# import gym\n",
    "# import gym_gvgai\n",
    "# import matplotlib.pyplot as plt\n",
    "# from IPython import display\n",
    "# def show_state(env, step=0, name=\"\", info=\"\"):\n",
    "#     plt.figure(10)\n",
    "#     plt.clf()\n",
    "#     plt.imshow(env.render(mode=\"rgb_array\"))\n",
    "#     plt.title(\"{} | Step: {} {}\".format(name, step, info))\n",
    "#     plt.axis('off')\n",
    "#     display.clear_output(wait=True)\n",
    "#     display.display(plt.gcf())"
   ]
  },
  {
   "cell_type": "code",
   "execution_count": 4,
   "metadata": {},
   "outputs": [],
   "source": [
    "import numpy as np\n",
    "from agent.base import simulate\n",
    "from generator.levels.base import _initialize\n",
    "from generator.levels.base import Generator"
   ]
  },
  {
   "cell_type": "code",
   "execution_count": 5,
   "metadata": {},
   "outputs": [
    {
     "data": {
      "text/plain": [
       "'/home/aadharna/miniconda3/envs/thesis/lib/python3.7/site-packages/GVGAI_GYM/gym_gvgai'"
      ]
     },
     "execution_count": 5,
     "metadata": {},
     "output_type": "execute_result"
    }
   ],
   "source": [
    "gym_gvgai.dir"
   ]
  },
  {
   "cell_type": "code",
   "execution_count": 6,
   "metadata": {},
   "outputs": [],
   "source": [
    "import os\n",
    "# sorted(os.listdir(os.path.join(gym_gvgai.dir, 'envs/games/zelda_v0/levels')))"
   ]
  },
  {
   "cell_type": "code",
   "execution_count": 7,
   "metadata": {},
   "outputs": [],
   "source": [
    "# for f in sorted(os.listdir(os.path.join(gym_gvgai.dir, 'envs/games/zelda_v0/levels'))):\n",
    "#     os.remove(os.path.join(gym_gvgai.dir, f'envs/games/zelda_v0/levels/{f}'))\n",
    "\n",
    "# os.rmdir(os.path.join(gym_gvgai.dir, 'envs/games/zelda_v0/levels'))"
   ]
  },
  {
   "cell_type": "code",
   "execution_count": 8,
   "metadata": {},
   "outputs": [],
   "source": [
    "from generator.env_gen_wrapper import GridGame"
   ]
  },
  {
   "cell_type": "code",
   "execution_count": 9,
   "metadata": {},
   "outputs": [],
   "source": [
    "from agent.base import simulate"
   ]
  },
  {
   "cell_type": "code",
   "execution_count": 10,
   "metadata": {},
   "outputs": [],
   "source": [
    "import numpy as np"
   ]
  },
  {
   "cell_type": "code",
   "execution_count": 11,
   "metadata": {},
   "outputs": [],
   "source": [
    "from baselines.common.vec_env.dummy_vec_env import DummyVecEnv"
   ]
  },
  {
   "cell_type": "code",
   "execution_count": 12,
   "metadata": {},
   "outputs": [],
   "source": [
    "from agent.NNagent import NNagent"
   ]
  },
  {
   "cell_type": "code",
   "execution_count": 13,
   "metadata": {},
   "outputs": [
    {
     "name": "stdout",
     "output_type": "stream",
     "text": [
      "Connecting to host 127.0.0.1 at port 53319 ...\n",
      "Client connected to server [OK]\n"
     ]
    }
   ],
   "source": [
    "popLim = 1\n",
    "population = [None]*popLim\n",
    "\n",
    "for i in range(len(population)):\n",
    "    population[i] = NNagent(GridGame(game='zelda', \n",
    "                                     play_length=250, \n",
    "                                     path=gym_gvgai.dir + '/envs/games/zelda_v0/', \n",
    "                                     lvl_name='zelda_lvl0.txt', \n",
    "                                     mechanics=['1', '2', '3', '+', 'g', 'w'], # monster, key, door, wall\n",
    "                                  )\n",
    "                         )"
   ]
  },
  {
   "cell_type": "code",
   "execution_count": null,
   "metadata": {},
   "outputs": [],
   "source": [
    "def make():\n",
    "    def _make():\n",
    "        return GridGame(game='zelda', \n",
    "                         play_length=250, \n",
    "                         path=gym_gvgai.dir + '/envs/games/zelda_v0/', \n",
    "                         lvl_name='zelda_lvl0.txt', \n",
    "                         mechanics=['1', '2', '3', '+', 'g', 'w'], # monster, key, door, wall\n",
    "                               )\n",
    "    return _make"
   ]
  },
  {
   "cell_type": "code",
   "execution_count": null,
   "metadata": {},
   "outputs": [],
   "source": [
    "env = [make(), make()]"
   ]
  },
  {
   "cell_type": "code",
   "execution_count": null,
   "metadata": {},
   "outputs": [],
   "source": [
    "from baselines.common.vec_env.shmem_vec_env import ShmemVecEnv"
   ]
  },
  {
   "cell_type": "code",
   "execution_count": null,
   "metadata": {},
   "outputs": [],
   "source": [
    "envs = ShmemVecEnv(env, context='fork')"
   ]
  },
  {
   "cell_type": "code",
   "execution_count": null,
   "metadata": {
    "scrolled": true
   },
   "outputs": [],
   "source": [
    "envs.step_async([0, 0])"
   ]
  },
  {
   "cell_type": "code",
   "execution_count": null,
   "metadata": {},
   "outputs": [],
   "source": [
    "[pipe.poll() for pipe in envs.parent_pipes]"
   ]
  },
  {
   "cell_type": "code",
   "execution_count": null,
   "metadata": {},
   "outputs": [],
   "source": []
  },
  {
   "cell_type": "code",
   "execution_count": null,
   "metadata": {},
   "outputs": [],
   "source": [
    "if np.all([pipe.poll() for pipe in envs.parent_pipes]):\n",
    "    outs = [pipe.recv() for pipe in envs.parent_pipes]"
   ]
  },
  {
   "cell_type": "code",
   "execution_count": null,
   "metadata": {},
   "outputs": [],
   "source": []
  },
  {
   "cell_type": "code",
   "execution_count": null,
   "metadata": {},
   "outputs": [],
   "source": [
    "self.waiting_step = False\n",
    "obs, rews, dones, infos = zip(*outs)\n",
    "z = (envs._decode_obses(obs), np.array(rews), np.array(dones), infos)"
   ]
  },
  {
   "cell_type": "code",
   "execution_count": null,
   "metadata": {
    "scrolled": true
   },
   "outputs": [],
   "source": [
    "z = envs2.step_wait()"
   ]
  },
  {
   "cell_type": "code",
   "execution_count": null,
   "metadata": {},
   "outputs": [],
   "source": []
  },
  {
   "cell_type": "markdown",
   "metadata": {},
   "source": [
    "- kill oldest.   \n",
    "\n",
    "- Write mutate wrapper that lives at top of Pair that will create a new Pair obj  \n",
    "- Copy the Agent, mutate the env.  \n",
    "\n",
    "- Flip fiber bits in the Tensor NN input.  \n",
    "\n",
    "----  \n",
    "- Interestingly, POET has a default of `max_children=8` for each reporduce step. "
   ]
  },
  {
   "cell_type": "code",
   "execution_count": 14,
   "metadata": {},
   "outputs": [
    {
     "data": {
      "text/plain": [
       "[<agent.NNagent.NNagent at 0x780d48fe2c88>]"
      ]
     },
     "execution_count": 14,
     "metadata": {},
     "output_type": "execute_result"
    }
   ],
   "source": [
    "population"
   ]
  },
  {
   "cell_type": "code",
   "execution_count": 15,
   "metadata": {},
   "outputs": [
    {
     "name": "stdout",
     "output_type": "stream",
     "text": [
      "running agent\n",
      "evaluating agent\n"
     ]
    }
   ],
   "source": [
    "population[0].fitness()"
   ]
  },
  {
   "cell_type": "code",
   "execution_count": 17,
   "metadata": {
    "scrolled": true
   },
   "outputs": [
    {
     "name": "stdout",
     "output_type": "stream",
     "text": [
      "running agent\n",
      "evaluating agent\n",
      "running agent\n",
      "evaluating agent\n",
      "running agent\n",
      "evaluating agent\n",
      "running agent\n",
      "evaluating agent\n",
      "1\n",
      "removing 2?\n",
      "new mutation 3\n",
      "moving A?\n",
      "from (1, 1)\n",
      "potential location (4, 9)\n",
      "Connecting to host 127.0.0.1 at port 53887 ...\n",
      "Client connected to server [OK]\n",
      "2\n",
      "spawning w?\n",
      "potential location (2, 4)\n",
      "Connecting to host 127.0.0.1 at port 43933 ...\n",
      "Client connected to server [OK]\n",
      "Connecting to host 127.0.0.1 at port 55231 ...\n",
      "Client connected to server [OK]\n",
      "2\n",
      "spawning 2?\n",
      "potential location (7, 7)\n",
      "Connecting to host 127.0.0.1 at port 44173 ...\n",
      "Client connected to server [OK]\n",
      "3\n",
      "moving A?\n",
      "from (1, 1)\n",
      "potential location (4, 11)\n",
      "Connecting to host 127.0.0.1 at port 35443 ...\n",
      "Client connected to server [OK]\n",
      "Connecting to host 127.0.0.1 at port 40169 ...\n",
      "Client connected to server [OK]\n",
      "3\n",
      "moving A?\n",
      "from (1, 1)\n",
      "potential location (6, 3)\n",
      "Connecting to host 127.0.0.1 at port 55763 ...\n",
      "Client connected to server [OK]\n",
      "2\n",
      "spawning g?\n",
      "potential location (8, 5)\n",
      "potential location (4, 1)\n",
      "Connecting to host 127.0.0.1 at port 38841 ...\n",
      "Client connected to server [OK]\n",
      "parents + children = 12 members\n",
      "new generation has 10 members\n",
      "running agent\n",
      "evaluating agent\n",
      "running agent\n",
      "evaluating agent\n",
      "running agent\n",
      "evaluating agent\n",
      "running agent\n",
      "evaluating agent\n",
      "running agent\n",
      "evaluating agent\n",
      "running agent\n",
      "evaluating agent\n",
      "running agent\n",
      "evaluating agent\n",
      "running agent\n",
      "evaluating agent\n",
      "running agent\n",
      "evaluating agent\n",
      "running agent\n",
      "evaluating agent\n",
      "3\n",
      "moving g?\n",
      "from (7, 2)\n",
      "potential location (4, 0)\n",
      "potential location (4, 3)\n",
      "Connecting to host 127.0.0.1 at port 56793 ...\n",
      "Client connected to server [OK]\n",
      "2\n",
      "spawning .?\n",
      "potential location (2, 5)\n",
      "Connecting to host 127.0.0.1 at port 39863 ...\n",
      "Client connected to server [OK]\n",
      "1\n",
      "removing 3?\n",
      "new mutation 2\n",
      "spawning 2?\n",
      "potential location (0, 4)\n",
      "potential location (7, 3)\n",
      "Connecting to host 127.0.0.1 at port 36561 ...\n",
      "Client connected to server [OK]\n",
      "3\n",
      "moving A?\n",
      "from (6, 3)\n",
      "potential location (1, 4)\n",
      "Connecting to host 127.0.0.1 at port 48283 ...\n",
      "Client connected to server [OK]\n",
      "Connecting to host 127.0.0.1 at port 49495 ...\n",
      "Client connected to server [OK]\n",
      "Connecting to host 127.0.0.1 at port 37457 ...\n",
      "Client connected to server [OK]\n",
      "1\n",
      "removing A?\n",
      "new mutation 3\n",
      "moving A?\n",
      "from (4, 11)\n",
      "potential location (0, 4)\n",
      "potential location (4, 1)\n",
      "Connecting to host 127.0.0.1 at port 44023 ...\n",
      "Client connected to server [OK]\n",
      "Connecting to host 127.0.0.1 at port 56315 ...\n",
      "Client connected to server [OK]\n",
      "3\n",
      "moving A?\n",
      "from (1, 1)\n",
      "potential location (4, 4)\n",
      "Connecting to host 127.0.0.1 at port 36269 ...\n",
      "Client connected to server [OK]\n",
      "2\n",
      "spawning w?\n",
      "potential location (6, 5)\n",
      "Connecting to host 127.0.0.1 at port 41493 ...\n",
      "Client connected to server [OK]\n",
      "Connecting to host 127.0.0.1 at port 45113 ...\n",
      "Client connected to server [OK]\n",
      "3\n",
      "moving A?\n",
      "from (1, 1)\n",
      "potential location (6, 6)\n",
      "Connecting to host 127.0.0.1 at port 34337 ...\n",
      "Client connected to server [OK]\n",
      "2\n",
      "spawning 2?\n",
      "potential location (2, 6)\n",
      "Connecting to host 127.0.0.1 at port 52703 ...\n",
      "Client connected to server [OK]\n",
      "3\n",
      "moving g?\n",
      "from (6, 4)\n",
      "potential location (5, 4)\n",
      "Connecting to host 127.0.0.1 at port 52713 ...\n",
      "Client connected to server [OK]\n",
      "1\n",
      "removing w?\n",
      "new mutation 3\n",
      "moving g?\n",
      "from (6, 4)\n",
      "potential location (8, 0)\n",
      "potential location (8, 7)\n",
      "potential location (3, 12)\n",
      "potential location (6, 5)\n",
      "Connecting to host 127.0.0.1 at port 56449 ...\n",
      "Client connected to server [OK]\n",
      "2\n",
      "spawning 1?\n",
      "potential location (4, 11)\n",
      "Connecting to host 127.0.0.1 at port 35975 ...\n",
      "Client connected to server [OK]\n",
      "2\n",
      "spawning 2?\n",
      "potential location (1, 2)\n",
      "Connecting to host 127.0.0.1 at port 34639 ...\n",
      "Client connected to server [OK]\n",
      "3\n",
      "moving A?\n",
      "from (1, 1)\n",
      "potential location (7, 11)\n",
      "Connecting to host 127.0.0.1 at port 46943 ...\n",
      "Client connected to server [OK]\n",
      "3\n",
      "moving g?\n",
      "from (5, 6)\n",
      "potential location (4, 8)\n",
      "Connecting to host 127.0.0.1 at port 40331 ...\n",
      "Client connected to server [OK]\n",
      "3\n",
      "moving +?\n",
      "from (3, 3)\n",
      "potential location (3, 3)\n",
      "potential location (6, 3)\n",
      "Connecting to host 127.0.0.1 at port 35263 ...\n",
      "Client connected to server [OK]\n",
      "parents + children = 30 members\n",
      "new generation has 10 members\n"
     ]
    }
   ],
   "source": [
    "for epochs in range(2):\n",
    "    for i in range(len(population)):\n",
    "        population[i].fitness(noisy=True)    \n",
    "    \n",
    "    for i in range(len(population)):\n",
    "        for _ in range(2):\n",
    "            population.append(population[i].mutate(0.7))\n",
    "        \n",
    "    print(f\"parents + children = {len(population)} members\")\n",
    "    population = sorted(population, key=lambda x: x.env.id, reverse=True)[:10] \n",
    "    # sort by id, kill Pairs with smallest IDs. \n",
    "    print(f\"new generation has {len(population)} members\")\n",
    "    \n"
   ]
  },
  {
   "cell_type": "code",
   "execution_count": 18,
   "metadata": {},
   "outputs": [
    {
     "name": "stdout",
     "output_type": "stream",
     "text": [
      "31\n",
      "30\n",
      "29\n",
      "28\n",
      "27\n",
      "26\n",
      "25\n",
      "24\n",
      "23\n",
      "22\n"
     ]
    }
   ],
   "source": [
    "for ind in population:\n",
    "    print(ind.env.id)"
   ]
  },
  {
   "cell_type": "code",
   "execution_count": null,
   "metadata": {},
   "outputs": [],
   "source": []
  },
  {
   "cell_type": "code",
   "execution_count": null,
   "metadata": {},
   "outputs": [],
   "source": [
    "population[0].env.generator.cleanup()"
   ]
  },
  {
   "cell_type": "code",
   "execution_count": null,
   "metadata": {},
   "outputs": [],
   "source": []
  }
 ],
 "metadata": {
  "kernelspec": {
   "display_name": "Python 3",
   "language": "python",
   "name": "python3"
  },
  "language_info": {
   "codemirror_mode": {
    "name": "ipython",
    "version": 3
   },
   "file_extension": ".py",
   "mimetype": "text/x-python",
   "name": "python",
   "nbconvert_exporter": "python",
   "pygments_lexer": "ipython3",
   "version": "3.7.3"
  }
 },
 "nbformat": 4,
 "nbformat_minor": 2
}
