{
 "cells": [
  {
   "cell_type": "code",
   "execution_count": null,
   "metadata": {},
   "outputs": [],
   "source": [
    "from agent.base import Agent\n",
    "\n",
    "import gym\n",
    "import gym_gvgai\n",
    "\n",
    "import matplotlib.pyplot as plt\n",
    "\n",
    "# gym_gvgai.dir\n",
    "\n",
    "# %matplotlib inline\n",
    "# import gym\n",
    "# import gym_gvgai\n",
    "# import matplotlib.pyplot as plt\n",
    "# from IPython import display\n",
    "# def show_state(env, step=0, name=\"\", info=\"\"):\n",
    "#     plt.figure(10)\n",
    "#     plt.clf()\n",
    "#     plt.imshow(env.render(mode=\"rgb_array\"))\n",
    "#     plt.title(\"{} | Step: {} {}\".format(name, step, info))\n",
    "#     plt.axis('off')\n",
    "#     display.clear_output(wait=True)\n",
    "#     display.display(plt.gcf())"
   ]
  },
  {
   "cell_type": "code",
   "execution_count": null,
   "metadata": {},
   "outputs": [],
   "source": [
    "import numpy as np\n",
    "from agent.base import simulate\n",
    "from generator.levels.base import _initialize\n",
    "from generator.levels.base import Generator"
   ]
  },
  {
   "cell_type": "code",
   "execution_count": null,
   "metadata": {},
   "outputs": [],
   "source": [
    "gym_gvgai.dir"
   ]
  },
  {
   "cell_type": "code",
   "execution_count": null,
   "metadata": {},
   "outputs": [],
   "source": [
    "import os\n",
    "# sorted(os.listdir(os.path.join(gym_gvgai.dir, 'envs/games/zelda_v0/levels')))"
   ]
  },
  {
   "cell_type": "code",
   "execution_count": null,
   "metadata": {},
   "outputs": [],
   "source": [
    "# for f in sorted(os.listdir(os.path.join(gym_gvgai.dir, 'envs/games/zelda_v0/levels'))):\n",
    "#     os.remove(os.path.join(gym_gvgai.dir, f'envs/games/zelda_v0/levels/{f}'))\n",
    "\n",
    "# os.rmdir(os.path.join(gym_gvgai.dir, 'envs/games/zelda_v0/levels'))"
   ]
  },
  {
   "cell_type": "code",
   "execution_count": null,
   "metadata": {},
   "outputs": [],
   "source": [
    "from generator.env_gen_wrapper import GridGame"
   ]
  },
  {
   "cell_type": "code",
   "execution_count": null,
   "metadata": {},
   "outputs": [],
   "source": [
    "from agent.base import simulate"
   ]
  },
  {
   "cell_type": "code",
   "execution_count": null,
   "metadata": {},
   "outputs": [],
   "source": [
    "import numpy as np"
   ]
  },
  {
   "cell_type": "code",
   "execution_count": null,
   "metadata": {},
   "outputs": [],
   "source": []
  },
  {
   "cell_type": "code",
   "execution_count": null,
   "metadata": {},
   "outputs": [],
   "source": [
    "# population = [None]*5\n",
    "\n",
    "# for i in range(len(population)):\n",
    "#     population[i] = Agent(GridGame(game='zelda', \n",
    "#                                      play_length=250, \n",
    "#                                      path=gym_gvgai.dir + '/envs/games/zelda_v0/', \n",
    "#                                      lvl_name='zelda_lvl0.txt', \n",
    "#                                      mechanics=['1', '+', 'g', 'w'], # monster, key, door, wall\n",
    "#                                      id=i)\n",
    "#                                  )"
   ]
  },
  {
   "cell_type": "code",
   "execution_count": null,
   "metadata": {
    "scrolled": true
   },
   "outputs": [],
   "source": [
    "# for epochs in range(5):\n",
    "#     for i in range(len(population)):\n",
    "#         population[i].fitness()\n",
    "        \n",
    "# #     mating_pool = []\n",
    "    \n",
    "# #     for index, individual in enumerate(population):\n",
    "# #         repPower = int(individual.env._fit * 100)\n",
    "\n",
    "# #         for j in range(repPower):\n",
    "# #             mating_pool.append(individual)\n",
    "\n",
    "# #     print(len(mating_pool))\n",
    "    \n",
    "    \n",
    "#     for individual in population:\n",
    "#         individual.env.generator.mutate(0.2)\n",
    "    \n",
    "# #     for index, individual in enumerate(population):\n",
    "# #         parentA = np.random.choice(mating_pool)\n",
    "# #         parentB = np.random.choice(mating_pool)\n",
    "\n",
    "# #         # print(parentA.phrase)\n",
    "# #         # print(parentB.phrase)\n",
    "\n",
    "\n",
    "# #         # There MUST be a better way to do this.\n",
    "# #         #  Also, I just don't think we want crossover here. \n",
    "# #         childGenerator = parentA.env.generator.crossOver(parentB.env.generator)\n",
    "# #         if np.random.choice([0, 1]):\n",
    "# #             parentA.env.swap_generator(childGenerator)\n",
    "# #             parentA.env.geneartor.mutate(0.2)\n",
    "# #             population[index] = parentA\n",
    "\n",
    "# #         else:\n",
    "# #             parentB.env.swap_generator(childGenerator)\n",
    "# #             parentB.env.geneartor.mutate(0.2)\n",
    "# #             population[index] = parentB\n"
   ]
  },
  {
   "cell_type": "code",
   "execution_count": null,
   "metadata": {},
   "outputs": [],
   "source": [
    "# sorted(os.listdir(os.path.join(gym_gvgai.dir, 'envs/games/zelda_v0/levels')))"
   ]
  },
  {
   "cell_type": "code",
   "execution_count": null,
   "metadata": {},
   "outputs": [],
   "source": [
    "# seed level\n",
    "# _initialize(os.path.join(gym_gvgai.dir, 'envs/games/zelda_v0/zelda_lvl0.txt'))"
   ]
  },
  {
   "cell_type": "code",
   "execution_count": null,
   "metadata": {},
   "outputs": [],
   "source": [
    "# 4th generation level\n",
    "# _initialize(os.path.join(gym_gvgai.dir, 'envs/games/zelda_v0/levels', \"zelda_id:1_g:4.txt\"))"
   ]
  },
  {
   "cell_type": "code",
   "execution_count": null,
   "metadata": {},
   "outputs": [],
   "source": [
    "# population[0].env.generator.cleanup()\n",
    "# for i in range(len(population)):\n",
    "#     population[i].env.close()"
   ]
  },
  {
   "cell_type": "code",
   "execution_count": null,
   "metadata": {},
   "outputs": [],
   "source": [
    "# gen = Generator(_initialize(os.path.join(\n",
    "#                                     gym_gvgai.dir, \n",
    "#                                     'envs/games/zelda_v0', \n",
    "#                                     \"zelda_lvl0.txt\")\n",
    "#                                  ), \n",
    "#                       mechanics=['1', '+', 'g', 'w']\n",
    "#                      )"
   ]
  },
  {
   "cell_type": "code",
   "execution_count": null,
   "metadata": {},
   "outputs": [],
   "source": [
    "# gen.mutate(0.75)"
   ]
  },
  {
   "cell_type": "code",
   "execution_count": null,
   "metadata": {},
   "outputs": [],
   "source": [
    "# gen.tile_world"
   ]
  },
  {
   "cell_type": "code",
   "execution_count": null,
   "metadata": {},
   "outputs": [],
   "source": [
    "from agent.NNagent import NNagent"
   ]
  },
  {
   "cell_type": "code",
   "execution_count": null,
   "metadata": {},
   "outputs": [],
   "source": [
    "nn = NNagent(GridGame(game='zelda', \n",
    "                     play_length=250, \n",
    "                     path=gym_gvgai.dir + '/envs/games/zelda_v0/', \n",
    "                     lvl_name='zelda_lvl0.txt', \n",
    "                     mechanics=['1', '+', 'g', 'w'], # monster, key, door, wall\n",
    "                     id=0)\n",
    "                 )"
   ]
  },
  {
   "cell_type": "code",
   "execution_count": null,
   "metadata": {},
   "outputs": [],
   "source": [
    "grid = nn.env.reset()"
   ]
  },
  {
   "cell_type": "code",
   "execution_count": null,
   "metadata": {},
   "outputs": [],
   "source": [
    "from torch.autograd import Variable"
   ]
  },
  {
   "cell_type": "code",
   "execution_count": null,
   "metadata": {},
   "outputs": [],
   "source": [
    "import torch"
   ]
  },
  {
   "cell_type": "code",
   "execution_count": null,
   "metadata": {},
   "outputs": [],
   "source": [
    "# Variables wrap a Tensor\n",
    "x = Variable(torch.from_numpy(np.array([grid])), requires_grad=True)"
   ]
  },
  {
   "cell_type": "code",
   "execution_count": null,
   "metadata": {
    "scrolled": true
   },
   "outputs": [],
   "source": [
    "nn.get_action(x)"
   ]
  },
  {
   "cell_type": "code",
   "execution_count": null,
   "metadata": {},
   "outputs": [],
   "source": []
  }
 ],
 "metadata": {
  "kernelspec": {
   "display_name": "Python 3",
   "language": "python",
   "name": "python3"
  },
  "language_info": {
   "codemirror_mode": {
    "name": "ipython",
    "version": 3
   },
   "file_extension": ".py",
   "mimetype": "text/x-python",
   "name": "python",
   "nbconvert_exporter": "python",
   "pygments_lexer": "ipython3",
   "version": "3.7.3"
  }
 },
 "nbformat": 4,
 "nbformat_minor": 2
}
