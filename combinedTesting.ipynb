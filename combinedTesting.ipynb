{
 "cells": [
  {
   "cell_type": "code",
   "execution_count": null,
   "metadata": {},
   "outputs": [],
   "source": [
    "# run()"
   ]
  },
  {
   "cell_type": "code",
   "execution_count": null,
   "metadata": {},
   "outputs": [],
   "source": [
    "from agent.base import Agent\n",
    "from optimization.Optimizer import PyTorchObjective\n",
    "\n",
    "import matplotlib.pyplot as plt\n",
    "\n",
    "# gym_gvgai.dir\n",
    "\n",
    "%matplotlib inline\n",
    "import gym\n",
    "import gvgai\n",
    "from IPython import display"
   ]
  },
  {
   "cell_type": "code",
   "execution_count": null,
   "metadata": {},
   "outputs": [],
   "source": [
    "def show_state(env, step=0, name=\"\", info=\"\"):\n",
    "    \"\"\"Fn to visualize the agent playing the game in a notebook\n",
    "    \"\"\"\n",
    "    plt.figure(10)\n",
    "    plt.clf()\n",
    "    plt.imshow(env.render(mode=\"rgb_array\")[0])\n",
    "    plt.title(\"{} | Step: {} {}\".format(name, step, info))\n",
    "    plt.axis('off')\n",
    "    display.clear_output(wait=True)\n",
    "    display.display(plt.gcf())"
   ]
  },
  {
   "cell_type": "code",
   "execution_count": null,
   "metadata": {},
   "outputs": [],
   "source": [
    "# import numpy as np\n",
    "# from agent.base import simulate\n",
    "# from generator.levels.base import _initialize\n",
    "# from generator.levels.base import Generator\n",
    "# from generator.levels.CPPNGen import CPPNGen"
   ]
  },
  {
   "cell_type": "code",
   "execution_count": null,
   "metadata": {},
   "outputs": [],
   "source": []
  },
  {
   "cell_type": "code",
   "execution_count": null,
   "metadata": {},
   "outputs": [],
   "source": [
    "import os"
   ]
  },
  {
   "cell_type": "code",
   "execution_count": null,
   "metadata": {},
   "outputs": [],
   "source": [
    "# x = CPPNGen(_initialize(os.path.join(gym_gvgai.dir + \"/envs/games/zelda_v0/zelda_lvl2.txt\")))"
   ]
  },
  {
   "cell_type": "code",
   "execution_count": null,
   "metadata": {},
   "outputs": [],
   "source": [
    "# x.mutate(1)"
   ]
  },
  {
   "cell_type": "code",
   "execution_count": null,
   "metadata": {},
   "outputs": [],
   "source": []
  },
  {
   "cell_type": "code",
   "execution_count": null,
   "metadata": {},
   "outputs": [],
   "source": []
  },
  {
   "cell_type": "code",
   "execution_count": null,
   "metadata": {},
   "outputs": [],
   "source": []
  },
  {
   "cell_type": "code",
   "execution_count": null,
   "metadata": {},
   "outputs": [],
   "source": [
    "# sorted(os.listdir(os.path.join(gym_gvgai.dir, 'envs/games/zelda_v0/levels')))"
   ]
  },
  {
   "cell_type": "code",
   "execution_count": null,
   "metadata": {},
   "outputs": [],
   "source": [
    "# for f in sorted(os.listdir(os.path.join(gym_gvgai.dir, 'envs/games/zelda_v0/levels'))):\n",
    "#     os.remove(os.path.join(gym_gvgai.dir, f'envs/games/zelda_v0/levels/{f}'))\n",
    "\n",
    "# os.rmdir(os.path.join(gym_gvgai.dir, 'envs/games/zelda_v0/levels'))"
   ]
  },
  {
   "cell_type": "code",
   "execution_count": null,
   "metadata": {},
   "outputs": [],
   "source": [
    "from generator.env_gen_wrapper import GridGame"
   ]
  },
  {
   "cell_type": "code",
   "execution_count": null,
   "metadata": {},
   "outputs": [],
   "source": [
    "from agent.base import simulate"
   ]
  },
  {
   "cell_type": "code",
   "execution_count": null,
   "metadata": {},
   "outputs": [],
   "source": [
    "import numpy as np"
   ]
  },
  {
   "cell_type": "code",
   "execution_count": null,
   "metadata": {},
   "outputs": [],
   "source": [
    "from baselines.common.vec_env.dummy_vec_env import DummyVecEnv"
   ]
  },
  {
   "cell_type": "code",
   "execution_count": null,
   "metadata": {},
   "outputs": [],
   "source": [
    "from agent.NNagent import NNagent"
   ]
  },
  {
   "cell_type": "code",
   "execution_count": null,
   "metadata": {},
   "outputs": [],
   "source": [
    "import torch"
   ]
  },
  {
   "cell_type": "code",
   "execution_count": null,
   "metadata": {},
   "outputs": [],
   "source": [
    "popLim = 2\n",
    "population = [None]*popLim\n",
    "\n",
    "for i in range(len(population)):\n",
    "    population[i] = NNagent(GridGame(game='zelda', \n",
    "                                     play_length=1000,\n",
    "                                     path='./levels',\n",
    "                                     lvl_name='start.txt', \n",
    "                                     mechanics=['1', '2', '3', '+', 'g', 'w'], # monsters, key, door, wall\n",
    "                                     images=False\n",
    "                                  )\n",
    "                         )"
   ]
  },
  {
   "cell_type": "code",
   "execution_count": null,
   "metadata": {},
   "outputs": [],
   "source": [
    "population.append(NNagent(GridGame(game='zelda', \n",
    "                                     play_length=1000,\n",
    "                                     path='./levels',\n",
    "                                     lvl_name='start.txt', \n",
    "                                     mechanics=['1', '2', '3', '+', 'g', 'w'], # monsters, key, door, wall\n",
    "                                     images=False\n",
    "                                  ), \n",
    "                          parent=torch.load(\"./25_gen_weights_5_5.pt\")\n",
    "                         )\n",
    "                 )"
   ]
  },
  {
   "cell_type": "code",
   "execution_count": null,
   "metadata": {},
   "outputs": [],
   "source": []
  },
  {
   "cell_type": "code",
   "execution_count": null,
   "metadata": {},
   "outputs": [],
   "source": []
  },
  {
   "cell_type": "code",
   "execution_count": null,
   "metadata": {},
   "outputs": [],
   "source": [
    "tile = population[0].reset()"
   ]
  },
  {
   "cell_type": "code",
   "execution_count": null,
   "metadata": {},
   "outputs": [],
   "source": [
    "import time\n",
    "start = time.time()\n",
    "population[i].evaluate()\n",
    "end = time.time() - start\n",
    "print(end)"
   ]
  },
  {
   "cell_type": "code",
   "execution_count": null,
   "metadata": {},
   "outputs": [],
   "source": []
  },
  {
   "cell_type": "code",
   "execution_count": null,
   "metadata": {},
   "outputs": [],
   "source": [
    "# population[0].fitness(noisy=True, fn=show_state)"
   ]
  },
  {
   "cell_type": "code",
   "execution_count": null,
   "metadata": {},
   "outputs": [],
   "source": [
    "# population[0].env._fit"
   ]
  },
  {
   "cell_type": "code",
   "execution_count": null,
   "metadata": {},
   "outputs": [],
   "source": []
  },
  {
   "cell_type": "code",
   "execution_count": null,
   "metadata": {},
   "outputs": [],
   "source": [
    "# def make():\n",
    "#     def _make():\n",
    "#         return GridGame(game='zelda', \n",
    "#                          play_length=250, \n",
    "#                          path=gym_gvgai.dir + '/envs/games/zelda_v0/', \n",
    "#                          lvl_name='zelda_lvl0.txt', \n",
    "#                          mechanics=['1', '2', '3', '+', 'g', 'w'], # monster, key, door, wall\n",
    "#                                )\n",
    "#     return _make"
   ]
  },
  {
   "cell_type": "code",
   "execution_count": null,
   "metadata": {},
   "outputs": [],
   "source": [
    "# x = make()()"
   ]
  },
  {
   "cell_type": "code",
   "execution_count": null,
   "metadata": {},
   "outputs": [],
   "source": [
    "# x.env.env.get_action_meanings()"
   ]
  },
  {
   "cell_type": "code",
   "execution_count": null,
   "metadata": {},
   "outputs": [],
   "source": [
    "# def move(action):\n",
    "#     a, b, c, d = x.step(action)\n",
    "#     print(b)\n",
    "#     plt.imshow(d['pic'])"
   ]
  },
  {
   "cell_type": "code",
   "execution_count": null,
   "metadata": {},
   "outputs": [],
   "source": [
    "#  move(2)"
   ]
  },
  {
   "cell_type": "code",
   "execution_count": null,
   "metadata": {},
   "outputs": [],
   "source": [
    "# env = [make(), make()]"
   ]
  },
  {
   "cell_type": "code",
   "execution_count": null,
   "metadata": {},
   "outputs": [],
   "source": [
    "# from baselines.common.vec_env.shmem_vec_env import ShmemVecEnv"
   ]
  },
  {
   "cell_type": "code",
   "execution_count": null,
   "metadata": {},
   "outputs": [],
   "source": [
    "# envs = ShmemVecEnv(env, context='fork')"
   ]
  },
  {
   "cell_type": "code",
   "execution_count": null,
   "metadata": {
    "scrolled": true
   },
   "outputs": [],
   "source": [
    "# envs.step_async([0, 0])"
   ]
  },
  {
   "cell_type": "code",
   "execution_count": null,
   "metadata": {},
   "outputs": [],
   "source": [
    "# [pipe.poll() for pipe in envs.parent_pipes]"
   ]
  },
  {
   "cell_type": "code",
   "execution_count": null,
   "metadata": {},
   "outputs": [],
   "source": []
  },
  {
   "cell_type": "code",
   "execution_count": null,
   "metadata": {},
   "outputs": [],
   "source": [
    "# if np.all([pipe.poll() for pipe in envs.parent_pipes]):\n",
    "#     outs = [pipe.recv() for pipe in envs.parent_pipes]"
   ]
  },
  {
   "cell_type": "code",
   "execution_count": null,
   "metadata": {},
   "outputs": [],
   "source": []
  },
  {
   "cell_type": "code",
   "execution_count": null,
   "metadata": {},
   "outputs": [],
   "source": [
    "# self.waiting_step = False\n",
    "# obs, rews, dones, infos = zip(*outs)\n",
    "# z = (envs._decode_obses(obs), np.array(rews), np.array(dones), infos)"
   ]
  },
  {
   "cell_type": "code",
   "execution_count": null,
   "metadata": {
    "scrolled": true
   },
   "outputs": [],
   "source": [
    "# z = envs2.step_wait()\n",
    "\n"
   ]
  },
  {
   "cell_type": "markdown",
   "metadata": {},
   "source": [
    "- kill oldest.   \n",
    "\n",
    "- Write mutate wrapper that lives at top of Pair that will create a new Pair obj  \n",
    "- Copy the Agent, mutate the env.  \n",
    "\n",
    "- Flip fiber bits in the Tensor NN input.  \n",
    "\n",
    "----  \n",
    "- Interestingly, POET has a default of `max_children=8` for each reporduce step. "
   ]
  },
  {
   "cell_type": "code",
   "execution_count": null,
   "metadata": {},
   "outputs": [],
   "source": [
    "population"
   ]
  },
  {
   "cell_type": "code",
   "execution_count": null,
   "metadata": {
    "scrolled": true
   },
   "outputs": [],
   "source": [
    "population[2].evaluate()"
   ]
  },
  {
   "cell_type": "code",
   "execution_count": null,
   "metadata": {
    "scrolled": true
   },
   "outputs": [],
   "source": [
    "population[0].env.fitness(population[2])"
   ]
  },
  {
   "cell_type": "code",
   "execution_count": null,
   "metadata": {},
   "outputs": [],
   "source": [
    "from optimization.Optimizer import run_opt_n_steps"
   ]
  },
  {
   "cell_type": "code",
   "execution_count": null,
   "metadata": {
    "scrolled": true
   },
   "outputs": [],
   "source": [
    "for epochs in range(1):\n",
    "    for i in range(len(population)):\n",
    "        population[i].fitness(noisy=True)\n",
    "    \n",
    "    print('evaluated')\n",
    "    for i in range(len(population)):\n",
    "        for _ in range(2):\n",
    "            population.append(population[i].mutate(0.7))\n",
    "            \n",
    "    print(f\"parents + children = {len(population)} members\")\n",
    "    population = sorted(population, key=lambda x: x.env.id, reverse=True)[:10] \n",
    "    # sort by id, kill Pairs with smallest IDs. \n",
    "    print(f\"new generation has {len(population)} members\")\n",
    "    \n",
    "    opt_wrapper = [PyTorchObjective(agent) for agent in population]\n",
    "    \n",
    "    for each_pair in opt_wrapper:\n",
    "        ans = run_opt_n_steps(each_pair, n=3, popsize=5)\n",
    "        each_pair.update_nn(ans)\n",
    "\n",
    "        \n",
    "#     if epochs % steps_between_transfer == 0:\n",
    "#         for i, pairs in enumerate(population):\n",
    "#             best_nn = pairs.nn\n",
    "#             for others in population:\n",
    "                \n",
    "#         pass"
   ]
  },
  {
   "cell_type": "code",
   "execution_count": null,
   "metadata": {},
   "outputs": [],
   "source": [
    "population[0].env.fitness(population[2])"
   ]
  },
  {
   "cell_type": "code",
   "execution_count": null,
   "metadata": {},
   "outputs": [],
   "source": []
  },
  {
   "cell_type": "code",
   "execution_count": null,
   "metadata": {},
   "outputs": [],
   "source": []
  },
  {
   "cell_type": "code",
   "execution_count": null,
   "metadata": {},
   "outputs": [],
   "source": []
  },
  {
   "cell_type": "code",
   "execution_count": null,
   "metadata": {},
   "outputs": [],
   "source": []
  },
  {
   "cell_type": "code",
   "execution_count": null,
   "metadata": {},
   "outputs": [],
   "source": []
  }
 ],
 "metadata": {
  "kernelspec": {
   "display_name": "Python 3",
   "language": "python",
   "name": "python3"
  },
  "language_info": {
   "codemirror_mode": {
    "name": "ipython",
    "version": 3
   },
   "file_extension": ".py",
   "mimetype": "text/x-python",
   "name": "python",
   "nbconvert_exporter": "python",
   "pygments_lexer": "ipython3",
   "version": "3.7.3"
  }
 },
 "nbformat": 4,
 "nbformat_minor": 2
}
