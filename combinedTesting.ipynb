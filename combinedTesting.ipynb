{
 "cells": [
  {
   "cell_type": "code",
   "execution_count": null,
   "metadata": {},
   "outputs": [],
   "source": [
    "from example.pytorch_neat.main import run"
   ]
  },
  {
   "cell_type": "code",
   "execution_count": null,
   "metadata": {},
   "outputs": [],
   "source": [
    "# run()"
   ]
  },
  {
   "cell_type": "code",
   "execution_count": null,
   "metadata": {},
   "outputs": [],
   "source": [
    "from agent.base import Agent\n",
    "\n",
    "import gym\n",
    "import gym_gvgai\n",
    "\n",
    "import matplotlib.pyplot as plt\n",
    "\n",
    "# gym_gvgai.dir\n",
    "\n",
    "# %matplotlib inline\n",
    "# import gym\n",
    "# import gym_gvgai\n",
    "# import matplotlib.pyplot as plt\n",
    "# from IPython import display\n",
    "# def show_state(env, step=0, name=\"\", info=\"\"):\n",
    "#     plt.figure(10)\n",
    "#     plt.clf()\n",
    "#     plt.imshow(env.render(mode=\"rgb_array\"))\n",
    "#     plt.title(\"{} | Step: {} {}\".format(name, step, info))\n",
    "#     plt.axis('off')\n",
    "#     display.clear_output(wait=True)\n",
    "#     display.display(plt.gcf())"
   ]
  },
  {
   "cell_type": "code",
   "execution_count": null,
   "metadata": {},
   "outputs": [],
   "source": [
    "import numpy as np\n",
    "from agent.base import simulate\n",
    "from generator.levels.base import _initialize\n",
    "from generator.levels.base import Generator"
   ]
  },
  {
   "cell_type": "code",
   "execution_count": null,
   "metadata": {},
   "outputs": [],
   "source": [
    "gym_gvgai.dir"
   ]
  },
  {
   "cell_type": "code",
   "execution_count": null,
   "metadata": {},
   "outputs": [],
   "source": [
    "import os\n",
    "# sorted(os.listdir(os.path.join(gym_gvgai.dir, 'envs/games/zelda_v0/levels')))"
   ]
  },
  {
   "cell_type": "code",
   "execution_count": null,
   "metadata": {},
   "outputs": [],
   "source": [
    "# for f in sorted(os.listdir(os.path.join(gym_gvgai.dir, 'envs/games/zelda_v0/levels'))):\n",
    "#     os.remove(os.path.join(gym_gvgai.dir, f'envs/games/zelda_v0/levels/{f}'))\n",
    "\n",
    "# os.rmdir(os.path.join(gym_gvgai.dir, 'envs/games/zelda_v0/levels'))"
   ]
  },
  {
   "cell_type": "code",
   "execution_count": null,
   "metadata": {},
   "outputs": [],
   "source": [
    "from generator.env_gen_wrapper import GridGame"
   ]
  },
  {
   "cell_type": "code",
   "execution_count": null,
   "metadata": {},
   "outputs": [],
   "source": [
    "from agent.base import simulate"
   ]
  },
  {
   "cell_type": "code",
   "execution_count": null,
   "metadata": {},
   "outputs": [],
   "source": [
    "import numpy as np"
   ]
  },
  {
   "cell_type": "code",
   "execution_count": null,
   "metadata": {},
   "outputs": [],
   "source": []
  },
  {
   "cell_type": "code",
   "execution_count": null,
   "metadata": {},
   "outputs": [],
   "source": []
  },
  {
   "cell_type": "code",
   "execution_count": null,
   "metadata": {},
   "outputs": [],
   "source": []
  },
  {
   "cell_type": "code",
   "execution_count": null,
   "metadata": {},
   "outputs": [],
   "source": [
    "from agent.NNagent import NNagent"
   ]
  },
  {
   "cell_type": "code",
   "execution_count": null,
   "metadata": {},
   "outputs": [],
   "source": [
    "popLim = 2\n",
    "population = [None]*popLim\n",
    "\n",
    "for i in range(len(population)):\n",
    "    population[i] = NNagent(GridGame(game='zelda', \n",
    "                                     play_length=250, \n",
    "                                     path=gym_gvgai.dir + '/envs/games/zelda_v0/', \n",
    "                                     lvl_name='zelda_lvl0.txt', \n",
    "                                     mechanics=['1', '2', '3', '+', 'g', 'w'], # monster, key, door, wall\n",
    "                                  )\n",
    "                         )"
   ]
  },
  {
   "cell_type": "markdown",
   "metadata": {},
   "source": [
    "- kill oldest.   \n",
    "\n",
    "- Write mutate wrapper that lives at top of Pair that will create a new Pair obj  \n",
    "- Copy the Agent, mutate the env.  \n",
    "\n",
    "- Flip fiber bits in the Tensor NN input.   "
   ]
  },
  {
   "cell_type": "code",
   "execution_count": null,
   "metadata": {},
   "outputs": [],
   "source": [
    "population"
   ]
  },
  {
   "cell_type": "code",
   "execution_count": null,
   "metadata": {
    "scrolled": true
   },
   "outputs": [],
   "source": [
    "for epochs in range(2):\n",
    "    for i in range(len(population)):\n",
    "        population[i].fitness()    \n",
    "    \n",
    "    for i in range(len(population)):\n",
    "        for _ in range(3):\n",
    "            population.append(population[i].mutate(0.7))\n",
    "        \n",
    "    print(f\"parents + children = {len(population)} members\")\n",
    "    population = sorted(population, key=lambda x: x.env.id, reverse=True)[:10] \n",
    "    # sort by id, kill Pairs with smallest IDs. \n",
    "    print(f\"new generation has {len(population)} members\")\n",
    "    \n"
   ]
  },
  {
   "cell_type": "code",
   "execution_count": null,
   "metadata": {},
   "outputs": [],
   "source": [
    "for ind in population:\n",
    "    print(ind.env.id)"
   ]
  },
  {
   "cell_type": "code",
   "execution_count": null,
   "metadata": {},
   "outputs": [],
   "source": []
  },
  {
   "cell_type": "code",
   "execution_count": null,
   "metadata": {},
   "outputs": [],
   "source": [
    "sorted(os.listdir(os.path.join(gym_gvgai.dir, 'envs/games/zelda_v0/levels')))"
   ]
  },
  {
   "cell_type": "code",
   "execution_count": null,
   "metadata": {},
   "outputs": [],
   "source": [
    "plt.imshow(population[9].env.env.reset())"
   ]
  },
  {
   "cell_type": "code",
   "execution_count": null,
   "metadata": {},
   "outputs": [],
   "source": []
  },
  {
   "cell_type": "code",
   "execution_count": null,
   "metadata": {},
   "outputs": [],
   "source": []
  },
  {
   "cell_type": "code",
   "execution_count": null,
   "metadata": {},
   "outputs": [],
   "source": []
  },
  {
   "cell_type": "code",
   "execution_count": null,
   "metadata": {},
   "outputs": [],
   "source": [
    "population[0].env.generator.cleanup()\n",
    "for i in range(len(population)):\n",
    "    population[i].env.close()"
   ]
  },
  {
   "cell_type": "code",
   "execution_count": null,
   "metadata": {},
   "outputs": [],
   "source": []
  }
 ],
 "metadata": {
  "kernelspec": {
   "display_name": "Python 3",
   "language": "python",
   "name": "python3"
  },
  "language_info": {
   "codemirror_mode": {
    "name": "ipython",
    "version": 3
   },
   "file_extension": ".py",
   "mimetype": "text/x-python",
   "name": "python",
   "nbconvert_exporter": "python",
   "pygments_lexer": "ipython3",
   "version": "3.7.3"
  }
 },
 "nbformat": 4,
 "nbformat_minor": 2
}
