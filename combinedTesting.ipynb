{
 "cells": [
  {
   "cell_type": "code",
   "execution_count": 1,
   "metadata": {},
   "outputs": [],
   "source": [
    "from agent.base import Agent\n",
    "\n",
    "import gym\n",
    "import gym_gvgai\n",
    "\n",
    "import matplotlib.pyplot as plt\n",
    "\n",
    "# gym_gvgai.dir\n",
    "\n",
    "# %matplotlib inline\n",
    "# import gym\n",
    "# import gym_gvgai\n",
    "# import matplotlib.pyplot as plt\n",
    "# from IPython import display\n",
    "# def show_state(env, step=0, name=\"\", info=\"\"):\n",
    "#     plt.figure(10)\n",
    "#     plt.clf()\n",
    "#     plt.imshow(env.render(mode=\"rgb_array\"))\n",
    "#     plt.title(\"{} | Step: {} {}\".format(name, step, info))\n",
    "#     plt.axis('off')\n",
    "#     display.clear_output(wait=True)\n",
    "#     display.display(plt.gcf())"
   ]
  },
  {
   "cell_type": "code",
   "execution_count": 2,
   "metadata": {},
   "outputs": [],
   "source": [
    "import numpy as np\n",
    "from agent.base import simulate\n",
    "from generator.levels.base import _initialize\n",
    "from generator.levels.base import Generator"
   ]
  },
  {
   "cell_type": "code",
   "execution_count": 3,
   "metadata": {},
   "outputs": [
    {
     "data": {
      "text/plain": [
       "'/home/aadharna/miniconda3/envs/thesis/lib/python3.7/site-packages/GVGAI_GYM/gym_gvgai'"
      ]
     },
     "execution_count": 3,
     "metadata": {},
     "output_type": "execute_result"
    }
   ],
   "source": [
    "gym_gvgai.dir"
   ]
  },
  {
   "cell_type": "code",
   "execution_count": 4,
   "metadata": {},
   "outputs": [
    {
     "data": {
      "text/plain": [
       "['_zelda_lvl0.txt',\n",
       " 'zelda.txt',\n",
       " 'zelda_lvl0.txt',\n",
       " 'zelda_lvl1.txt',\n",
       " 'zelda_lvl2.txt',\n",
       " 'zelda_lvl3.txt',\n",
       " 'zelda_lvl4.txt']"
      ]
     },
     "execution_count": 4,
     "metadata": {},
     "output_type": "execute_result"
    }
   ],
   "source": [
    "import os\n",
    "sorted(os.listdir(os.path.join(gym_gvgai.dir, 'envs/games/zelda_v0')))"
   ]
  },
  {
   "cell_type": "code",
   "execution_count": 5,
   "metadata": {},
   "outputs": [],
   "source": [
    "# for f in sorted(os.listdir(os.path.join(gym_gvgai.dir, 'envs/games/zelda_v0/levels'))):\n",
    "#     os.remove(os.path.join(gym_gvgai.dir, f'envs/games/zelda_v0/levels/{f}'))\n",
    "\n",
    "# os.rmdir(os.path.join(gym_gvgai.dir, 'envs/games/zelda_v0/levels'))"
   ]
  },
  {
   "cell_type": "code",
   "execution_count": 6,
   "metadata": {},
   "outputs": [],
   "source": [
    "from generator.env_gen_wrapper import GridGame"
   ]
  },
  {
   "cell_type": "code",
   "execution_count": 7,
   "metadata": {},
   "outputs": [
    {
     "name": "stdout",
     "output_type": "stream",
     "text": [
      "Connecting to host 127.0.0.1 at port 59683 ...\n",
      "Client connected to server [OK]\n"
     ]
    }
   ],
   "source": [
    "x = Agent(GridGame(game='zelda', \n",
    "             play_length=250, \n",
    "             path=gym_gvgai.dir + '/envs/games/zelda_v0/', \n",
    "             lvl_name='zelda_lvl0.txt', \n",
    "             id=0)\n",
    "         )"
   ]
  },
  {
   "cell_type": "code",
   "execution_count": 8,
   "metadata": {},
   "outputs": [
    {
     "name": "stdout",
     "output_type": "stream",
     "text": [
      "wwwwwwwwwwwww\n",
      "wA........+.w\n",
      "w...........w\n",
      "w...........w\n",
      "w...........w\n",
      "w...........w\n",
      "w...........w\n",
      "wg..........w\n",
      "wwwwwwwwwwwww\n",
      "\n"
     ]
    }
   ],
   "source": [
    "print(str(x.env.generator))"
   ]
  },
  {
   "cell_type": "code",
   "execution_count": 9,
   "metadata": {},
   "outputs": [
    {
     "data": {
      "text/plain": [
       "<matplotlib.image.AxesImage at 0x7ad6f6ee53c8>"
      ]
     },
     "execution_count": 9,
     "metadata": {},
     "output_type": "execute_result"
    },
    {
     "data": {
      "image/png": "[encoded data removed]",
      "text/plain": [
       "<Figure size 432x288 with 1 Axes>"
      ]
     },
     "metadata": {
      "needs_background": "light"
     },
     "output_type": "display_data"
    }
   ],
   "source": [
    "plt.imshow(x.env.env.reset())\n",
    "#  agent.GridGame.env.reset()"
   ]
  },
  {
   "cell_type": "code",
   "execution_count": 10,
   "metadata": {},
   "outputs": [
    {
     "data": {
      "text/plain": [
       "'/home/aadharna/miniconda3/envs/thesis/lib/python3.7/site-packages/GVGAI_GYM/gym_gvgai/envs/games/zelda_v0/levels/zelda_id:0_g:0.txt'"
      ]
     },
     "execution_count": 10,
     "metadata": {},
     "output_type": "execute_result"
    }
   ],
   "source": [
    "x.env.generator.path_to_file"
   ]
  },
  {
   "cell_type": "code",
   "execution_count": 11,
   "metadata": {},
   "outputs": [],
   "source": [
    "from agent.base import simulate"
   ]
  },
  {
   "cell_type": "code",
   "execution_count": 12,
   "metadata": {},
   "outputs": [],
   "source": [
    "import numpy as np"
   ]
  },
  {
   "cell_type": "code",
   "execution_count": 13,
   "metadata": {},
   "outputs": [],
   "source": [
    "x.env.generator.mutate(0.2)"
   ]
  },
  {
   "cell_type": "code",
   "execution_count": 14,
   "metadata": {},
   "outputs": [],
   "source": [
    "l = x.env.reset()"
   ]
  },
  {
   "cell_type": "code",
   "execution_count": 15,
   "metadata": {},
   "outputs": [
    {
     "data": {
      "text/plain": [
       "<matplotlib.image.AxesImage at 0x7ad6f6e80438>"
      ]
     },
     "execution_count": 15,
     "metadata": {},
     "output_type": "execute_result"
    },
    {
     "data": {
      "image/png": "[encoded data removed]",
      "text/plain": [
       "<Figure size 432x288 with 1 Axes>"
      ]
     },
     "metadata": {
      "needs_background": "light"
     },
     "output_type": "display_data"
    }
   ],
   "source": [
    "plt.imshow(x.env.env.reset())"
   ]
  },
  {
   "cell_type": "code",
   "execution_count": null,
   "metadata": {},
   "outputs": [],
   "source": []
  },
  {
   "cell_type": "code",
   "execution_count": 16,
   "metadata": {},
   "outputs": [
    {
     "name": "stdout",
     "output_type": "stream",
     "text": [
      "running agent\n",
      "evaluating agent\n",
      "step: 0, action: 2, done: False, reward: 0.0\n",
      "step: 1, action: 2, done: False, reward: 0.0\n",
      "step: 2, action: 4, done: False, reward: 0.0\n",
      "step: 3, action: 0, done: False, reward: 0.0\n",
      "step: 4, action: 3, done: False, reward: 0.0\n",
      "step: 5, action: 3, done: False, reward: 0.0\n",
      "step: 6, action: 2, done: False, reward: 0.0\n",
      "step: 7, action: 2, done: False, reward: 0.0\n",
      "step: 8, action: 0, done: False, reward: 0.0\n",
      "step: 9, action: 3, done: False, reward: 0.0\n",
      "step: 10, action: 3, done: False, reward: 0.0\n",
      "step: 11, action: 5, done: False, reward: 0.0\n",
      "step: 12, action: 3, done: False, reward: 0.0\n",
      "step: 13, action: 0, done: False, reward: 0.0\n",
      "step: 14, action: 2, done: False, reward: 0.0\n",
      "step: 15, action: 2, done: False, reward: 0.0\n",
      "step: 16, action: 0, done: False, reward: 0.0\n",
      "step: 17, action: 2, done: False, reward: 0.0\n",
      "step: 18, action: 3, done: False, reward: 0.0\n",
      "step: 19, action: 5, done: False, reward: 0.0\n",
      "step: 20, action: 0, done: False, reward: 0.0\n",
      "step: 21, action: 1, done: False, reward: 0.0\n",
      "step: 22, action: 1, done: False, reward: 0.0\n",
      "step: 23, action: 5, done: False, reward: 0.0\n",
      "step: 24, action: 2, done: False, reward: 0.0\n",
      "step: 25, action: 0, done: False, reward: 0.0\n",
      "step: 26, action: 5, done: False, reward: 0.0\n",
      "step: 27, action: 3, done: False, reward: 0.0\n",
      "step: 28, action: 2, done: False, reward: 0.0\n",
      "step: 29, action: 0, done: False, reward: 0.0\n",
      "step: 30, action: 5, done: False, reward: 0.0\n",
      "step: 31, action: 3, done: False, reward: 0.0\n",
      "step: 32, action: 0, done: False, reward: 0.0\n",
      "step: 33, action: 4, done: False, reward: 0.0\n",
      "step: 34, action: 1, done: False, reward: 0.0\n",
      "step: 35, action: 1, done: False, reward: 0.0\n",
      "step: 36, action: 2, done: False, reward: 0.0\n",
      "step: 37, action: 2, done: False, reward: 0.0\n",
      "step: 38, action: 1, done: False, reward: 0.0\n",
      "step: 39, action: 3, done: False, reward: 0.0\n",
      "step: 40, action: 0, done: False, reward: 0.0\n",
      "step: 41, action: 3, done: False, reward: 0.0\n",
      "step: 42, action: 4, done: False, reward: 0.0\n",
      "step: 43, action: 2, done: False, reward: 0.0\n",
      "step: 44, action: 4, done: False, reward: 0.0\n",
      "step: 45, action: 5, done: False, reward: 0.0\n",
      "step: 46, action: 4, done: False, reward: 0.0\n",
      "step: 47, action: 5, done: False, reward: 0.0\n",
      "step: 48, action: 2, done: False, reward: 0.0\n",
      "step: 49, action: 5, done: False, reward: 0.0\n",
      "step: 50, action: 2, done: False, reward: 0.0\n",
      "step: 51, action: 3, done: False, reward: 0.0\n",
      "step: 52, action: 2, done: False, reward: 0.0\n",
      "step: 53, action: 4, done: False, reward: 0.0\n",
      "step: 54, action: 4, done: False, reward: 0.0\n",
      "step: 55, action: 0, done: False, reward: 0.0\n",
      "step: 56, action: 0, done: False, reward: 0.0\n",
      "step: 57, action: 2, done: False, reward: 0.0\n",
      "step: 58, action: 4, done: False, reward: 0.0\n",
      "step: 59, action: 2, done: False, reward: 0.0\n",
      "step: 60, action: 3, done: False, reward: 0.0\n",
      "step: 61, action: 1, done: False, reward: 0.0\n",
      "step: 62, action: 3, done: False, reward: 0.0\n",
      "step: 63, action: 5, done: False, reward: 0.0\n",
      "step: 64, action: 1, done: False, reward: 0.0\n",
      "step: 65, action: 2, done: False, reward: 0.0\n",
      "step: 66, action: 3, done: False, reward: 0.0\n",
      "step: 67, action: 4, done: False, reward: 0.0\n",
      "step: 68, action: 1, done: False, reward: 0.0\n",
      "step: 69, action: 4, done: False, reward: 0.0\n",
      "step: 70, action: 3, done: False, reward: 0.0\n",
      "step: 71, action: 5, done: False, reward: 0.0\n",
      "step: 72, action: 1, done: False, reward: 0.0\n",
      "step: 73, action: 2, done: False, reward: 0.0\n",
      "step: 74, action: 3, done: False, reward: 0.0\n",
      "step: 75, action: 1, done: False, reward: 0.0\n",
      "step: 76, action: 4, done: False, reward: 0.0\n",
      "step: 77, action: 0, done: False, reward: 0.0\n",
      "step: 78, action: 1, done: False, reward: 0.0\n",
      "step: 79, action: 4, done: False, reward: 0.0\n",
      "step: 80, action: 2, done: False, reward: 0.0\n",
      "step: 81, action: 3, done: False, reward: 0.0\n",
      "step: 82, action: 5, done: False, reward: 0.0\n",
      "step: 83, action: 2, done: False, reward: 0.0\n",
      "step: 84, action: 2, done: False, reward: 0.0\n",
      "step: 85, action: 0, done: False, reward: 0.0\n",
      "step: 86, action: 3, done: False, reward: 0.0\n",
      "step: 87, action: 2, done: False, reward: 0.0\n",
      "step: 88, action: 3, done: False, reward: 0.0\n",
      "step: 89, action: 3, done: False, reward: 0.0\n",
      "step: 90, action: 1, done: False, reward: 0.0\n",
      "step: 91, action: 5, done: False, reward: 0.0\n",
      "step: 92, action: 5, done: False, reward: 0.0\n",
      "step: 93, action: 2, done: False, reward: 0.0\n",
      "step: 94, action: 5, done: False, reward: 0.0\n",
      "step: 95, action: 3, done: False, reward: 0.0\n",
      "step: 96, action: 4, done: False, reward: 0.0\n",
      "step: 97, action: 5, done: False, reward: 0.0\n",
      "step: 98, action: 3, done: False, reward: 0.0\n",
      "step: 99, action: 0, done: False, reward: 0.0\n",
      "step: 100, action: 2, done: False, reward: 0.0\n",
      "step: 101, action: 0, done: False, reward: 0.0\n",
      "step: 102, action: 0, done: False, reward: 0.0\n",
      "step: 103, action: 5, done: False, reward: 0.0\n",
      "step: 104, action: 0, done: False, reward: 0.0\n",
      "step: 105, action: 0, done: False, reward: 0.0\n",
      "step: 106, action: 2, done: False, reward: 0.0\n",
      "step: 107, action: 2, done: False, reward: 0.0\n",
      "step: 108, action: 2, done: False, reward: 0.0\n",
      "step: 109, action: 1, done: False, reward: 0.0\n",
      "step: 110, action: 0, done: False, reward: 0.0\n",
      "step: 111, action: 1, done: False, reward: 0.0\n",
      "step: 112, action: 4, done: False, reward: 0.0\n",
      "step: 113, action: 3, done: False, reward: 0.0\n",
      "step: 114, action: 3, done: False, reward: 0.0\n",
      "step: 115, action: 5, done: False, reward: 0.0\n",
      "step: 116, action: 2, done: False, reward: 0.0\n",
      "step: 117, action: 1, done: False, reward: 0.0\n",
      "step: 118, action: 1, done: False, reward: 0.0\n",
      "step: 119, action: 5, done: False, reward: 0.0\n",
      "step: 120, action: 2, done: False, reward: 0.0\n",
      "step: 121, action: 1, done: False, reward: 0.0\n",
      "step: 122, action: 1, done: False, reward: 0.0\n",
      "step: 123, action: 2, done: False, reward: 0.0\n",
      "step: 124, action: 3, done: False, reward: 0.0\n",
      "step: 125, action: 5, done: False, reward: 0.0\n",
      "step: 126, action: 3, done: False, reward: 0.0\n",
      "step: 127, action: 3, done: False, reward: 0.0\n",
      "step: 128, action: 0, done: False, reward: 0.0\n",
      "step: 129, action: 5, done: False, reward: 0.0\n",
      "step: 130, action: 2, done: False, reward: 0.0\n",
      "step: 131, action: 2, done: False, reward: 0.0\n",
      "step: 132, action: 0, done: False, reward: 0.0\n",
      "step: 133, action: 3, done: False, reward: 0.0\n",
      "step: 134, action: 5, done: False, reward: 0.0\n",
      "step: 135, action: 4, done: False, reward: 0.0\n",
      "step: 136, action: 5, done: False, reward: 0.0\n",
      "step: 137, action: 3, done: False, reward: 0.0\n",
      "step: 138, action: 1, done: False, reward: 0.0\n",
      "step: 139, action: 5, done: False, reward: 0.0\n",
      "step: 140, action: 1, done: False, reward: 0.0\n",
      "step: 141, action: 0, done: False, reward: 0.0\n",
      "step: 142, action: 2, done: False, reward: 0.0\n",
      "step: 143, action: 1, done: False, reward: 0.0\n",
      "step: 144, action: 4, done: False, reward: 0.0\n",
      "step: 145, action: 3, done: False, reward: 0.0\n",
      "step: 146, action: 5, done: False, reward: 0.0\n",
      "step: 147, action: 0, done: False, reward: 0.0\n",
      "step: 148, action: 3, done: False, reward: 0.0\n",
      "step: 149, action: 3, done: False, reward: 0.0\n",
      "step: 150, action: 5, done: False, reward: 0.0\n",
      "step: 151, action: 2, done: False, reward: 0.0\n",
      "step: 152, action: 0, done: False, reward: 0.0\n",
      "step: 153, action: 0, done: False, reward: 0.0\n",
      "step: 154, action: 1, done: False, reward: 0.0\n",
      "step: 155, action: 3, done: False, reward: 0.0\n",
      "step: 156, action: 2, done: False, reward: 0.0\n",
      "step: 157, action: 2, done: False, reward: 0.0\n",
      "step: 158, action: 0, done: False, reward: 0.0\n",
      "step: 159, action: 4, done: False, reward: 0.0\n",
      "step: 160, action: 2, done: False, reward: 0.0\n",
      "step: 161, action: 4, done: False, reward: 0.0\n",
      "step: 162, action: 2, done: False, reward: 0.0\n",
      "step: 163, action: 4, done: False, reward: 0.0\n",
      "step: 164, action: 5, done: False, reward: 0.0\n",
      "step: 165, action: 3, done: False, reward: 0.0\n",
      "step: 166, action: 0, done: False, reward: 0.0\n",
      "step: 167, action: 3, done: False, reward: 0.0\n",
      "step: 168, action: 4, done: False, reward: 0.0\n",
      "step: 169, action: 4, done: False, reward: 0.0\n",
      "step: 170, action: 1, done: False, reward: 0.0\n",
      "step: 171, action: 3, done: False, reward: 0.0\n",
      "step: 172, action: 2, done: False, reward: 0.0\n",
      "step: 173, action: 2, done: False, reward: 0.0\n",
      "step: 174, action: 4, done: False, reward: 0.0\n",
      "step: 175, action: 4, done: False, reward: 0.0\n",
      "step: 176, action: 0, done: False, reward: 0.0\n",
      "step: 177, action: 4, done: False, reward: 0.0\n"
     ]
    },
    {
     "name": "stdout",
     "output_type": "stream",
     "text": [
      "step: 178, action: 0, done: False, reward: 0.0\n",
      "step: 179, action: 5, done: False, reward: 0.0\n",
      "step: 180, action: 5, done: False, reward: 0.0\n",
      "step: 181, action: 2, done: False, reward: 0.0\n",
      "step: 182, action: 0, done: False, reward: 0.0\n",
      "step: 183, action: 4, done: False, reward: 0.0\n",
      "step: 184, action: 1, done: False, reward: 0.0\n",
      "step: 185, action: 0, done: False, reward: 0.0\n",
      "step: 186, action: 3, done: False, reward: 0.0\n",
      "step: 187, action: 2, done: False, reward: 0.0\n",
      "step: 188, action: 5, done: False, reward: 0.0\n",
      "step: 189, action: 2, done: False, reward: 0.0\n",
      "step: 190, action: 5, done: False, reward: 0.0\n",
      "step: 191, action: 3, done: False, reward: 0.0\n",
      "step: 192, action: 5, done: False, reward: 0.0\n",
      "step: 193, action: 4, done: False, reward: 0.0\n",
      "step: 194, action: 4, done: False, reward: 0.0\n",
      "step: 195, action: 1, done: False, reward: 0.0\n",
      "step: 196, action: 4, done: False, reward: 0.0\n",
      "step: 197, action: 0, done: False, reward: 0.0\n",
      "step: 198, action: 2, done: False, reward: 0.0\n",
      "step: 199, action: 2, done: False, reward: 0.0\n",
      "step: 200, action: 1, done: False, reward: 0.0\n",
      "step: 201, action: 2, done: False, reward: 0.0\n",
      "step: 202, action: 5, done: False, reward: 0.0\n",
      "step: 203, action: 0, done: False, reward: 0.0\n",
      "step: 204, action: 4, done: False, reward: 0.0\n",
      "step: 205, action: 4, done: False, reward: 0.0\n",
      "step: 206, action: 1, done: False, reward: 0.0\n",
      "step: 207, action: 4, done: False, reward: 0.0\n",
      "step: 208, action: 4, done: False, reward: 0.0\n",
      "step: 209, action: 2, done: False, reward: 0.0\n",
      "step: 210, action: 3, done: False, reward: 0.0\n",
      "step: 211, action: 0, done: False, reward: 0.0\n",
      "step: 212, action: 5, done: False, reward: 0.0\n",
      "step: 213, action: 5, done: False, reward: 0.0\n",
      "step: 214, action: 4, done: False, reward: 0.0\n",
      "step: 215, action: 5, done: False, reward: 0.0\n",
      "step: 216, action: 5, done: False, reward: 0.0\n",
      "step: 217, action: 2, done: False, reward: 0.0\n",
      "step: 218, action: 2, done: False, reward: 0.0\n",
      "step: 219, action: 3, done: False, reward: 0.0\n",
      "step: 220, action: 0, done: False, reward: 0.0\n",
      "step: 221, action: 3, done: False, reward: 0.0\n",
      "step: 222, action: 2, done: False, reward: 0.0\n",
      "step: 223, action: 4, done: False, reward: 0.0\n",
      "step: 224, action: 1, done: False, reward: 0.0\n",
      "step: 225, action: 1, done: False, reward: 0.0\n",
      "step: 226, action: 4, done: False, reward: 0.0\n",
      "step: 227, action: 1, done: False, reward: 0.0\n",
      "step: 228, action: 3, done: False, reward: 0.0\n",
      "step: 229, action: 4, done: False, reward: 0.0\n",
      "step: 230, action: 2, done: False, reward: 0.0\n",
      "step: 231, action: 4, done: False, reward: 0.0\n",
      "step: 232, action: 4, done: False, reward: 0.0\n",
      "step: 233, action: 4, done: False, reward: 0.0\n",
      "step: 234, action: 2, done: False, reward: 0.0\n",
      "step: 235, action: 0, done: False, reward: 0.0\n",
      "step: 236, action: 1, done: False, reward: 0.0\n",
      "step: 237, action: 0, done: False, reward: 0.0\n",
      "step: 238, action: 0, done: False, reward: 0.0\n",
      "step: 239, action: 0, done: False, reward: 0.0\n",
      "step: 240, action: 2, done: False, reward: 0.0\n",
      "step: 241, action: 1, done: False, reward: 0.0\n",
      "step: 242, action: 5, done: False, reward: 0.0\n",
      "step: 243, action: 2, done: False, reward: 0.0\n",
      "step: 244, action: 5, done: False, reward: 0.0\n",
      "step: 245, action: 4, done: False, reward: 0.0\n",
      "step: 246, action: 0, done: False, reward: 0.0\n",
      "step: 247, action: 4, done: False, reward: 0.0\n",
      "step: 248, action: 0, done: False, reward: 0.0\n",
      "step: 249, action: 2, done: False, reward: 0.0\n",
      "lived until end of env: +1.0\n",
      "step: 250, action: 2, done: True, reward: 1.0\n"
     ]
    }
   ],
   "source": [
    "x.fitness()"
   ]
  },
  {
   "cell_type": "code",
   "execution_count": 17,
   "metadata": {},
   "outputs": [
    {
     "data": {
      "text/plain": [
       "0.01"
      ]
     },
     "execution_count": 17,
     "metadata": {},
     "output_type": "execute_result"
    }
   ],
   "source": [
    "x.env._fit"
   ]
  },
  {
   "cell_type": "code",
   "execution_count": 18,
   "metadata": {},
   "outputs": [],
   "source": [
    "x.env.generator.cleanup()"
   ]
  },
  {
   "cell_type": "code",
   "execution_count": null,
   "metadata": {},
   "outputs": [],
   "source": []
  },
  {
   "cell_type": "code",
   "execution_count": null,
   "metadata": {},
   "outputs": [],
   "source": [
    "population = [None]*5\n",
    "\n",
    "for i in range(len(population)):\n",
    "    population[i] = Agent(GridGame(game='zelda', \n",
    "                                     play_length=250, \n",
    "                                     path=gym_gvgai.dir + '/envs/games/zelda_v0/', \n",
    "                                     lvl_name='zelda_lvl0.txt', \n",
    "                                     id=i)\n",
    "                                 )"
   ]
  },
  {
   "cell_type": "code",
   "execution_count": null,
   "metadata": {},
   "outputs": [],
   "source": []
  },
  {
   "cell_type": "code",
   "execution_count": null,
   "metadata": {},
   "outputs": [],
   "source": [
    "for i in range(len(population)):\n",
    "    population[i].env.generator.cleanup()\n",
    "    population[i].env.close()"
   ]
  }
 ],
 "metadata": {
  "kernelspec": {
   "display_name": "Python 3",
   "language": "python",
   "name": "python3"
  },
  "language_info": {
   "codemirror_mode": {
    "name": "ipython",
    "version": 3
   },
   "file_extension": ".py",
   "mimetype": "text/x-python",
   "name": "python",
   "nbconvert_exporter": "python",
   "pygments_lexer": "ipython3",
   "version": "3.7.3"
  }
 },
 "nbformat": 4,
 "nbformat_minor": 2
}
